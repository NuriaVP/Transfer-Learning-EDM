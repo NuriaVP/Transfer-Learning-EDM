{
 "cells": [
  {
   "cell_type": "markdown",
   "id": "3d8c6fb5",
   "metadata": {},
   "source": [
    "**Importing packages**"
   ]
  },
  {
   "cell_type": "code",
   "execution_count": 2,
   "id": "af55fbdc",
   "metadata": {},
   "outputs": [
    {
     "name": "stdout",
     "output_type": "stream",
     "text": [
      "Collecting tf-explain\n",
      "  Downloading tf_explain-0.3.1-py3-none-any.whl (43 kB)\n",
      "Installing collected packages: tf-explain\n",
      "Successfully installed tf-explain-0.3.1\n",
      "Note: you may need to restart the kernel to use updated packages.\n"
     ]
    }
   ],
   "source": [
    "pip install tf-explain"
   ]
  },
  {
   "cell_type": "code",
   "execution_count": 3,
   "id": "7f91ea0a",
   "metadata": {},
   "outputs": [],
   "source": [
    "#import libraries\n",
    "import numpy as np\n",
    "import tensorflow as tf\n",
    "import matplotlib.pyplot as plt\n",
    "from tf_explain.core.activations import ExtractActivations\n",
    "from tensorflow.keras.applications.xception import decode_predictions\n",
    "%matplotlib inline"
   ]
  },
  {
   "cell_type": "markdown",
   "id": "4ed76715",
   "metadata": {},
   "source": [
    "**Loading Pretrained Model**"
   ]
  },
  {
   "cell_type": "code",
   "execution_count": 4,
   "id": "debcad8a",
   "metadata": {},
   "outputs": [
    {
     "name": "stdout",
     "output_type": "stream",
     "text": [
      "Downloading data from https://storage.googleapis.com/tensorflow/keras-applications/xception/xception_weights_tf_dim_ordering_tf_kernels.h5\n",
      "91884032/91884032 [==============================] - 605s 7us/step\n",
      "<bound method Model.summary of <keras.engine.functional.Functional object at 0x0000017F74A0E730>>\n"
     ]
    }
   ],
   "source": [
    "#load pre trained Xception model\n",
    "model=tf.keras.applications.xception.Xception(weights='imagenet',include_top=True)\n",
    "#Summary of Xception Model\n",
    "print(model.summary)"
   ]
  },
  {
   "cell_type": "markdown",
   "id": "642f87df",
   "metadata": {},
   "source": [
    "**Prediction of objects in the Image**"
   ]
  },
  {
   "cell_type": "code",
   "execution_count": 6,
   "id": "abfa2009",
   "metadata": {},
   "outputs": [
    {
     "ename": "NameError",
     "evalue": "name 'img' is not defined",
     "output_type": "error",
     "traceback": [
      "\u001b[1;31m---------------------------------------------------------------------------\u001b[0m",
      "\u001b[1;31mNameError\u001b[0m                                 Traceback (most recent call last)",
      "Input \u001b[1;32mIn [6]\u001b[0m, in \u001b[0;36m<cell line: 7>\u001b[1;34m()\u001b[0m\n\u001b[0;32m      5\u001b[0m imgnet_map\u001b[38;5;241m=\u001b[39m{v[\u001b[38;5;241m1\u001b[39m]:k \u001b[38;5;28;01mfor\u001b[39;00m k, v \u001b[38;5;129;01min\u001b[39;00m imgnet_map\u001b[38;5;241m.\u001b[39mitems()}\n\u001b[0;32m      6\u001b[0m \u001b[38;5;66;03m#make model predictions\u001b[39;00m\n\u001b[1;32m----> 7\u001b[0m img\u001b[38;5;241m=\u001b[39mtf\u001b[38;5;241m.\u001b[39mkeras\u001b[38;5;241m.\u001b[39mapplications\u001b[38;5;241m.\u001b[39mxception\u001b[38;5;241m.\u001b[39mpreprocess_input(\u001b[43mimg\u001b[49m)\n\u001b[0;32m      8\u001b[0m predictions\u001b[38;5;241m=\u001b[39mmodel\u001b[38;5;241m.\u001b[39mpredict(np\u001b[38;5;241m.\u001b[39marray([img]))\n\u001b[0;32m      9\u001b[0m decode_predictions(predictions,top\u001b[38;5;241m=\u001b[39m\u001b[38;5;241m5\u001b[39m)\n",
      "\u001b[1;31mNameError\u001b[0m: name 'img' is not defined"
     ]
    }
   ],
   "source": [
    "import requests\n",
    "#fetching labels from Imagenet  \n",
    "response=requests.get('https://storage.googleapis.com/download.tensorflow.org/data/imagenet_class_index.json')\n",
    "imgnet_map=response.json()\n",
    "imgnet_map={v[1]:k for k, v in imgnet_map.items()}\n",
    "#make model predictions\n",
    "img=tf.keras.applications.xception.preprocess_input(img)\n",
    "predictions=model.predict(np.array([img]))\n",
    "decode_predictions(predictions,top=5)"
   ]
  },
  {
   "cell_type": "code",
   "execution_count": null,
   "id": "470e3f68",
   "metadata": {},
   "outputs": [],
   "source": []
  }
 ],
 "metadata": {
  "kernelspec": {
   "display_name": "Python 3 (ipykernel)",
   "language": "python",
   "name": "python3"
  },
  "language_info": {
   "codemirror_mode": {
    "name": "ipython",
    "version": 3
   },
   "file_extension": ".py",
   "mimetype": "text/x-python",
   "name": "python",
   "nbconvert_exporter": "python",
   "pygments_lexer": "ipython3",
   "version": "3.9.12"
  }
 },
 "nbformat": 4,
 "nbformat_minor": 5
}

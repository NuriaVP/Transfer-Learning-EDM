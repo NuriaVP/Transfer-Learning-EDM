{
 "cells": [
  {
   "cell_type": "code",
   "execution_count": 1,
   "id": "11c11ac4",
   "metadata": {},
   "outputs": [],
   "source": [
    "import os\n",
    "import cv2\n",
    "import seaborn as sn \n",
    "import matplotlib.pyplot as plt\n",
    "import tensorflow as tf\n",
    "from tensorflow import keras\n",
    "from tensorflow.keras import layers\n",
    "import random\n",
    "import numpy as np\n",
    "import glob as glob\n",
    "from sklearn.model_selection import train_test_split\n",
    "import csv\n",
    "import pandas as pd\n",
    "from sklearn.metrics import confusion_matrix, classification_report  \n",
    "from sklearn.metrics import balanced_accuracy_score\n",
    "from sklearn.metrics import f1_score\n",
    "from sklearn.metrics import roc_auc_score\n",
    "from sklearn.utils import class_weight\n",
    "from tensorflow.keras.utils import to_categorical\n",
    "from tensorflow.keras.applications.vgg16 import VGG16\n",
    "from tensorflow.keras.applications.vgg16 import preprocess_input\n",
    "from sklearn.utils import class_weight\n",
    "from sklearn.metrics import f1_score\n",
    "from sklearn.metrics import roc_auc_score\n",
    "from tensorflow.keras import layers, models\n",
    "from tensorflow.keras.callbacks import EarlyStopping\n",
    "from sklearn.metrics import f1_score\n",
    "from sklearn.metrics import confusion_matrix\n",
    "from keras.applications.vgg19 import VGG19\n",
    "from keras.applications import Xception\n",
    "from keras.applications import ResNet50V2\n",
    "from keras.applications import ResNet101\n",
    "from keras.applications import ResNet152\n",
    "from keras.applications import InceptionV3\n",
    "from keras.applications import InceptionResNetV2\n",
    "from keras.applications import MobileNet\n",
    "from keras.applications import DenseNet121\n",
    "from keras.applications import DenseNet201\n",
    "from keras.applications import EfficientNetB0"
   ]
  },
  {
   "cell_type": "code",
   "execution_count": null,
   "id": "73b8b5b2",
   "metadata": {},
   "outputs": [],
   "source": [
    "color = 'rgb' #'grayscale' o 'rgb'\n",
    "\n",
    "escala = 752\n",
    "\n",
    "preprocesamiento = 'si'"
   ]
  },
  {
   "cell_type": "code",
   "execution_count": null,
   "id": "61166883",
   "metadata": {},
   "outputs": [],
   "source": [
    "def cargar_datos(path1, path2, escala = escala, color = color):\n",
    "    \n",
    "    EMD = os.listdir(path1)\n",
    "    NO_EMD = os.listdir(path2)\n",
    "    \n",
    "    data = []\n",
    "    labels = []\n",
    "\n",
    "    for i in EMD:   \n",
    "        image=tf.keras.preprocessing.image.load_img(path1+'/'+i, color_mode= color, \n",
    "        target_size= (escala, escala))\n",
    "        image=np.array(image)\n",
    "        data.append(image)\n",
    "        labels.append(1)\n",
    "    for i in NO_EMD:   \n",
    "        image=tf.keras.preprocessing.image.load_img(path2+'/'+i, color_mode= color, \n",
    "        target_size= (escala, escala))\n",
    "        image=np.array(image)\n",
    "        data.append(image)\n",
    "        labels.append(0)\n",
    "        \n",
    "    data = np.array(data)\n",
    "    labels = np.array(labels)\n",
    "    \n",
    "    return data, labels"
   ]
  },
  {
   "cell_type": "code",
   "execution_count": null,
   "id": "2a5651ea",
   "metadata": {},
   "outputs": [],
   "source": [
    "dataset_iphone_no = cargar_datos('Datos INP EMD/iPhone/EMD', 'Datos INP EMD/iPhone/NO EMD')\n",
    "\n",
    "dataset_samsung_no = cargar_datos('Datos INP EMD/Samsung/EMD', 'Datos INP EMD/Samsung/NO EMD')\n",
    "\n",
    "dataset_no = cargar_datos('Datos INP EMD/OCT/EMD', 'Datos INP EMD/OCT/NO EMD')\n",
    "\n",
    "dataset_messidor_no = cargar_datos('Datos INP EMD/MESSIDOR/EMD', 'Datos INP EMD/MESSIDOR/NO EMD')"
   ]
  },
  {
   "cell_type": "code",
   "execution_count": null,
   "id": "7ca33a24",
   "metadata": {},
   "outputs": [],
   "source": [
    "dataset_iphone_si = cargar_datos('Datos preprocesados INP EMD/iPhone/EMD', 'Datos preprocesados INP EMD/iPhone/NO EMD')\n",
    "\n",
    "dataset_samsung_si = cargar_datos('Datos preprocesados INP EMD/Samsung/EMD', 'Datos preprocesados INP EMD/Samsung/NO EMD')\n",
    "\n",
    "dataset_si = cargar_datos('Datos preprocesados INP EMD/OCT/EMD', 'Datos preprocesados INP EMD/OCT/NO EMD')\n",
    "\n",
    "dataset_messidor_si = cargar_datos('Datos preprocesados INP EMD/MESSIDOR/EMD', 'Datos preprocesados INP EMD/MESSIDOR/NO EMD')"
   ]
  },
  {
   "cell_type": "code",
   "execution_count": null,
   "id": "371808bd",
   "metadata": {},
   "outputs": [],
   "source": [
    "def transferLearning(test, red, preprocesamiento):\n",
    "    \n",
    "    #Definir conjuntos de datos train y test\n",
    "    \n",
    "    if test=='iphone' and preprocesamiento='si':\n",
    "        \n",
    "        train_ds = np.concatenate((dataset_si[0],dataset_messidor_si[0]))\n",
    "        train_labels = np.concatenate((dataset_si[1],dataset_messidor_si[1]))\n",
    "        \n",
    "        test_ds = dataset_iphone_si[0]\n",
    "        test_labels = dataset_iphone_si[1]\n",
    "        \n",
    "    elif test=='samsung' and preprocesamiento='si':\n",
    "        \n",
    "        train_ds = np.concatenate((dataset_si[0],dataset_messidor_si[0]))\n",
    "        train_labels = np.concatenate((dataset_si[1],dataset_messidor_si[1]))\n",
    "        \n",
    "        test_ds = dataset_samsung_si[0]\n",
    "        test_labels = dataset_samsung_si[1]\n",
    "        \n",
    "    elif test=='iphone' and preprocesamiento='no':\n",
    "        \n",
    "        train_ds = np.concatenate((dataset_no[0],dataset_messidor_no[0]))\n",
    "        train_labels = np.concatenate((dataset_no[1],dataset_messidor_no[1]))\n",
    "        \n",
    "        test_ds = dataset_iphone_no[0]\n",
    "        test_labels = dataset_iphone_no[1]\n",
    "\n",
    "    elif test=='samsung' and preprocesamiento='no':\n",
    "        \n",
    "        train_ds = np.concatenate((dataset_no[0],dataset_messidor_no[0]))\n",
    "        train_labels = np.concatenate((dataset_no[1],dataset_messidor_no[1]))\n",
    "        \n",
    "        test_ds = dataset_samsung_no[0]\n",
    "        test_labels = dataset_samsung_no[1]\n",
    "    \n",
    "    train_labels_categorical = to_categorical(train_labels, num_classes=2)\n",
    "    test_labels_categorical = to_categorical(test_labels, num_classes=2)\n",
    "    \n",
    "    #Definir modelo de transfer learning\n",
    "    base_model = red(weights=None, include_top=False, input_shape=train_ds[0].shape)\n",
    "    base_model.load_weights('Pesos/' + str(red).split(' ')[1] + '.h5')\n",
    "    base_model.trainable = False ## Not trainable weights\n",
    "\n",
    "    #Preprocessing input\n",
    "    train_ds = preprocess_input(train_ds) \n",
    "    test_ds = preprocess_input(test_ds)\n",
    "    \n",
    "    #Definir fine tunning\n",
    "    flatten_layer = layers.Flatten()\n",
    "    dense_layer_1 = layers.Dense(50, activation='relu')\n",
    "    dense_layer_2 = layers.Dense(20, activation='relu')\n",
    "    prediction_layer = layers.Dense(2, activation='softmax')\n",
    "\n",
    "\n",
    "    model = models.Sequential([\n",
    "        base_model,\n",
    "        flatten_layer,\n",
    "        dense_layer_1,\n",
    "        dense_layer_2,\n",
    "        prediction_layer\n",
    "    ])\n",
    "    \n",
    "    #Definir compensador de pesos\n",
    "    classes = np.unique(train_labels)\n",
    "    class_weights = class_weight.compute_class_weight('balanced', classes=classes, y=train_labels)\n",
    "    dic_class_weights = {0:class_weights[0], 1:class_weights[1]}\n",
    "    \n",
    "    #Entrenar el modelo\n",
    "    model.compile(\n",
    "    optimizer='adam',\n",
    "    loss='categorical_crossentropy',\n",
    "    metrics=['accuracy'],\n",
    "    )\n",
    "\n",
    "    es = EarlyStopping(monitor='val_accuracy', mode='max', patience=20,  restore_best_weights=True)\n",
    "\n",
    "    history = model.fit(train_ds, train_labels_categorical, epochs=200, validation_split=0.2, batch_size=64, callbacks=[es], class_weight=dic_class_weights)\n",
    "    \n",
    "    #Métricas de evaluación\n",
    "    print(\"Estoy evaluando el modelo\"+red+\"utilizando datos de test de\"+test)\n",
    "    \n",
    "    score_test = model.evaluate(x=test_ds, y=test_labels_categorical, verbose = 0)\n",
    "    print(\"Test loss:\", score_test[0])\n",
    "    print(\"Test accuracy:\", score_test[1])\n",
    "    \n",
    "    predictions = model.predict(test_ds)\n",
    "    roc_score = roc_auc_score(test_labels_categorical, predictions, multi_class='ovr')\n",
    "    print(\"AUC score:\", roc_score)\n",
    "    \n",
    "    labels_predict = []\n",
    "    for e in predictions:\n",
    "        if e[0]>e[1]:\n",
    "            labels_predict.append(0)\n",
    "        else:\n",
    "            labels_predict.append(1)\n",
    "        \n",
    "    f1 = f1_score(test_labels, labels_predict, average='weighted')\n",
    "    print(\"f1-score\", f1)\n",
    "    \n",
    "    matriz = confusion_matrix(test_labels, labels_predict)\n",
    "    print(\"Matriz de confusión\", matriz)\n",
    "    \n",
    "    return history"
   ]
  },
  {
   "cell_type": "code",
   "execution_count": null,
   "id": "14bcf6f7",
   "metadata": {},
   "outputs": [],
   "source": [
    "history_vgg16 = transferLearning('iphone', VGG16, preprocesamiento)"
   ]
  },
  {
   "cell_type": "code",
   "execution_count": null,
   "id": "2e073a00",
   "metadata": {},
   "outputs": [],
   "source": [
    "history_vgg16_bis = transferLearning('samsung', VGG16, preprocesamiento)"
   ]
  },
  {
   "cell_type": "code",
   "execution_count": null,
   "id": "24ef4354",
   "metadata": {},
   "outputs": [],
   "source": [
    "history_vgg19 = transferLearning('iphone', VGG19, preprocesamiento)"
   ]
  },
  {
   "cell_type": "code",
   "execution_count": null,
   "id": "9099e841",
   "metadata": {},
   "outputs": [],
   "source": [
    "history_vgg19_bis = transferLearning('samsung', VGG19, preprocesamiento)"
   ]
  },
  {
   "cell_type": "code",
   "execution_count": null,
   "id": "3f65ebab",
   "metadata": {},
   "outputs": [],
   "source": [
    "history_xception = transferLearning('iphone', Xception, preprocesamiento)"
   ]
  },
  {
   "cell_type": "code",
   "execution_count": null,
   "id": "60cd9308",
   "metadata": {},
   "outputs": [],
   "source": [
    "history_xception_bis = transferLearning('samsung', Xception, preprocesamiento)"
   ]
  },
  {
   "cell_type": "code",
   "execution_count": null,
   "id": "216c8987",
   "metadata": {},
   "outputs": [],
   "source": [
    "history_resnet50v2 = transferLearning('iphone', ResNet50V2, preprocesamiento)"
   ]
  },
  {
   "cell_type": "code",
   "execution_count": null,
   "id": "66667c43",
   "metadata": {},
   "outputs": [],
   "source": [
    "history_resnet50v2_bis = transferLearning('samsung', ResNet50V2, preprocesamiento)"
   ]
  },
  {
   "cell_type": "code",
   "execution_count": null,
   "id": "5e72a5f1",
   "metadata": {},
   "outputs": [],
   "source": [
    "history_resnet101 = transferLearning('iphone', ResNet101, preprocesamiento)"
   ]
  },
  {
   "cell_type": "code",
   "execution_count": null,
   "id": "96415e34",
   "metadata": {},
   "outputs": [],
   "source": [
    "history_resnet101_bis = transferLearning('samsung', ResNet101, preprocesamiento)"
   ]
  },
  {
   "cell_type": "code",
   "execution_count": null,
   "id": "4b17eacb",
   "metadata": {},
   "outputs": [],
   "source": [
    "history_resnet152 = transferLearning('iphone', ResNet152, preprocesamiento)"
   ]
  },
  {
   "cell_type": "code",
   "execution_count": null,
   "id": "fd25fbe3",
   "metadata": {},
   "outputs": [],
   "source": [
    "history_resnet152_bis = transferLearning('samsung', ResNet152, preprocesamiento)"
   ]
  },
  {
   "cell_type": "code",
   "execution_count": null,
   "id": "dbcf75a8",
   "metadata": {},
   "outputs": [],
   "source": [
    "history_inceptionv3 = transferLearning('iphone', InceptionV3, preprocesamiento)"
   ]
  },
  {
   "cell_type": "code",
   "execution_count": null,
   "id": "5b00b5e6",
   "metadata": {},
   "outputs": [],
   "source": [
    "history_inceptionv3_bis = transferLearning('samsung', InceptionV3, preprocesamiento)"
   ]
  },
  {
   "cell_type": "code",
   "execution_count": null,
   "id": "4de59496",
   "metadata": {},
   "outputs": [],
   "source": [
    "history_InceptionResNetV2 = transferLearning('iphone', InceptionResNetV2, preprocesamiento)"
   ]
  },
  {
   "cell_type": "code",
   "execution_count": null,
   "id": "66e4dec4",
   "metadata": {},
   "outputs": [],
   "source": [
    "history_InceptionResNetV2_bis = transferLearning('samsung', InceptionResNetV2, preprocesamiento)"
   ]
  },
  {
   "cell_type": "code",
   "execution_count": null,
   "id": "2220d900",
   "metadata": {},
   "outputs": [],
   "source": [
    "history_MobileNet = transferLearning('iphone', MobileNet, preprocesamiento)"
   ]
  },
  {
   "cell_type": "code",
   "execution_count": null,
   "id": "87c3fe28",
   "metadata": {},
   "outputs": [],
   "source": [
    "history_MobileNet_bis = transferLearning('samsung', MobileNet, preprocesamiento)"
   ]
  },
  {
   "cell_type": "code",
   "execution_count": null,
   "id": "59205dba",
   "metadata": {},
   "outputs": [],
   "source": [
    "history_DenseNet121 = transferLearning('iphone', DenseNet121, preprocesamiento)"
   ]
  },
  {
   "cell_type": "code",
   "execution_count": null,
   "id": "3661ca56",
   "metadata": {},
   "outputs": [],
   "source": [
    "history_DenseNet121_bis = transferLearning('samsung', DenseNet121, preprocesamiento)"
   ]
  },
  {
   "cell_type": "code",
   "execution_count": null,
   "id": "a90826b7",
   "metadata": {},
   "outputs": [],
   "source": [
    "history_DenseNet201 = transferLearning('iphone', DenseNet201, preprocesamiento)"
   ]
  },
  {
   "cell_type": "code",
   "execution_count": null,
   "id": "dcfe4982",
   "metadata": {},
   "outputs": [],
   "source": [
    "history_DenseNet201_bis = transferLearning('samsung', DenseNet201, preprocesamiento)"
   ]
  },
  {
   "cell_type": "code",
   "execution_count": null,
   "id": "fc6fc355",
   "metadata": {},
   "outputs": [],
   "source": [
    "history_EfficientNetB0 = transferLearning('iphone', EfficientNetB0, preprocesamiento)"
   ]
  },
  {
   "cell_type": "code",
   "execution_count": null,
   "id": "edaf9d47",
   "metadata": {},
   "outputs": [],
   "source": [
    "history_EfficientNetB0_bis = transferLearning('samsung', EfficientNetB0, preprocesamiento)"
   ]
  }
 ],
 "metadata": {
  "kernelspec": {
   "display_name": "Python 3 (ipykernel)",
   "language": "python",
   "name": "python3"
  },
  "language_info": {
   "codemirror_mode": {
    "name": "ipython",
    "version": 3
   },
   "file_extension": ".py",
   "mimetype": "text/x-python",
   "name": "python",
   "nbconvert_exporter": "python",
   "pygments_lexer": "ipython3",
   "version": "3.9.12"
  }
 },
 "nbformat": 4,
 "nbformat_minor": 5
}

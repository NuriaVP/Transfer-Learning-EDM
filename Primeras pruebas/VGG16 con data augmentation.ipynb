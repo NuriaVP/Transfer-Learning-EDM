{
 "cells": [
  {
   "cell_type": "code",
   "execution_count": 1,
   "id": "2d5fe224",
   "metadata": {},
   "outputs": [],
   "source": [
    "import os\n",
    "import cv2\n",
    "import seaborn as sn \n",
    "import matplotlib.pyplot as plt\n",
    "import tensorflow as tf\n",
    "from tensorflow import keras\n",
    "from tensorflow.keras import layers\n",
    "import random\n",
    "import numpy as np\n",
    "import glob as glob\n",
    "from sklearn.model_selection import train_test_split\n",
    "import csv\n",
    "import pandas as pd\n",
    "from sklearn.metrics import confusion_matrix, classification_report  \n",
    "from sklearn.metrics import balanced_accuracy_score\n",
    "from sklearn.metrics import f1_score\n",
    "from sklearn.metrics import roc_auc_score\n",
    "from sklearn.utils import class_weight\n",
    "from tensorflow.keras.utils import to_categorical\n",
    "from tensorflow.keras.applications.vgg16 import VGG16\n",
    "from tensorflow.keras.applications.vgg16 import preprocess_input\n",
    "from sklearn.utils import class_weight\n",
    "from tensorflow.keras.preprocessing.image import ImageDataGenerator"
   ]
  },
  {
   "cell_type": "code",
   "execution_count": 20,
   "id": "58a5beaf",
   "metadata": {},
   "outputs": [],
   "source": [
    "color = 'rgb' #'grayscale' o 'rgb'\n",
    "batch = 32\n",
    "escala = 150\n",
    "test = 'iphone'"
   ]
  },
  {
   "cell_type": "code",
   "execution_count": 9,
   "id": "6a621eea",
   "metadata": {},
   "outputs": [],
   "source": [
    "def combine_generator(gen1, gen2):\n",
    "    while True:\n",
    "        tupla1 = next(gen1)\n",
    "        tupla2 = next(gen2)\n",
    "        \n",
    "        array_img_1 = tupla1[0]\n",
    "        array_labels_1 = tupla1[1]\n",
    "        \n",
    "        array_img_2 = tupla2[0]\n",
    "        array_labels_2 = tupla2[1]\n",
    "        \n",
    "        arrays_img = np.concatenate((array_img_1,array_img_2))\n",
    "        arrays_labels = np.concatenate((array_labels_1,array_labels_2))\n",
    "        \n",
    "        yield(tuple((arrays_img,arrays_labels)))"
   ]
  },
  {
   "cell_type": "code",
   "execution_count": 10,
   "id": "57d32423",
   "metadata": {},
   "outputs": [],
   "source": [
    "datagen = ImageDataGenerator(rotation_range=10, # rotation\n",
    "                                width_shift_range=0.2, # horizontal shift\n",
    "                                height_shift_range=0.2, # vertical shift\n",
    "                                zoom_range=0.2, # zoom\n",
    "                                horizontal_flip=True, # horizontal flip\n",
    "                                brightness_range=[0.2,1.2], # brightness\n",
    "                                rescale = 1./255,\n",
    "                                validation_split = 0.2)"
   ]
  },
  {
   "cell_type": "code",
   "execution_count": 17,
   "id": "54ed41b0",
   "metadata": {},
   "outputs": [
    {
     "name": "stdout",
     "output_type": "stream",
     "text": [
      "Found 91 images belonging to 2 classes.\n"
     ]
    }
   ],
   "source": [
    "train_generator = datagen.flow_from_directory(directory=\"Datos INP EMD/OCT\",\n",
    "                                              target_size=(escala, escala), # resize to this size\n",
    "                                              color_mode=color, # for coloured images\n",
    "                                              batch_size = 1024,\n",
    "                                              seed=42, # to make the result reproducible \n",
    "                                              subset='training')"
   ]
  },
  {
   "cell_type": "code",
   "execution_count": 18,
   "id": "a6e515cc",
   "metadata": {},
   "outputs": [
    {
     "name": "stdout",
     "output_type": "stream",
     "text": [
      "Found 22 images belonging to 2 classes.\n"
     ]
    }
   ],
   "source": [
    "val_generator = datagen.flow_from_directory(\n",
    "                  directory=\"Datos INP EMD/OCT\",\n",
    "                  target_size=(escala, escala), # resize to this size\n",
    "                  color_mode=color, # for coloured images\n",
    "                  seed=42, # to make the result reproducible\n",
    "                  batch_size = 1024,\n",
    "                  subset='validation')"
   ]
  },
  {
   "cell_type": "code",
   "execution_count": 23,
   "id": "47a468a3",
   "metadata": {},
   "outputs": [],
   "source": [
    "test_datagen = ImageDataGenerator(rotation_range=10, # rotation\n",
    "                                width_shift_range=0.2, # horizontal shift\n",
    "                                height_shift_range=0.2, # vertical shift\n",
    "                                zoom_range=0.2, # zoom\n",
    "                                horizontal_flip=True, # horizontal flip\n",
    "                                brightness_range=[0.2,1.2], # brightness\n",
    "                                rescale = 1./255)"
   ]
  },
  {
   "cell_type": "code",
   "execution_count": 38,
   "id": "40fedb31",
   "metadata": {},
   "outputs": [
    {
     "name": "stdout",
     "output_type": "stream",
     "text": [
      "Found 99 images belonging to 2 classes.\n"
     ]
    }
   ],
   "source": [
    " if (test=='iphone'):\n",
    "    test_generator = test_datagen.flow_from_directory(\n",
    "            directory = 'Datos INP EMD/iPhone',\n",
    "            target_size = (escala,escala),\n",
    "            color_mode = color,\n",
    "            shuffle = False,\n",
    "            class_mode='categorical',\n",
    "            batch_size=1024,\n",
    "            seed = 42)\n",
    "\n",
    "else:\n",
    "    test_generator = test_datagen.flow_from_directory(\n",
    "            directory = 'Datos INP EMD/Samsung',\n",
    "            target_size = (escala,escala),\n",
    "            color_mode = color,\n",
    "            shuffle = False,\n",
    "            class_mode='categorical',\n",
    "            batch_size=1024,\n",
    "            seed = 42)\n"
   ]
  },
  {
   "cell_type": "markdown",
   "id": "6a2d46a0",
   "metadata": {},
   "source": [
    "### TRAIN: OCT + Samsung\n",
    "\n",
    "### TEST: iPhone"
   ]
  },
  {
   "cell_type": "code",
   "execution_count": 39,
   "id": "a9230517",
   "metadata": {},
   "outputs": [],
   "source": [
    "## Loading VGG16 model\n",
    "base_model = VGG16(weights=\"imagenet\", include_top=False, input_shape=train_generator.image_shape)\n",
    "base_model.trainable = False ## Not trainable weights"
   ]
  },
  {
   "cell_type": "code",
   "execution_count": 40,
   "id": "043b251e",
   "metadata": {},
   "outputs": [],
   "source": [
    "from tensorflow.keras import layers, models\n",
    "\n",
    "flatten_layer = layers.Flatten()\n",
    "dense_layer_1 = layers.Dense(1024, activation='relu')\n",
    "dense_layer_2 = layers.Dense(20, activation='relu')\n",
    "prediction_layer = layers.Dense(2, activation='softmax')\n",
    "\n",
    "\n",
    "model = models.Sequential([\n",
    "    base_model,\n",
    "    flatten_layer,\n",
    "    dense_layer_1,\n",
    "    dense_layer_2,\n",
    "    prediction_layer\n",
    "])"
   ]
  },
  {
   "cell_type": "code",
   "execution_count": 41,
   "id": "7f83904b",
   "metadata": {},
   "outputs": [
    {
     "name": "stdout",
     "output_type": "stream",
     "text": [
      "Epoch 1/200\n",
      "1/1 [==============================] - 12s 12s/step - loss: 0.5110 - accuracy: 0.8242 - val_loss: 0.6925 - val_accuracy: 0.8636\n",
      "Epoch 2/200\n",
      "1/1 [==============================] - 9s 9s/step - loss: 0.6926 - accuracy: 0.8352 - val_loss: 0.6920 - val_accuracy: 0.8636\n",
      "Epoch 3/200\n",
      "1/1 [==============================] - 9s 9s/step - loss: 0.6921 - accuracy: 0.8352 - val_loss: 0.6916 - val_accuracy: 0.8636\n",
      "Epoch 4/200\n",
      "1/1 [==============================] - 9s 9s/step - loss: 0.6917 - accuracy: 0.8352 - val_loss: 0.6912 - val_accuracy: 0.8636\n",
      "Epoch 5/200\n",
      "1/1 [==============================] - 9s 9s/step - loss: 0.6914 - accuracy: 0.8352 - val_loss: 0.6909 - val_accuracy: 0.8636\n",
      "Epoch 6/200\n",
      "1/1 [==============================] - 9s 9s/step - loss: 0.6911 - accuracy: 0.8352 - val_loss: 0.6906 - val_accuracy: 0.8636\n",
      "Epoch 7/200\n",
      "1/1 [==============================] - 9s 9s/step - loss: 0.6908 - accuracy: 0.8352 - val_loss: 0.6903 - val_accuracy: 0.8636\n",
      "Epoch 8/200\n",
      "1/1 [==============================] - 9s 9s/step - loss: 0.6906 - accuracy: 0.8352 - val_loss: 0.6901 - val_accuracy: 0.8636\n",
      "Epoch 9/200\n",
      "1/1 [==============================] - 9s 9s/step - loss: 0.6903 - accuracy: 0.8352 - val_loss: 0.6898 - val_accuracy: 0.8636\n",
      "Epoch 10/200\n",
      "1/1 [==============================] - 9s 9s/step - loss: 0.6901 - accuracy: 0.8352 - val_loss: 0.6896 - val_accuracy: 0.8636\n",
      "Epoch 11/200\n",
      "1/1 [==============================] - 9s 9s/step - loss: 0.6899 - accuracy: 0.8352 - val_loss: 0.6894 - val_accuracy: 0.8636\n",
      "Epoch 12/200\n",
      "1/1 [==============================] - 9s 9s/step - loss: 0.6897 - accuracy: 0.8352 - val_loss: 0.6892 - val_accuracy: 0.8636\n",
      "Epoch 13/200\n",
      "1/1 [==============================] - 10s 10s/step - loss: 0.6895 - accuracy: 0.8352 - val_loss: 0.6890 - val_accuracy: 0.8636\n",
      "Epoch 14/200\n",
      "1/1 [==============================] - 9s 9s/step - loss: 0.6893 - accuracy: 0.8352 - val_loss: 0.6888 - val_accuracy: 0.8636\n",
      "Epoch 15/200\n",
      "1/1 [==============================] - 10s 10s/step - loss: 0.6891 - accuracy: 0.8352 - val_loss: 0.6886 - val_accuracy: 0.8636\n",
      "Epoch 16/200\n",
      "1/1 [==============================] - 10s 10s/step - loss: 0.6889 - accuracy: 0.8352 - val_loss: 0.6884 - val_accuracy: 0.8636\n",
      "Epoch 17/200\n",
      "1/1 [==============================] - 10s 10s/step - loss: 0.6888 - accuracy: 0.8352 - val_loss: 0.6882 - val_accuracy: 0.8636\n",
      "Epoch 18/200\n",
      "1/1 [==============================] - 10s 10s/step - loss: 0.6886 - accuracy: 0.8352 - val_loss: 0.6880 - val_accuracy: 0.8636\n",
      "Epoch 19/200\n",
      "1/1 [==============================] - 9s 9s/step - loss: 0.6884 - accuracy: 0.8352 - val_loss: 0.6879 - val_accuracy: 0.8636\n",
      "Epoch 20/200\n",
      "1/1 [==============================] - 9s 9s/step - loss: 0.6883 - accuracy: 0.8352 - val_loss: 0.6877 - val_accuracy: 0.8636\n",
      "Epoch 21/200\n",
      "1/1 [==============================] - 9s 9s/step - loss: 0.6881 - accuracy: 0.8352 - val_loss: 0.6875 - val_accuracy: 0.8636\n"
     ]
    }
   ],
   "source": [
    "from tensorflow.keras.callbacks import EarlyStopping\n",
    "\n",
    "model.compile(\n",
    "    optimizer='Ftrl',\n",
    "    loss='kl_divergence',\n",
    "    metrics=['accuracy'],\n",
    ")\n",
    "\n",
    "es = EarlyStopping(monitor='val_loss', mode='max', patience=20,  restore_best_weights=True)\n",
    "\n",
    "history = model.fit(train_generator, batch_size=batch, epochs=200, callbacks=[es], validation_data=val_generator)"
   ]
  },
  {
   "cell_type": "code",
   "execution_count": 43,
   "id": "b2115b18",
   "metadata": {},
   "outputs": [
    {
     "data": {
      "image/png": "[encoded data removed]",
      "text/plain": [
       "<Figure size 576x432 with 1 Axes>"
      ]
     },
     "metadata": {
      "needs_background": "light"
     },
     "output_type": "display_data"
    },
    {
     "data": {
      "image/png": "[encoded data removed]",
      "text/plain": [
       "<Figure size 576x432 with 1 Axes>"
      ]
     },
     "metadata": {
      "needs_background": "light"
     },
     "output_type": "display_data"
    }
   ],
   "source": [
    "plt.figure(0)  \n",
    "plt.plot(history.history['accuracy'],'r')  \n",
    "plt.plot(history.history['val_accuracy'],'g')  \n",
    "plt.xticks(np.arange(0, 50, 5.0))  \n",
    "plt.rcParams['figure.figsize'] = (8, 6)  \n",
    "plt.xlabel(\"Num of Epochs\")  \n",
    "plt.ylabel(\"Accuracy\")  \n",
    "plt.title(\"Training Accuracy vs Validation Accuracy\")  \n",
    "plt.legend(['train','validation'])\n",
    "\n",
    "plt.figure(1)  \n",
    "plt.plot(history.history['loss'],'r')  \n",
    "plt.plot(history.history['val_loss'],'g')  \n",
    "plt.xticks(np.arange(0, 50, 5.0))  \n",
    "plt.rcParams['figure.figsize'] = (8, 6)  \n",
    "plt.xlabel(\"Num of Epochs\")  \n",
    "plt.ylabel(\"Loss\")  \n",
    "plt.title(\"Training Loss vs Validation Loss\")  \n",
    "plt.legend(['train','validation'])\n",
    "\n",
    "plt.show() "
   ]
  },
  {
   "cell_type": "code",
   "execution_count": 44,
   "id": "7c140edc",
   "metadata": {},
   "outputs": [
    {
     "data": {
      "image/png": "[encoded data removed]",
      "text/plain": [
       "<Figure size 576x432 with 1 Axes>"
      ]
     },
     "metadata": {
      "needs_background": "light"
     },
     "output_type": "display_data"
    },
    {
     "data": {
      "image/png": "[encoded data removed]",
      "text/plain": [
       "<Figure size 576x432 with 1 Axes>"
      ]
     },
     "metadata": {
      "needs_background": "light"
     },
     "output_type": "display_data"
    }
   ],
   "source": [
    "acc      = history.history['accuracy']\n",
    "val_acc  = history.history['val_accuracy']\n",
    "loss     = history.history['loss']\n",
    "val_loss = history.history['val_loss']\n",
    "\n",
    "epochs = range(len(acc))\n",
    "\n",
    "plt.plot(epochs, acc, 'bo', label='Entrenamiento acc')\n",
    "plt.plot(epochs, val_acc, 'b', label='Validación acc')\n",
    "plt.title('Accuracy - exactitud de entrenamiento y validación')\n",
    "plt.legend()\n",
    "\n",
    "plt.figure()\n",
    "\n",
    "plt.plot(epochs, loss, 'bo', label='Entrenamiento loss')\n",
    "plt.plot(epochs, val_loss, 'b', label='Validación loss')\n",
    "plt.title('Loss - función objetivo en entrenamiento y prueba')\n",
    "plt.legend()\n",
    "\n",
    "plt.show()"
   ]
  },
  {
   "cell_type": "code",
   "execution_count": 45,
   "id": "e3765f03",
   "metadata": {},
   "outputs": [
    {
     "name": "stdout",
     "output_type": "stream",
     "text": [
      "1/1 [==============================] - 8s 8s/step\n"
     ]
    }
   ],
   "source": [
    "y_test = test_generator.classes\n",
    "    \n",
    "predictions = model.predict(test_generator)\n",
    "y_pred = list(map(lambda x: list(x).index(max(x)),predictions))\n",
    "\n",
    "vgg_cm = confusion_matrix(y_test, y_pred)"
   ]
  },
  {
   "cell_type": "code",
   "execution_count": 46,
   "id": "c87dbc12",
   "metadata": {},
   "outputs": [
    {
     "data": {
      "text/plain": [
       "array([[ 0, 24],\n",
       "       [ 0, 75]], dtype=int64)"
      ]
     },
     "execution_count": 46,
     "metadata": {},
     "output_type": "execute_result"
    }
   ],
   "source": [
    "vgg_cm"
   ]
  },
  {
   "cell_type": "code",
   "execution_count": 47,
   "id": "c73b1973",
   "metadata": {},
   "outputs": [
    {
     "name": "stdout",
     "output_type": "stream",
     "text": [
      "0.5\n"
     ]
    }
   ],
   "source": [
    "roc_score = roc_auc_score(y_test, y_pred, multi_class='ovr')\n",
    "\n",
    "print(roc_score)"
   ]
  },
  {
   "cell_type": "code",
   "execution_count": 49,
   "id": "c36c4a6e",
   "metadata": {},
   "outputs": [
    {
     "name": "stdout",
     "output_type": "stream",
     "text": [
      "0.6530825496342737\n"
     ]
    }
   ],
   "source": [
    "f_score = f1_score(y_true =y_test, y_pred = y_pred, average = 'weighted')\n",
    "\n",
    "print(f_score)"
   ]
  }
 ],
 "metadata": {
  "kernelspec": {
   "display_name": "Python 3 (ipykernel)",
   "language": "python",
   "name": "python3"
  },
  "language_info": {
   "codemirror_mode": {
    "name": "ipython",
    "version": 3
   },
   "file_extension": ".py",
   "mimetype": "text/x-python",
   "name": "python",
   "nbconvert_exporter": "python",
   "pygments_lexer": "ipython3",
   "version": "3.9.12"
  }
 },
 "nbformat": 4,
 "nbformat_minor": 5
}

{
 "cells": [
  {
   "cell_type": "markdown",
   "id": "c15feb05",
   "metadata": {},
   "source": [
    "# Baselines retinologos"
   ]
  },
  {
   "cell_type": "code",
   "execution_count": 1,
   "id": "e79730f7",
   "metadata": {},
   "outputs": [],
   "source": [
    "import matplotlib.pyplot as plt\n",
    "import seaborn as sns\n",
    "from sklearn.metrics import confusion_matrix\n",
    "import pandas as pd"
   ]
  },
  {
   "cell_type": "markdown",
   "id": "fd156cae",
   "metadata": {},
   "source": [
    "## OCT"
   ]
  },
  {
   "cell_type": "code",
   "execution_count": 2,
   "id": "f6e0ef01",
   "metadata": {},
   "outputs": [],
   "source": [
    "df_oct = pd.read_excel('df_OCT.xlsx')"
   ]
  },
  {
   "cell_type": "code",
   "execution_count": 3,
   "id": "36b45a96",
   "metadata": {},
   "outputs": [
    {
     "data": {
      "text/html": [
       "<div>\n",
       "<style scoped>\n",
       "    .dataframe tbody tr th:only-of-type {\n",
       "        vertical-align: middle;\n",
       "    }\n",
       "\n",
       "    .dataframe tbody tr th {\n",
       "        vertical-align: top;\n",
       "    }\n",
       "\n",
       "    .dataframe thead th {\n",
       "        text-align: right;\n",
       "    }\n",
       "</style>\n",
       "<table border=\"1\" class=\"dataframe\">\n",
       "  <thead>\n",
       "    <tr style=\"text-align: right;\">\n",
       "      <th></th>\n",
       "      <th>Unnamed: 0</th>\n",
       "      <th>NHC</th>\n",
       "      <th>1 OCT 2 IPHONE 3 SAMSUNG</th>\n",
       "      <th>lateralidad 1 Dch 2 izq</th>\n",
       "      <th>Retinlogo 1 y 2</th>\n",
       "      <th>CALIDAD GRAL IMAGEN</th>\n",
       "      <th>GRADO RETINOPATÍA DIABÉTICA</th>\n",
       "      <th>Clasificación EMD. 1 NO . 2 NO CENTRAL, 3 CENTRAL</th>\n",
       "    </tr>\n",
       "  </thead>\n",
       "  <tbody>\n",
       "    <tr>\n",
       "      <th>0</th>\n",
       "      <td>16</td>\n",
       "      <td>60716</td>\n",
       "      <td>1</td>\n",
       "      <td>1</td>\n",
       "      <td>2</td>\n",
       "      <td>5</td>\n",
       "      <td>3</td>\n",
       "      <td>1</td>\n",
       "    </tr>\n",
       "    <tr>\n",
       "      <th>1</th>\n",
       "      <td>17</td>\n",
       "      <td>60716</td>\n",
       "      <td>1</td>\n",
       "      <td>2</td>\n",
       "      <td>2</td>\n",
       "      <td>5</td>\n",
       "      <td>3</td>\n",
       "      <td>1</td>\n",
       "    </tr>\n",
       "    <tr>\n",
       "      <th>2</th>\n",
       "      <td>22</td>\n",
       "      <td>60716</td>\n",
       "      <td>1</td>\n",
       "      <td>1</td>\n",
       "      <td>1</td>\n",
       "      <td>5</td>\n",
       "      <td>3</td>\n",
       "      <td>1</td>\n",
       "    </tr>\n",
       "    <tr>\n",
       "      <th>3</th>\n",
       "      <td>23</td>\n",
       "      <td>60716</td>\n",
       "      <td>1</td>\n",
       "      <td>2</td>\n",
       "      <td>1</td>\n",
       "      <td>5</td>\n",
       "      <td>3</td>\n",
       "      <td>1</td>\n",
       "    </tr>\n",
       "    <tr>\n",
       "      <th>4</th>\n",
       "      <td>28</td>\n",
       "      <td>62612</td>\n",
       "      <td>1</td>\n",
       "      <td>1</td>\n",
       "      <td>2</td>\n",
       "      <td>5</td>\n",
       "      <td>1</td>\n",
       "      <td>3</td>\n",
       "    </tr>\n",
       "    <tr>\n",
       "      <th>...</th>\n",
       "      <td>...</td>\n",
       "      <td>...</td>\n",
       "      <td>...</td>\n",
       "      <td>...</td>\n",
       "      <td>...</td>\n",
       "      <td>...</td>\n",
       "      <td>...</td>\n",
       "      <td>...</td>\n",
       "    </tr>\n",
       "    <tr>\n",
       "      <th>225</th>\n",
       "      <td>917</td>\n",
       "      <td>38950</td>\n",
       "      <td>1</td>\n",
       "      <td>2</td>\n",
       "      <td>1</td>\n",
       "      <td>5</td>\n",
       "      <td>3</td>\n",
       "      <td>3</td>\n",
       "    </tr>\n",
       "    <tr>\n",
       "      <th>226</th>\n",
       "      <td>928</td>\n",
       "      <td>170692</td>\n",
       "      <td>1</td>\n",
       "      <td>1</td>\n",
       "      <td>2</td>\n",
       "      <td>5</td>\n",
       "      <td>1</td>\n",
       "      <td>1</td>\n",
       "    </tr>\n",
       "    <tr>\n",
       "      <th>227</th>\n",
       "      <td>929</td>\n",
       "      <td>170692</td>\n",
       "      <td>1</td>\n",
       "      <td>2</td>\n",
       "      <td>2</td>\n",
       "      <td>5</td>\n",
       "      <td>1</td>\n",
       "      <td>1</td>\n",
       "    </tr>\n",
       "    <tr>\n",
       "      <th>228</th>\n",
       "      <td>930</td>\n",
       "      <td>170692</td>\n",
       "      <td>1</td>\n",
       "      <td>1</td>\n",
       "      <td>1</td>\n",
       "      <td>5</td>\n",
       "      <td>1</td>\n",
       "      <td>1</td>\n",
       "    </tr>\n",
       "    <tr>\n",
       "      <th>229</th>\n",
       "      <td>931</td>\n",
       "      <td>170692</td>\n",
       "      <td>1</td>\n",
       "      <td>2</td>\n",
       "      <td>1</td>\n",
       "      <td>5</td>\n",
       "      <td>1</td>\n",
       "      <td>1</td>\n",
       "    </tr>\n",
       "  </tbody>\n",
       "</table>\n",
       "<p>230 rows × 8 columns</p>\n",
       "</div>"
      ],
      "text/plain": [
       "     Unnamed: 0     NHC  1 OCT 2 IPHONE 3 SAMSUNG  lateralidad 1 Dch 2 izq  \\\n",
       "0            16   60716                         1                        1   \n",
       "1            17   60716                         1                        2   \n",
       "2            22   60716                         1                        1   \n",
       "3            23   60716                         1                        2   \n",
       "4            28   62612                         1                        1   \n",
       "..          ...     ...                       ...                      ...   \n",
       "225         917   38950                         1                        2   \n",
       "226         928  170692                         1                        1   \n",
       "227         929  170692                         1                        2   \n",
       "228         930  170692                         1                        1   \n",
       "229         931  170692                         1                        2   \n",
       "\n",
       "     Retinlogo 1 y 2  CALIDAD GRAL IMAGEN  GRADO RETINOPATÍA DIABÉTICA  \\\n",
       "0                  2                    5                            3   \n",
       "1                  2                    5                            3   \n",
       "2                  1                    5                            3   \n",
       "3                  1                    5                            3   \n",
       "4                  2                    5                            1   \n",
       "..               ...                  ...                          ...   \n",
       "225                1                    5                            3   \n",
       "226                2                    5                            1   \n",
       "227                2                    5                            1   \n",
       "228                1                    5                            1   \n",
       "229                1                    5                            1   \n",
       "\n",
       "     Clasificación EMD. 1 NO . 2 NO CENTRAL, 3 CENTRAL  \n",
       "0                                                    1  \n",
       "1                                                    1  \n",
       "2                                                    1  \n",
       "3                                                    1  \n",
       "4                                                    3  \n",
       "..                                                 ...  \n",
       "225                                                  3  \n",
       "226                                                  1  \n",
       "227                                                  1  \n",
       "228                                                  1  \n",
       "229                                                  1  \n",
       "\n",
       "[230 rows x 8 columns]"
      ]
     },
     "metadata": {},
     "output_type": "display_data"
    }
   ],
   "source": [
    "display(df_oct)"
   ]
  },
  {
   "cell_type": "code",
   "execution_count": 4,
   "id": "1be9d3c2",
   "metadata": {},
   "outputs": [],
   "source": [
    "df_oct_filt = df_oct.drop(['Unnamed: 0', '1 OCT 2 IPHONE 3 SAMSUNG', 'CALIDAD GRAL IMAGEN', 'GRADO RETINOPATÍA DIABÉTICA'], axis=1)"
   ]
  },
  {
   "cell_type": "code",
   "execution_count": 5,
   "id": "aa51c9b3",
   "metadata": {},
   "outputs": [
    {
     "data": {
      "text/html": [
       "<div>\n",
       "<style scoped>\n",
       "    .dataframe tbody tr th:only-of-type {\n",
       "        vertical-align: middle;\n",
       "    }\n",
       "\n",
       "    .dataframe tbody tr th {\n",
       "        vertical-align: top;\n",
       "    }\n",
       "\n",
       "    .dataframe thead th {\n",
       "        text-align: right;\n",
       "    }\n",
       "</style>\n",
       "<table border=\"1\" class=\"dataframe\">\n",
       "  <thead>\n",
       "    <tr style=\"text-align: right;\">\n",
       "      <th></th>\n",
       "      <th>NHC</th>\n",
       "      <th>lateralidad 1 Dch 2 izq</th>\n",
       "      <th>Retinlogo 1 y 2</th>\n",
       "      <th>Clasificación EMD. 1 NO . 2 NO CENTRAL, 3 CENTRAL</th>\n",
       "    </tr>\n",
       "  </thead>\n",
       "  <tbody>\n",
       "    <tr>\n",
       "      <th>0</th>\n",
       "      <td>60716</td>\n",
       "      <td>1</td>\n",
       "      <td>2</td>\n",
       "      <td>1</td>\n",
       "    </tr>\n",
       "    <tr>\n",
       "      <th>1</th>\n",
       "      <td>60716</td>\n",
       "      <td>2</td>\n",
       "      <td>2</td>\n",
       "      <td>1</td>\n",
       "    </tr>\n",
       "    <tr>\n",
       "      <th>2</th>\n",
       "      <td>60716</td>\n",
       "      <td>1</td>\n",
       "      <td>1</td>\n",
       "      <td>1</td>\n",
       "    </tr>\n",
       "    <tr>\n",
       "      <th>3</th>\n",
       "      <td>60716</td>\n",
       "      <td>2</td>\n",
       "      <td>1</td>\n",
       "      <td>1</td>\n",
       "    </tr>\n",
       "    <tr>\n",
       "      <th>4</th>\n",
       "      <td>62612</td>\n",
       "      <td>1</td>\n",
       "      <td>2</td>\n",
       "      <td>3</td>\n",
       "    </tr>\n",
       "    <tr>\n",
       "      <th>...</th>\n",
       "      <td>...</td>\n",
       "      <td>...</td>\n",
       "      <td>...</td>\n",
       "      <td>...</td>\n",
       "    </tr>\n",
       "    <tr>\n",
       "      <th>225</th>\n",
       "      <td>38950</td>\n",
       "      <td>2</td>\n",
       "      <td>1</td>\n",
       "      <td>3</td>\n",
       "    </tr>\n",
       "    <tr>\n",
       "      <th>226</th>\n",
       "      <td>170692</td>\n",
       "      <td>1</td>\n",
       "      <td>2</td>\n",
       "      <td>1</td>\n",
       "    </tr>\n",
       "    <tr>\n",
       "      <th>227</th>\n",
       "      <td>170692</td>\n",
       "      <td>2</td>\n",
       "      <td>2</td>\n",
       "      <td>1</td>\n",
       "    </tr>\n",
       "    <tr>\n",
       "      <th>228</th>\n",
       "      <td>170692</td>\n",
       "      <td>1</td>\n",
       "      <td>1</td>\n",
       "      <td>1</td>\n",
       "    </tr>\n",
       "    <tr>\n",
       "      <th>229</th>\n",
       "      <td>170692</td>\n",
       "      <td>2</td>\n",
       "      <td>1</td>\n",
       "      <td>1</td>\n",
       "    </tr>\n",
       "  </tbody>\n",
       "</table>\n",
       "<p>230 rows × 4 columns</p>\n",
       "</div>"
      ],
      "text/plain": [
       "        NHC  lateralidad 1 Dch 2 izq  Retinlogo 1 y 2  \\\n",
       "0     60716                        1                2   \n",
       "1     60716                        2                2   \n",
       "2     60716                        1                1   \n",
       "3     60716                        2                1   \n",
       "4     62612                        1                2   \n",
       "..      ...                      ...              ...   \n",
       "225   38950                        2                1   \n",
       "226  170692                        1                2   \n",
       "227  170692                        2                2   \n",
       "228  170692                        1                1   \n",
       "229  170692                        2                1   \n",
       "\n",
       "     Clasificación EMD. 1 NO . 2 NO CENTRAL, 3 CENTRAL  \n",
       "0                                                    1  \n",
       "1                                                    1  \n",
       "2                                                    1  \n",
       "3                                                    1  \n",
       "4                                                    3  \n",
       "..                                                 ...  \n",
       "225                                                  3  \n",
       "226                                                  1  \n",
       "227                                                  1  \n",
       "228                                                  1  \n",
       "229                                                  1  \n",
       "\n",
       "[230 rows x 4 columns]"
      ]
     },
     "metadata": {},
     "output_type": "display_data"
    }
   ],
   "source": [
    "display(df_oct_filt)"
   ]
  },
  {
   "cell_type": "code",
   "execution_count": 6,
   "id": "640db53a",
   "metadata": {},
   "outputs": [],
   "source": [
    "oct_emd_bin = []\n",
    "\n",
    "for e in list(df_oct_filt['Clasificación EMD. 1 NO . 2 NO CENTRAL, 3 CENTRAL']):\n",
    "    if e==1:\n",
    "        oct_emd_bin.append(0)\n",
    "    else:\n",
    "        oct_emd_bin.append(1)"
   ]
  },
  {
   "cell_type": "code",
   "execution_count": 7,
   "id": "843de459",
   "metadata": {},
   "outputs": [
    {
     "name": "stdout",
     "output_type": "stream",
     "text": [
      "[0, 0, 0, 0, 1, 1, 1, 1, 0, 1, 0, 1, 0, 0, 0, 0, 1, 0, 1, 0, 0, 1, 0, 1, 0, 1, 0, 1, 0, 0, 0, 0, 1, 0, 1, 0, 1, 0, 1, 0, 0, 0, 0, 0, 0, 1, 0, 1, 0, 1, 0, 1, 0, 0, 0, 0, 1, 0, 1, 0, 0, 0, 1, 1, 1, 1, 0, 0, 0, 0, 0, 0, 0, 0, 0, 0, 0, 0, 0, 0, 0, 0, 1, 0, 1, 0, 1, 1, 1, 1, 1, 0, 1, 0, 0, 0, 0, 0, 1, 0, 1, 0, 1, 1, 1, 1, 0, 1, 0, 1, 0, 0, 0, 0, 0, 0, 0, 0, 0, 0, 0, 0, 0, 0, 0, 0, 1, 1, 1, 1, 0, 0, 0, 0, 0, 0, 0, 0, 0, 0, 0, 0, 0, 1, 0, 1, 0, 0, 0, 0, 1, 1, 1, 1, 1, 1, 1, 1, 1, 1, 1, 1, 0, 1, 0, 1, 0, 1, 0, 1, 0, 0, 0, 0, 0, 0, 0, 0, 0, 0, 0, 0, 0, 1, 0, 1, 0, 0, 0, 0, 0, 0, 0, 0, 0, 1, 0, 1, 1, 1, 1, 1, 0, 0, 0, 0, 0, 1, 0, 1, 0, 0, 0, 0, 1, 0, 1, 0, 1, 0, 1, 0, 0, 1, 0, 1, 0, 0, 0, 0]\n"
     ]
    }
   ],
   "source": [
    "print(oct_emd_bin)"
   ]
  },
  {
   "cell_type": "code",
   "execution_count": 8,
   "id": "2cccc3d8",
   "metadata": {},
   "outputs": [],
   "source": [
    "df_oct_filt['EMD binario'] = oct_emd_bin"
   ]
  },
  {
   "cell_type": "code",
   "execution_count": 9,
   "id": "9890a55c",
   "metadata": {},
   "outputs": [
    {
     "data": {
      "text/html": [
       "<div>\n",
       "<style scoped>\n",
       "    .dataframe tbody tr th:only-of-type {\n",
       "        vertical-align: middle;\n",
       "    }\n",
       "\n",
       "    .dataframe tbody tr th {\n",
       "        vertical-align: top;\n",
       "    }\n",
       "\n",
       "    .dataframe thead th {\n",
       "        text-align: right;\n",
       "    }\n",
       "</style>\n",
       "<table border=\"1\" class=\"dataframe\">\n",
       "  <thead>\n",
       "    <tr style=\"text-align: right;\">\n",
       "      <th></th>\n",
       "      <th>NHC</th>\n",
       "      <th>lateralidad 1 Dch 2 izq</th>\n",
       "      <th>Retinlogo 1 y 2</th>\n",
       "      <th>Clasificación EMD. 1 NO . 2 NO CENTRAL, 3 CENTRAL</th>\n",
       "      <th>EMD binario</th>\n",
       "    </tr>\n",
       "  </thead>\n",
       "  <tbody>\n",
       "    <tr>\n",
       "      <th>0</th>\n",
       "      <td>60716</td>\n",
       "      <td>1</td>\n",
       "      <td>2</td>\n",
       "      <td>1</td>\n",
       "      <td>0</td>\n",
       "    </tr>\n",
       "    <tr>\n",
       "      <th>1</th>\n",
       "      <td>60716</td>\n",
       "      <td>2</td>\n",
       "      <td>2</td>\n",
       "      <td>1</td>\n",
       "      <td>0</td>\n",
       "    </tr>\n",
       "    <tr>\n",
       "      <th>2</th>\n",
       "      <td>60716</td>\n",
       "      <td>1</td>\n",
       "      <td>1</td>\n",
       "      <td>1</td>\n",
       "      <td>0</td>\n",
       "    </tr>\n",
       "    <tr>\n",
       "      <th>3</th>\n",
       "      <td>60716</td>\n",
       "      <td>2</td>\n",
       "      <td>1</td>\n",
       "      <td>1</td>\n",
       "      <td>0</td>\n",
       "    </tr>\n",
       "    <tr>\n",
       "      <th>4</th>\n",
       "      <td>62612</td>\n",
       "      <td>1</td>\n",
       "      <td>2</td>\n",
       "      <td>3</td>\n",
       "      <td>1</td>\n",
       "    </tr>\n",
       "    <tr>\n",
       "      <th>...</th>\n",
       "      <td>...</td>\n",
       "      <td>...</td>\n",
       "      <td>...</td>\n",
       "      <td>...</td>\n",
       "      <td>...</td>\n",
       "    </tr>\n",
       "    <tr>\n",
       "      <th>225</th>\n",
       "      <td>38950</td>\n",
       "      <td>2</td>\n",
       "      <td>1</td>\n",
       "      <td>3</td>\n",
       "      <td>1</td>\n",
       "    </tr>\n",
       "    <tr>\n",
       "      <th>226</th>\n",
       "      <td>170692</td>\n",
       "      <td>1</td>\n",
       "      <td>2</td>\n",
       "      <td>1</td>\n",
       "      <td>0</td>\n",
       "    </tr>\n",
       "    <tr>\n",
       "      <th>227</th>\n",
       "      <td>170692</td>\n",
       "      <td>2</td>\n",
       "      <td>2</td>\n",
       "      <td>1</td>\n",
       "      <td>0</td>\n",
       "    </tr>\n",
       "    <tr>\n",
       "      <th>228</th>\n",
       "      <td>170692</td>\n",
       "      <td>1</td>\n",
       "      <td>1</td>\n",
       "      <td>1</td>\n",
       "      <td>0</td>\n",
       "    </tr>\n",
       "    <tr>\n",
       "      <th>229</th>\n",
       "      <td>170692</td>\n",
       "      <td>2</td>\n",
       "      <td>1</td>\n",
       "      <td>1</td>\n",
       "      <td>0</td>\n",
       "    </tr>\n",
       "  </tbody>\n",
       "</table>\n",
       "<p>230 rows × 5 columns</p>\n",
       "</div>"
      ],
      "text/plain": [
       "        NHC  lateralidad 1 Dch 2 izq  Retinlogo 1 y 2  \\\n",
       "0     60716                        1                2   \n",
       "1     60716                        2                2   \n",
       "2     60716                        1                1   \n",
       "3     60716                        2                1   \n",
       "4     62612                        1                2   \n",
       "..      ...                      ...              ...   \n",
       "225   38950                        2                1   \n",
       "226  170692                        1                2   \n",
       "227  170692                        2                2   \n",
       "228  170692                        1                1   \n",
       "229  170692                        2                1   \n",
       "\n",
       "     Clasificación EMD. 1 NO . 2 NO CENTRAL, 3 CENTRAL  EMD binario  \n",
       "0                                                    1            0  \n",
       "1                                                    1            0  \n",
       "2                                                    1            0  \n",
       "3                                                    1            0  \n",
       "4                                                    3            1  \n",
       "..                                                 ...          ...  \n",
       "225                                                  3            1  \n",
       "226                                                  1            0  \n",
       "227                                                  1            0  \n",
       "228                                                  1            0  \n",
       "229                                                  1            0  \n",
       "\n",
       "[230 rows x 5 columns]"
      ]
     },
     "metadata": {},
     "output_type": "display_data"
    }
   ],
   "source": [
    "display(df_oct_filt)"
   ]
  },
  {
   "cell_type": "markdown",
   "id": "465e7e09",
   "metadata": {},
   "source": [
    "## iPhone"
   ]
  },
  {
   "cell_type": "code",
   "execution_count": 10,
   "id": "de88f1aa",
   "metadata": {},
   "outputs": [],
   "source": [
    "df_iphone = pd.read_excel('df_iPhone.xlsx')"
   ]
  },
  {
   "cell_type": "code",
   "execution_count": 11,
   "id": "0ecf4068",
   "metadata": {},
   "outputs": [],
   "source": [
    "df_iphone_filt = df_iphone.drop(['Unnamed: 0', '1 OCT 2 IPHONE 3 SAMSUNG', 'CALIDAD GRAL IMAGEN', 'GRADO RETINOPATÍA DIABÉTICA'], axis=1)"
   ]
  },
  {
   "cell_type": "code",
   "execution_count": 12,
   "id": "d8b18a8c",
   "metadata": {},
   "outputs": [],
   "source": [
    "iphone_emd_bin = []\n",
    "\n",
    "for e in list(df_iphone_filt['Clasificación EMD. 1 NO . 2 NO CENTRAL, 3 CENTRAL']):\n",
    "    if e==1:\n",
    "        iphone_emd_bin.append(0)\n",
    "    else:\n",
    "        iphone_emd_bin.append(1)"
   ]
  },
  {
   "cell_type": "code",
   "execution_count": 13,
   "id": "e85bd392",
   "metadata": {},
   "outputs": [],
   "source": [
    "df_iphone_filt['EMD binario'] = iphone_emd_bin"
   ]
  },
  {
   "cell_type": "code",
   "execution_count": 14,
   "id": "4adfd8d6",
   "metadata": {},
   "outputs": [
    {
     "data": {
      "text/html": [
       "<div>\n",
       "<style scoped>\n",
       "    .dataframe tbody tr th:only-of-type {\n",
       "        vertical-align: middle;\n",
       "    }\n",
       "\n",
       "    .dataframe tbody tr th {\n",
       "        vertical-align: top;\n",
       "    }\n",
       "\n",
       "    .dataframe thead th {\n",
       "        text-align: right;\n",
       "    }\n",
       "</style>\n",
       "<table border=\"1\" class=\"dataframe\">\n",
       "  <thead>\n",
       "    <tr style=\"text-align: right;\">\n",
       "      <th></th>\n",
       "      <th>NHC</th>\n",
       "      <th>lateralidad 1 Dch 2 izq</th>\n",
       "      <th>Retinlogo 1 y 2</th>\n",
       "      <th>Clasificación EMD. 1 NO . 2 NO CENTRAL, 3 CENTRAL</th>\n",
       "      <th>EMD binario</th>\n",
       "    </tr>\n",
       "  </thead>\n",
       "  <tbody>\n",
       "    <tr>\n",
       "      <th>0</th>\n",
       "      <td>60716</td>\n",
       "      <td>1</td>\n",
       "      <td>2</td>\n",
       "      <td>2</td>\n",
       "      <td>1</td>\n",
       "    </tr>\n",
       "    <tr>\n",
       "      <th>1</th>\n",
       "      <td>60716</td>\n",
       "      <td>2</td>\n",
       "      <td>2</td>\n",
       "      <td>1</td>\n",
       "      <td>0</td>\n",
       "    </tr>\n",
       "    <tr>\n",
       "      <th>2</th>\n",
       "      <td>60716</td>\n",
       "      <td>1</td>\n",
       "      <td>1</td>\n",
       "      <td>2</td>\n",
       "      <td>1</td>\n",
       "    </tr>\n",
       "    <tr>\n",
       "      <th>3</th>\n",
       "      <td>60716</td>\n",
       "      <td>2</td>\n",
       "      <td>1</td>\n",
       "      <td>1</td>\n",
       "      <td>0</td>\n",
       "    </tr>\n",
       "    <tr>\n",
       "      <th>4</th>\n",
       "      <td>62612</td>\n",
       "      <td>1</td>\n",
       "      <td>2</td>\n",
       "      <td>2</td>\n",
       "      <td>1</td>\n",
       "    </tr>\n",
       "    <tr>\n",
       "      <th>...</th>\n",
       "      <td>...</td>\n",
       "      <td>...</td>\n",
       "      <td>...</td>\n",
       "      <td>...</td>\n",
       "      <td>...</td>\n",
       "    </tr>\n",
       "    <tr>\n",
       "      <th>195</th>\n",
       "      <td>38950</td>\n",
       "      <td>2</td>\n",
       "      <td>1</td>\n",
       "      <td>2</td>\n",
       "      <td>1</td>\n",
       "    </tr>\n",
       "    <tr>\n",
       "      <th>196</th>\n",
       "      <td>170692</td>\n",
       "      <td>1</td>\n",
       "      <td>2</td>\n",
       "      <td>3</td>\n",
       "      <td>1</td>\n",
       "    </tr>\n",
       "    <tr>\n",
       "      <th>197</th>\n",
       "      <td>170692</td>\n",
       "      <td>2</td>\n",
       "      <td>2</td>\n",
       "      <td>3</td>\n",
       "      <td>1</td>\n",
       "    </tr>\n",
       "    <tr>\n",
       "      <th>198</th>\n",
       "      <td>170692</td>\n",
       "      <td>1</td>\n",
       "      <td>1</td>\n",
       "      <td>3</td>\n",
       "      <td>1</td>\n",
       "    </tr>\n",
       "    <tr>\n",
       "      <th>199</th>\n",
       "      <td>170692</td>\n",
       "      <td>2</td>\n",
       "      <td>1</td>\n",
       "      <td>3</td>\n",
       "      <td>1</td>\n",
       "    </tr>\n",
       "  </tbody>\n",
       "</table>\n",
       "<p>200 rows × 5 columns</p>\n",
       "</div>"
      ],
      "text/plain": [
       "        NHC  lateralidad 1 Dch 2 izq  Retinlogo 1 y 2  \\\n",
       "0     60716                        1                2   \n",
       "1     60716                        2                2   \n",
       "2     60716                        1                1   \n",
       "3     60716                        2                1   \n",
       "4     62612                        1                2   \n",
       "..      ...                      ...              ...   \n",
       "195   38950                        2                1   \n",
       "196  170692                        1                2   \n",
       "197  170692                        2                2   \n",
       "198  170692                        1                1   \n",
       "199  170692                        2                1   \n",
       "\n",
       "     Clasificación EMD. 1 NO . 2 NO CENTRAL, 3 CENTRAL  EMD binario  \n",
       "0                                                    2            1  \n",
       "1                                                    1            0  \n",
       "2                                                    2            1  \n",
       "3                                                    1            0  \n",
       "4                                                    2            1  \n",
       "..                                                 ...          ...  \n",
       "195                                                  2            1  \n",
       "196                                                  3            1  \n",
       "197                                                  3            1  \n",
       "198                                                  3            1  \n",
       "199                                                  3            1  \n",
       "\n",
       "[200 rows x 5 columns]"
      ]
     },
     "metadata": {},
     "output_type": "display_data"
    }
   ],
   "source": [
    "display(df_iphone_filt)"
   ]
  },
  {
   "cell_type": "markdown",
   "id": "b4b241c7",
   "metadata": {},
   "source": [
    "## Samsung"
   ]
  },
  {
   "cell_type": "code",
   "execution_count": 15,
   "id": "dce9df3e",
   "metadata": {},
   "outputs": [],
   "source": [
    "df_samsung = pd.read_excel('df_Samsung.xlsx')"
   ]
  },
  {
   "cell_type": "code",
   "execution_count": 16,
   "id": "95efc91b",
   "metadata": {},
   "outputs": [],
   "source": [
    "df_samsung_filt = df_samsung.drop(['Unnamed: 0', '1 OCT 2 IPHONE 3 SAMSUNG', 'CALIDAD GRAL IMAGEN', 'GRADO RETINOPATÍA DIABÉTICA'], axis=1)"
   ]
  },
  {
   "cell_type": "code",
   "execution_count": 17,
   "id": "b0ada857",
   "metadata": {},
   "outputs": [],
   "source": [
    "samsung_emd_bin = []\n",
    "\n",
    "for e in list(df_samsung_filt['Clasificación EMD. 1 NO . 2 NO CENTRAL, 3 CENTRAL']):\n",
    "    if e==1:\n",
    "        samsung_emd_bin.append(0)\n",
    "    else:\n",
    "        samsung_emd_bin.append(1)"
   ]
  },
  {
   "cell_type": "code",
   "execution_count": 18,
   "id": "9b542ec3",
   "metadata": {},
   "outputs": [],
   "source": [
    "df_samsung_filt['EMD binario'] = samsung_emd_bin"
   ]
  },
  {
   "cell_type": "code",
   "execution_count": 19,
   "id": "e3d73d56",
   "metadata": {},
   "outputs": [
    {
     "data": {
      "text/html": [
       "<div>\n",
       "<style scoped>\n",
       "    .dataframe tbody tr th:only-of-type {\n",
       "        vertical-align: middle;\n",
       "    }\n",
       "\n",
       "    .dataframe tbody tr th {\n",
       "        vertical-align: top;\n",
       "    }\n",
       "\n",
       "    .dataframe thead th {\n",
       "        text-align: right;\n",
       "    }\n",
       "</style>\n",
       "<table border=\"1\" class=\"dataframe\">\n",
       "  <thead>\n",
       "    <tr style=\"text-align: right;\">\n",
       "      <th></th>\n",
       "      <th>NHC</th>\n",
       "      <th>lateralidad 1 Dch 2 izq</th>\n",
       "      <th>Retinlogo 1 y 2</th>\n",
       "      <th>Clasificación EMD. 1 NO . 2 NO CENTRAL, 3 CENTRAL</th>\n",
       "      <th>EMD binario</th>\n",
       "    </tr>\n",
       "  </thead>\n",
       "  <tbody>\n",
       "    <tr>\n",
       "      <th>0</th>\n",
       "      <td>60716</td>\n",
       "      <td>1</td>\n",
       "      <td>2</td>\n",
       "      <td>1</td>\n",
       "      <td>0</td>\n",
       "    </tr>\n",
       "    <tr>\n",
       "      <th>1</th>\n",
       "      <td>60716</td>\n",
       "      <td>2</td>\n",
       "      <td>2</td>\n",
       "      <td>1</td>\n",
       "      <td>0</td>\n",
       "    </tr>\n",
       "    <tr>\n",
       "      <th>2</th>\n",
       "      <td>60716</td>\n",
       "      <td>1</td>\n",
       "      <td>1</td>\n",
       "      <td>1</td>\n",
       "      <td>0</td>\n",
       "    </tr>\n",
       "    <tr>\n",
       "      <th>3</th>\n",
       "      <td>60716</td>\n",
       "      <td>2</td>\n",
       "      <td>1</td>\n",
       "      <td>1</td>\n",
       "      <td>0</td>\n",
       "    </tr>\n",
       "    <tr>\n",
       "      <th>4</th>\n",
       "      <td>62612</td>\n",
       "      <td>1</td>\n",
       "      <td>2</td>\n",
       "      <td>3</td>\n",
       "      <td>1</td>\n",
       "    </tr>\n",
       "    <tr>\n",
       "      <th>...</th>\n",
       "      <td>...</td>\n",
       "      <td>...</td>\n",
       "      <td>...</td>\n",
       "      <td>...</td>\n",
       "      <td>...</td>\n",
       "    </tr>\n",
       "    <tr>\n",
       "      <th>185</th>\n",
       "      <td>38950</td>\n",
       "      <td>2</td>\n",
       "      <td>1</td>\n",
       "      <td>3</td>\n",
       "      <td>1</td>\n",
       "    </tr>\n",
       "    <tr>\n",
       "      <th>186</th>\n",
       "      <td>170692</td>\n",
       "      <td>1</td>\n",
       "      <td>2</td>\n",
       "      <td>3</td>\n",
       "      <td>1</td>\n",
       "    </tr>\n",
       "    <tr>\n",
       "      <th>187</th>\n",
       "      <td>170692</td>\n",
       "      <td>2</td>\n",
       "      <td>2</td>\n",
       "      <td>2</td>\n",
       "      <td>1</td>\n",
       "    </tr>\n",
       "    <tr>\n",
       "      <th>188</th>\n",
       "      <td>170692</td>\n",
       "      <td>1</td>\n",
       "      <td>1</td>\n",
       "      <td>3</td>\n",
       "      <td>1</td>\n",
       "    </tr>\n",
       "    <tr>\n",
       "      <th>189</th>\n",
       "      <td>170692</td>\n",
       "      <td>2</td>\n",
       "      <td>1</td>\n",
       "      <td>2</td>\n",
       "      <td>1</td>\n",
       "    </tr>\n",
       "  </tbody>\n",
       "</table>\n",
       "<p>190 rows × 5 columns</p>\n",
       "</div>"
      ],
      "text/plain": [
       "        NHC  lateralidad 1 Dch 2 izq  Retinlogo 1 y 2  \\\n",
       "0     60716                        1                2   \n",
       "1     60716                        2                2   \n",
       "2     60716                        1                1   \n",
       "3     60716                        2                1   \n",
       "4     62612                        1                2   \n",
       "..      ...                      ...              ...   \n",
       "185   38950                        2                1   \n",
       "186  170692                        1                2   \n",
       "187  170692                        2                2   \n",
       "188  170692                        1                1   \n",
       "189  170692                        2                1   \n",
       "\n",
       "     Clasificación EMD. 1 NO . 2 NO CENTRAL, 3 CENTRAL  EMD binario  \n",
       "0                                                    1            0  \n",
       "1                                                    1            0  \n",
       "2                                                    1            0  \n",
       "3                                                    1            0  \n",
       "4                                                    3            1  \n",
       "..                                                 ...          ...  \n",
       "185                                                  3            1  \n",
       "186                                                  3            1  \n",
       "187                                                  2            1  \n",
       "188                                                  3            1  \n",
       "189                                                  2            1  \n",
       "\n",
       "[190 rows x 5 columns]"
      ]
     },
     "metadata": {},
     "output_type": "display_data"
    }
   ],
   "source": [
    "display(df_samsung_filt)"
   ]
  },
  {
   "cell_type": "markdown",
   "id": "70662e82",
   "metadata": {},
   "source": [
    "## Resultados iPhone"
   ]
  },
  {
   "cell_type": "code",
   "execution_count": 20,
   "id": "6f6f5cca",
   "metadata": {},
   "outputs": [],
   "source": [
    "predict_iphone = []\n",
    "predict_oct_iphone = []\n",
    "\n",
    "for e in range(len(df_iphone_filt)):\n",
    "    \n",
    "    bandera = False\n",
    "    serie = df_iphone_filt.iloc[e]\n",
    "    nhc = serie['NHC']\n",
    "    lat = serie['lateralidad 1 Dch 2 izq']\n",
    "    ret = serie['Retinlogo 1 y 2']\n",
    "    \n",
    "    for e in range(len(df_oct_filt)):\n",
    "        \n",
    "        serie_oct = df_oct_filt.iloc[e]\n",
    "        nhc_oct = serie_oct['NHC']\n",
    "        lat_oct = serie_oct['lateralidad 1 Dch 2 izq']\n",
    "        ret_oct = serie_oct['Retinlogo 1 y 2']\n",
    "        \n",
    "        if (nhc==nhc_oct) and (lat==lat_oct) and (ret==ret_oct):\n",
    "            predict_oct_iphone.append(serie_oct['EMD binario'])\n",
    "            bandera = True\n",
    "    \n",
    "    if (bandera==True):\n",
    "        predict_iphone.append(serie['EMD binario'])"
   ]
  },
  {
   "cell_type": "code",
   "execution_count": 21,
   "id": "ea2cac2a",
   "metadata": {},
   "outputs": [
    {
     "name": "stdout",
     "output_type": "stream",
     "text": [
      "[1, 0, 1, 0, 1, 1, 1, 1, 1, 1, 1, 1, 0, 0, 0, 0, 0, 0, 0, 0, 0, 1, 0, 1, 0, 1, 0, 1, 1, 1, 1, 1, 1, 0, 1, 0, 0, 0, 0, 0, 1, 1, 0, 1, 0, 1, 1, 1, 0, 0, 0, 0, 1, 0, 1, 0, 1, 1, 1, 1, 1, 1, 1, 0, 1, 0, 0, 0, 0, 0, 0, 0, 0, 0, 1, 0, 1, 0, 1, 1, 1, 1, 1, 0, 1, 0, 0, 1, 0, 1, 1, 0, 1, 0, 0, 0, 0, 1, 0, 1, 0, 0, 0, 0, 0, 0, 0, 0, 0, 0, 0, 0, 0, 0, 1, 1, 1, 1, 0, 0, 0, 0, 0, 0, 0, 0, 0, 0, 0, 0, 0, 0, 0, 0, 1, 1, 1, 1, 1, 1, 1, 1, 0, 0, 0, 0, 0, 1, 0, 1, 0, 0, 0, 0, 0, 0, 0, 0, 0, 0, 0, 1, 0, 1, 0, 0, 0, 1, 0, 1, 1, 1, 1, 1, 0, 0, 0, 0, 0, 1, 0, 1, 0, 0, 0, 0, 0, 1, 0, 1, 0, 0, 1, 1, 1, 1, 1, 1]\n",
      "198\n"
     ]
    }
   ],
   "source": [
    "print(predict_iphone)\n",
    "print(len(predict_iphone))"
   ]
  },
  {
   "cell_type": "code",
   "execution_count": 22,
   "id": "3407a3d1",
   "metadata": {},
   "outputs": [
    {
     "name": "stdout",
     "output_type": "stream",
     "text": [
      "[0, 0, 0, 0, 1, 1, 1, 1, 0, 1, 0, 1, 0, 0, 0, 0, 1, 0, 1, 0, 0, 1, 0, 1, 0, 1, 0, 1, 0, 0, 0, 0, 1, 0, 1, 0, 1, 0, 1, 0, 0, 0, 0, 1, 0, 1, 1, 1, 0, 0, 0, 0, 1, 0, 1, 0, 0, 0, 1, 1, 1, 1, 0, 0, 0, 0, 0, 0, 0, 0, 0, 0, 0, 0, 1, 0, 1, 0, 1, 1, 1, 1, 1, 0, 1, 0, 0, 0, 0, 0, 1, 0, 1, 0, 1, 1, 0, 1, 0, 1, 0, 0, 0, 0, 0, 0, 0, 0, 0, 0, 0, 0, 0, 0, 1, 1, 1, 1, 0, 0, 0, 0, 0, 0, 0, 0, 0, 1, 0, 1, 0, 0, 0, 0, 1, 1, 1, 1, 1, 1, 1, 1, 0, 1, 0, 1, 0, 1, 0, 1, 0, 0, 0, 0, 0, 0, 0, 0, 0, 0, 0, 1, 0, 1, 0, 0, 0, 1, 0, 1, 1, 1, 1, 1, 0, 0, 0, 0, 0, 1, 0, 1, 0, 0, 0, 0, 1, 0, 1, 0, 0, 0, 1, 1, 0, 0, 0, 0]\n",
      "198\n"
     ]
    }
   ],
   "source": [
    "print(predict_oct_iphone)\n",
    "print(len(predict_oct_iphone))"
   ]
  },
  {
   "cell_type": "code",
   "execution_count": 23,
   "id": "e854aac2",
   "metadata": {},
   "outputs": [
    {
     "name": "stdout",
     "output_type": "stream",
     "text": [
      "True\n"
     ]
    }
   ],
   "source": [
    "print(len(predict_iphone)==len(predict_oct_iphone))"
   ]
  },
  {
   "cell_type": "markdown",
   "id": "4ec2e253",
   "metadata": {},
   "source": [
    "## Resultados Samsung"
   ]
  },
  {
   "cell_type": "code",
   "execution_count": 24,
   "id": "e650940f",
   "metadata": {},
   "outputs": [],
   "source": [
    "predict_samsung = []\n",
    "predict_oct_samsung = []\n",
    "\n",
    "for e in range(len(df_samsung_filt)):\n",
    "    \n",
    "    bandera = False\n",
    "    serie = df_samsung_filt.iloc[e]\n",
    "    nhc = serie['NHC']\n",
    "    lat = serie['lateralidad 1 Dch 2 izq']\n",
    "    ret = serie['Retinlogo 1 y 2']\n",
    "    \n",
    "    for e in range(len(df_oct_filt)):\n",
    "        \n",
    "        serie_oct = df_oct_filt.iloc[e]\n",
    "        nhc_oct = serie_oct['NHC']\n",
    "        lat_oct = serie_oct['lateralidad 1 Dch 2 izq']\n",
    "        ret_oct = serie_oct['Retinlogo 1 y 2']\n",
    "        \n",
    "        if (nhc==nhc_oct) and (lat==lat_oct) and (ret==ret_oct):\n",
    "            predict_oct_samsung.append(serie_oct['EMD binario'])\n",
    "            bandera = True\n",
    "    \n",
    "    if (bandera==True):\n",
    "        predict_samsung.append(serie['EMD binario'])"
   ]
  },
  {
   "cell_type": "code",
   "execution_count": 25,
   "id": "1c7be25c",
   "metadata": {},
   "outputs": [
    {
     "name": "stdout",
     "output_type": "stream",
     "text": [
      "[0, 0, 0, 0, 1, 1, 1, 1, 1, 1, 1, 1, 1, 1, 1, 1, 0, 1, 0, 1, 1, 1, 1, 1, 1, 0, 1, 0, 0, 0, 0, 0, 1, 1, 0, 1, 0, 1, 0, 1, 0, 1, 0, 0, 0, 0, 0, 0, 1, 1, 1, 1, 1, 1, 0, 0, 0, 0, 0, 0, 0, 0, 0, 0, 0, 0, 0, 0, 1, 1, 1, 1, 1, 1, 1, 1, 0, 0, 0, 0, 0, 1, 0, 1, 1, 1, 1, 1, 0, 0, 1, 1, 1, 1, 0, 0, 0, 0, 1, 0, 1, 0, 0, 0, 0, 0, 0, 0, 0, 0, 1, 1, 1, 1, 0, 0, 0, 0, 0, 0, 1, 1, 1, 1, 0, 0, 0, 0, 0, 0, 1, 1, 1, 1, 1, 1, 0, 0, 0, 1, 0, 1, 0, 0, 0, 0, 0, 0, 1, 1, 0, 0, 0, 0, 1, 1, 1, 1, 1, 1, 1, 1, 0, 0, 0, 0, 0, 1, 0, 1, 0, 1, 0, 1, 1, 1, 1, 1, 1, 1, 1, 1, 1, 1, 1, 1, 1, 1]\n",
      "188\n"
     ]
    }
   ],
   "source": [
    "print(predict_samsung)\n",
    "print(len(predict_samsung))"
   ]
  },
  {
   "cell_type": "code",
   "execution_count": 26,
   "id": "2c924861",
   "metadata": {},
   "outputs": [
    {
     "name": "stdout",
     "output_type": "stream",
     "text": [
      "[0, 0, 0, 0, 1, 1, 1, 1, 0, 1, 0, 1, 0, 1, 0, 1, 0, 1, 0, 1, 0, 0, 0, 0, 1, 0, 1, 0, 1, 0, 1, 0, 0, 0, 0, 1, 0, 1, 0, 1, 0, 1, 0, 0, 0, 0, 0, 0, 0, 0, 1, 1, 1, 1, 0, 0, 0, 0, 0, 0, 0, 0, 0, 0, 0, 0, 0, 0, 1, 0, 1, 0, 1, 1, 1, 1, 1, 0, 1, 0, 0, 0, 0, 0, 1, 0, 1, 0, 1, 1, 0, 1, 0, 1, 0, 0, 0, 0, 0, 0, 0, 0, 0, 0, 0, 0, 0, 0, 0, 0, 1, 1, 1, 1, 0, 0, 0, 0, 0, 0, 0, 0, 0, 0, 0, 0, 0, 0, 0, 0, 1, 1, 1, 1, 1, 1, 1, 1, 0, 1, 0, 1, 0, 0, 0, 0, 0, 0, 1, 1, 0, 0, 0, 0, 0, 1, 0, 1, 1, 1, 1, 1, 0, 0, 0, 0, 0, 1, 0, 1, 0, 0, 0, 0, 1, 0, 1, 0, 1, 0, 1, 0, 1, 1, 0, 0, 0, 0]\n",
      "188\n"
     ]
    }
   ],
   "source": [
    "print(predict_oct_samsung)\n",
    "print(len(predict_oct_samsung))"
   ]
  },
  {
   "cell_type": "code",
   "execution_count": 27,
   "id": "09807847",
   "metadata": {},
   "outputs": [
    {
     "name": "stdout",
     "output_type": "stream",
     "text": [
      "True\n"
     ]
    }
   ],
   "source": [
    "print(len(predict_samsung)==len(predict_oct_samsung))"
   ]
  },
  {
   "cell_type": "markdown",
   "id": "b491ec18",
   "metadata": {},
   "source": [
    "# Resultados estadísticos"
   ]
  },
  {
   "cell_type": "markdown",
   "id": "9070e658",
   "metadata": {},
   "source": [
    "# iPhone"
   ]
  },
  {
   "cell_type": "code",
   "execution_count": 28,
   "id": "b0c67130",
   "metadata": {},
   "outputs": [
    {
     "name": "stdout",
     "output_type": "stream",
     "text": [
      "0.8282828282828283\n"
     ]
    }
   ],
   "source": [
    "from sklearn import metrics\n",
    "\n",
    "accuracy_ret_IPhone = metrics.accuracy_score(predict_oct_iphone, predict_iphone)\n",
    "\n",
    "print(accuracy_ret_IPhone)"
   ]
  },
  {
   "cell_type": "code",
   "execution_count": 29,
   "id": "e6aec27f",
   "metadata": {},
   "outputs": [
    {
     "name": "stdout",
     "output_type": "stream",
     "text": [
      "0.8303101856820865\n"
     ]
    }
   ],
   "source": [
    "from sklearn.metrics import f1_score\n",
    "\n",
    "f1_ret_IPhone = f1_score(predict_oct_iphone, predict_iphone, average='weighted')\n",
    "\n",
    "print(f1_ret_IPhone)"
   ]
  },
  {
   "cell_type": "code",
   "execution_count": 30,
   "id": "70fadb7e",
   "metadata": {},
   "outputs": [
    {
     "name": "stdout",
     "output_type": "stream",
     "text": [
      "0.8293650793650794\n"
     ]
    }
   ],
   "source": [
    "from sklearn.metrics import roc_auc_score\n",
    "\n",
    "auc_ret_IPhone = roc_auc_score(predict_oct_iphone, predict_iphone)\n",
    "\n",
    "print(auc_ret_IPhone)"
   ]
  },
  {
   "cell_type": "code",
   "execution_count": 34,
   "id": "91663090",
   "metadata": {},
   "outputs": [
    {
     "name": "stdout",
     "output_type": "stream",
     "text": [
      "0.7317073170731707\n"
     ]
    }
   ],
   "source": [
    "from sklearn.metrics import precision_score\n",
    "\n",
    "precision_ret_IPhone = precision_score(predict_oct_iphone, predict_iphone)\n",
    "\n",
    "print(precision_ret_IPhone)"
   ]
  },
  {
   "cell_type": "code",
   "execution_count": 36,
   "id": "9c483161",
   "metadata": {
    "scrolled": true
   },
   "outputs": [
    {
     "name": "stdout",
     "output_type": "stream",
     "text": [
      "0.8333333333333334\n"
     ]
    }
   ],
   "source": [
    "from sklearn.metrics import recall_score\n",
    "\n",
    "recall_ret_IPhone = recall_score(predict_oct_iphone, predict_iphone)\n",
    "\n",
    "print(recall_ret_IPhone)"
   ]
  },
  {
   "cell_type": "code",
   "execution_count": 40,
   "id": "f907f114",
   "metadata": {},
   "outputs": [
    {
     "name": "stdout",
     "output_type": "stream",
     "text": [
      "0.8195936294498375\n"
     ]
    }
   ],
   "source": [
    "from sklearn.metrics import precision_recall_fscore_support\n",
    "import numpy as np\n",
    "\n",
    "precision, recall, _, _ = precision_recall_fscore_support(predict_oct_iphone, predict_iphone, average=None)\n",
    "gm_per_class = [np.sqrt(precision[i] * recall[i]) for i in range(len(precision))]\n",
    "gm_total = np.prod(gm_per_class) ** (1/len(gm_per_class))\n",
    "\n",
    "print(gm_total)"
   ]
  },
  {
   "cell_type": "markdown",
   "id": "4afd88c6",
   "metadata": {},
   "source": [
    "# Samsung"
   ]
  },
  {
   "cell_type": "code",
   "execution_count": 31,
   "id": "72541a91",
   "metadata": {},
   "outputs": [
    {
     "name": "stdout",
     "output_type": "stream",
     "text": [
      "0.7553191489361702\n"
     ]
    }
   ],
   "source": [
    "accuracy_ret_Samsung = metrics.accuracy_score(predict_oct_samsung, predict_samsung)\n",
    "\n",
    "print(accuracy_ret_Samsung)"
   ]
  },
  {
   "cell_type": "code",
   "execution_count": 32,
   "id": "06b43e12",
   "metadata": {},
   "outputs": [
    {
     "name": "stdout",
     "output_type": "stream",
     "text": [
      "0.7608242563502058\n"
     ]
    }
   ],
   "source": [
    "f1_ret_Samsung = f1_score(predict_oct_samsung, predict_samsung, average='weighted')\n",
    "\n",
    "print(f1_ret_Samsung)"
   ]
  },
  {
   "cell_type": "code",
   "execution_count": 33,
   "id": "b74a9393",
   "metadata": {},
   "outputs": [
    {
     "name": "stdout",
     "output_type": "stream",
     "text": [
      "0.7836562344759066\n"
     ]
    }
   ],
   "source": [
    "auc_ret_Samsung = roc_auc_score(predict_oct_samsung, predict_samsung)\n",
    "\n",
    "print(auc_ret_Samsung)"
   ]
  },
  {
   "cell_type": "code",
   "execution_count": 37,
   "id": "ff660c5c",
   "metadata": {},
   "outputs": [
    {
     "name": "stdout",
     "output_type": "stream",
     "text": [
      "0.6041666666666666\n"
     ]
    }
   ],
   "source": [
    "from sklearn.metrics import precision_score\n",
    "\n",
    "precision_ret_samsung = precision_score(predict_oct_samsung, predict_samsung)\n",
    "\n",
    "print(precision_ret_samsung)"
   ]
  },
  {
   "cell_type": "code",
   "execution_count": 38,
   "id": "48a02da5",
   "metadata": {},
   "outputs": [
    {
     "name": "stdout",
     "output_type": "stream",
     "text": [
      "0.8787878787878788\n"
     ]
    }
   ],
   "source": [
    "from sklearn.metrics import recall_score\n",
    "\n",
    "recall_ret_samsung = recall_score(predict_oct_samsung, predict_samsung)\n",
    "\n",
    "print(recall_ret_samsung)"
   ]
  },
  {
   "cell_type": "code",
   "execution_count": 41,
   "id": "82ecde10",
   "metadata": {},
   "outputs": [
    {
     "name": "stdout",
     "output_type": "stream",
     "text": [
      "0.7600863497039604\n"
     ]
    }
   ],
   "source": [
    "from sklearn.metrics import precision_recall_fscore_support\n",
    "import numpy as np\n",
    "\n",
    "precision, recall, _, _ = precision_recall_fscore_support(predict_oct_samsung, predict_samsung, average=None)\n",
    "gm_per_class = [np.sqrt(precision[i] * recall[i]) for i in range(len(precision))]\n",
    "gm_total = np.prod(gm_per_class) ** (1/len(gm_per_class))\n",
    "\n",
    "print(gm_total)"
   ]
  }
 ],
 "metadata": {
  "kernelspec": {
   "display_name": "Python 3 (ipykernel)",
   "language": "python",
   "name": "python3"
  },
  "language_info": {
   "codemirror_mode": {
    "name": "ipython",
    "version": 3
   },
   "file_extension": ".py",
   "mimetype": "text/x-python",
   "name": "python",
   "nbconvert_exporter": "python",
   "pygments_lexer": "ipython3",
   "version": "3.9.12"
  }
 },
 "nbformat": 4,
 "nbformat_minor": 5
}

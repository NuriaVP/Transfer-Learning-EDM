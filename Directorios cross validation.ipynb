{
 "cells": [
  {
   "cell_type": "code",
   "execution_count": 164,
   "id": "53421a63",
   "metadata": {},
   "outputs": [],
   "source": [
    "import os\n",
    "import shutil"
   ]
  },
  {
   "cell_type": "code",
   "execution_count": 81,
   "id": "a9facfd2",
   "metadata": {},
   "outputs": [],
   "source": [
    "dir_iphone_emd = 'Datos preprocesados INP EMD/iPhone/EMD'\n",
    "dir_iphone_no_emd = 'Datos preprocesados INP EMD/iPhone/NO EMD'\n",
    "dir_oct_emd = 'Datos preprocesados INP EMD/OCT/EMD'\n",
    "dir_oct_no_emd = 'Datos preprocesados INP EMD/OCT/NO EMD'\n",
    "dir_samsung_emd = 'Datos preprocesados INP EMD/Samsung/EMD'\n",
    "dir_samsung_no_emd = 'Datos preprocesados INP EMD/Samsung/NO EMD'\n",
    "dir_messidor_emd = 'Datos preprocesados INP EMD/MESSIDOR/EMD'\n",
    "dir_messidor_no_emd = 'Datos preprocesados INP EMD/MESSIDOR/NO EMD'"
   ]
  },
  {
   "cell_type": "code",
   "execution_count": 82,
   "id": "7bc3aa69",
   "metadata": {},
   "outputs": [],
   "source": [
    "iphone_emd = os.listdir(dir_iphone_emd)\n",
    "iphone_no_emd = os.listdir(dir_iphone_no_emd)\n",
    "oct_emd = os.listdir(dir_oct_emd)\n",
    "oct_no_emd = os.listdir(dir_oct_no_emd)\n",
    "samsung_emd = os.listdir(dir_samsung_emd)\n",
    "samsung_no_emd = os.listdir(dir_samsung_no_emd)\n",
    "messidor_emd = os.listdir(dir_messidor_emd)\n",
    "messidor_no_emd = os.listdir(dir_messidor_no_emd)"
   ]
  },
  {
   "cell_type": "code",
   "execution_count": 83,
   "id": "31fea930",
   "metadata": {},
   "outputs": [
    {
     "name": "stdout",
     "output_type": "stream",
     "text": [
      "['141770ED_proc.jpg', '141770EI_proc.jpg', '170692ED_proc.jpg', '170692EI_proc.jpg', '205809EI_proc.jpg', '213529EI_proc.jpg', '250413EI_proc.jpg', '252193ED_proc.jpg', '252193EI_proc.jpg', '289215ED_proc.jpg', '289215EI_proc.jpg', '334488ED_proc.jpg', '334488EI_proc.jpg', '38950EI_proc.jpg', '434169ED_proc.jpg', '434169EI_proc.jpg', '527767ED_proc.jpg', '527767EI_proc.jpg', '54116ED_proc.jpg', '54116EI_proc.jpg', '62612ED_proc.jpg', '62612EI_proc.jpg', '63027ED_proc.jpg', '63027EI_proc.jpg']\n"
     ]
    }
   ],
   "source": [
    "print(iphone_emd)"
   ]
  },
  {
   "cell_type": "code",
   "execution_count": 84,
   "id": "52e2d9dd",
   "metadata": {},
   "outputs": [],
   "source": [
    "num_iphone_emd = len(iphone_emd)\n",
    "num_iphone_no_emd = len(iphone_no_emd)\n",
    "num_oct_emd = len(oct_emd)\n",
    "num_oct_no_emd = len(oct_no_emd)\n",
    "num_samsung_emd = len(samsung_emd)\n",
    "num_samsung_no_emd = len(samsung_no_emd)\n",
    "num_messidor_emd = len(messidor_emd)\n",
    "num_messidor_no_emd = len(messidor_no_emd)"
   ]
  },
  {
   "cell_type": "code",
   "execution_count": 85,
   "id": "f8958633",
   "metadata": {
    "scrolled": true
   },
   "outputs": [
    {
     "name": "stdout",
     "output_type": "stream",
     "text": [
      "24\n"
     ]
    }
   ],
   "source": [
    "print(num_iphone_emd)"
   ]
  },
  {
   "cell_type": "code",
   "execution_count": 119,
   "id": "97919397",
   "metadata": {},
   "outputs": [
    {
     "name": "stdout",
     "output_type": "stream",
     "text": [
      "18\n"
     ]
    }
   ],
   "source": [
    "print(num_oct_emd)"
   ]
  },
  {
   "cell_type": "code",
   "execution_count": 86,
   "id": "01916ecd",
   "metadata": {},
   "outputs": [],
   "source": [
    "tam_iphone_emd = round(len(iphone_emd)/5)\n",
    "tam_iphone_no_emd = round(len(iphone_no_emd)/5)\n",
    "tam_oct_emd = round(len(oct_emd)/5)\n",
    "tam_oct_no_emd = round(len(oct_no_emd)/5)\n",
    "tam_samsung_emd = round(len(samsung_emd)/5)\n",
    "tam_samsung_no_emd = round(len(samsung_no_emd)/5)\n",
    "tam_messidor_emd = round(len(messidor_emd)/5)\n",
    "tam_messidor_no_emd = round(len(messidor_no_emd)/5)"
   ]
  },
  {
   "cell_type": "code",
   "execution_count": 87,
   "id": "3f25d1fb",
   "metadata": {},
   "outputs": [
    {
     "name": "stdout",
     "output_type": "stream",
     "text": [
      "5\n"
     ]
    }
   ],
   "source": [
    "print(tam_iphone_emd)"
   ]
  },
  {
   "cell_type": "code",
   "execution_count": 88,
   "id": "e0b78a61",
   "metadata": {},
   "outputs": [],
   "source": [
    "k1_iphone_emd = []\n",
    "contador1 = 0\n",
    "while(contador1<tam_iphone_emd):\n",
    "    k1_iphone_emd.append(iphone_emd[0])\n",
    "    iphone_emd.pop(0)\n",
    "    contador1 += 1"
   ]
  },
  {
   "cell_type": "code",
   "execution_count": 89,
   "id": "2ddc975e",
   "metadata": {},
   "outputs": [
    {
     "name": "stdout",
     "output_type": "stream",
     "text": [
      "['141770ED_proc.jpg', '141770EI_proc.jpg', '170692ED_proc.jpg', '170692EI_proc.jpg', '205809EI_proc.jpg']\n",
      "5\n",
      "['213529EI_proc.jpg', '250413EI_proc.jpg', '252193ED_proc.jpg', '252193EI_proc.jpg', '289215ED_proc.jpg', '289215EI_proc.jpg', '334488ED_proc.jpg', '334488EI_proc.jpg', '38950EI_proc.jpg', '434169ED_proc.jpg', '434169EI_proc.jpg', '527767ED_proc.jpg', '527767EI_proc.jpg', '54116ED_proc.jpg', '54116EI_proc.jpg', '62612ED_proc.jpg', '62612EI_proc.jpg', '63027ED_proc.jpg', '63027EI_proc.jpg']\n",
      "19\n"
     ]
    }
   ],
   "source": [
    "print(k1_iphone_emd)\n",
    "print(contador1)\n",
    "print(iphone_emd)\n",
    "print(len(iphone_emd))"
   ]
  },
  {
   "cell_type": "code",
   "execution_count": 90,
   "id": "0d3f83e5",
   "metadata": {},
   "outputs": [],
   "source": [
    "k2_iphone_emd = []\n",
    "contador2 = 0\n",
    "while(contador2<tam_iphone_emd):\n",
    "    k2_iphone_emd.append(iphone_emd[0])\n",
    "    iphone_emd.pop(0)\n",
    "    contador2 += 1"
   ]
  },
  {
   "cell_type": "code",
   "execution_count": 91,
   "id": "04c1e4d9",
   "metadata": {},
   "outputs": [
    {
     "name": "stdout",
     "output_type": "stream",
     "text": [
      "['213529EI_proc.jpg', '250413EI_proc.jpg', '252193ED_proc.jpg', '252193EI_proc.jpg', '289215ED_proc.jpg']\n",
      "5\n",
      "['289215EI_proc.jpg', '334488ED_proc.jpg', '334488EI_proc.jpg', '38950EI_proc.jpg', '434169ED_proc.jpg', '434169EI_proc.jpg', '527767ED_proc.jpg', '527767EI_proc.jpg', '54116ED_proc.jpg', '54116EI_proc.jpg', '62612ED_proc.jpg', '62612EI_proc.jpg', '63027ED_proc.jpg', '63027EI_proc.jpg']\n",
      "14\n"
     ]
    }
   ],
   "source": [
    "print(k2_iphone_emd)\n",
    "print(contador2)\n",
    "print(iphone_emd)\n",
    "print(len(iphone_emd))"
   ]
  },
  {
   "cell_type": "code",
   "execution_count": 92,
   "id": "9de1ff1c",
   "metadata": {},
   "outputs": [
    {
     "name": "stdout",
     "output_type": "stream",
     "text": [
      "13\n",
      "12\n",
      "11\n",
      "10\n",
      "9\n"
     ]
    }
   ],
   "source": [
    "k3_iphone_emd = []\n",
    "contador3 = 0\n",
    "while(contador3<tam_iphone_emd):\n",
    "    k3_iphone_emd.append(iphone_emd[0])\n",
    "    iphone_emd.pop(0)\n",
    "    print(len(iphone_emd))\n",
    "    contador3 += 1"
   ]
  },
  {
   "cell_type": "code",
   "execution_count": 93,
   "id": "2b256f92",
   "metadata": {},
   "outputs": [
    {
     "name": "stdout",
     "output_type": "stream",
     "text": [
      "['289215EI_proc.jpg', '334488ED_proc.jpg', '334488EI_proc.jpg', '38950EI_proc.jpg', '434169ED_proc.jpg']\n",
      "5\n",
      "['434169EI_proc.jpg', '527767ED_proc.jpg', '527767EI_proc.jpg', '54116ED_proc.jpg', '54116EI_proc.jpg', '62612ED_proc.jpg', '62612EI_proc.jpg', '63027ED_proc.jpg', '63027EI_proc.jpg']\n",
      "9\n"
     ]
    }
   ],
   "source": [
    "print(k3_iphone_emd)\n",
    "print(contador3)\n",
    "print(iphone_emd)\n",
    "print(len(iphone_emd))"
   ]
  },
  {
   "cell_type": "code",
   "execution_count": 94,
   "id": "9cc24fed",
   "metadata": {},
   "outputs": [
    {
     "name": "stdout",
     "output_type": "stream",
     "text": [
      "8\n",
      "7\n",
      "6\n",
      "5\n",
      "4\n"
     ]
    }
   ],
   "source": [
    "k4_iphone_emd = []\n",
    "contador4 = 0\n",
    "while(contador4<tam_iphone_emd):\n",
    "    k4_iphone_emd.append(iphone_emd[0])\n",
    "    iphone_emd.pop(0)\n",
    "    print(len(iphone_emd))\n",
    "    contador4 += 1"
   ]
  },
  {
   "cell_type": "code",
   "execution_count": 95,
   "id": "13c34d83",
   "metadata": {},
   "outputs": [],
   "source": [
    "k5_iphone_emd = iphone_emd"
   ]
  },
  {
   "cell_type": "code",
   "execution_count": 96,
   "id": "c0a942b0",
   "metadata": {},
   "outputs": [
    {
     "name": "stdout",
     "output_type": "stream",
     "text": [
      "['62612ED_proc.jpg', '62612EI_proc.jpg', '63027ED_proc.jpg', '63027EI_proc.jpg']\n"
     ]
    }
   ],
   "source": [
    "print(k5_iphone_emd)"
   ]
  },
  {
   "cell_type": "code",
   "execution_count": 97,
   "id": "7631d692",
   "metadata": {},
   "outputs": [
    {
     "name": "stdout",
     "output_type": "stream",
     "text": [
      "15\n"
     ]
    }
   ],
   "source": [
    "print(tam_iphone_no_emd)"
   ]
  },
  {
   "cell_type": "code",
   "execution_count": 98,
   "id": "f07858a8",
   "metadata": {},
   "outputs": [
    {
     "name": "stdout",
     "output_type": "stream",
     "text": [
      "74\n",
      "73\n",
      "72\n",
      "71\n",
      "70\n",
      "69\n",
      "68\n",
      "67\n",
      "66\n",
      "65\n",
      "64\n",
      "63\n",
      "62\n",
      "61\n",
      "60\n"
     ]
    }
   ],
   "source": [
    "k1_iphone_no_emd = []\n",
    "contador5 = 0\n",
    "while(contador5<tam_iphone_no_emd):\n",
    "    k1_iphone_no_emd.append(iphone_no_emd[0])\n",
    "    iphone_no_emd.pop(0)\n",
    "    print(len(iphone_no_emd))\n",
    "    contador5 += 1"
   ]
  },
  {
   "cell_type": "code",
   "execution_count": 99,
   "id": "07629d29",
   "metadata": {},
   "outputs": [
    {
     "name": "stdout",
     "output_type": "stream",
     "text": [
      "59\n",
      "58\n",
      "57\n",
      "56\n",
      "55\n",
      "54\n",
      "53\n",
      "52\n",
      "51\n",
      "50\n",
      "49\n",
      "48\n",
      "47\n",
      "46\n",
      "45\n"
     ]
    }
   ],
   "source": [
    "k2_iphone_no_emd = []\n",
    "contador6 = 0\n",
    "while(contador6<tam_iphone_no_emd):\n",
    "    k2_iphone_no_emd.append(iphone_no_emd[0])\n",
    "    iphone_no_emd.pop(0)\n",
    "    print(len(iphone_no_emd))\n",
    "    contador6 += 1"
   ]
  },
  {
   "cell_type": "code",
   "execution_count": 100,
   "id": "fa29dd85",
   "metadata": {},
   "outputs": [
    {
     "name": "stdout",
     "output_type": "stream",
     "text": [
      "44\n",
      "43\n",
      "42\n",
      "41\n",
      "40\n",
      "39\n",
      "38\n",
      "37\n",
      "36\n",
      "35\n",
      "34\n",
      "33\n",
      "32\n",
      "31\n",
      "30\n"
     ]
    }
   ],
   "source": [
    "k3_iphone_no_emd = []\n",
    "contador7 = 0\n",
    "while(contador7<tam_iphone_no_emd):\n",
    "    k3_iphone_no_emd.append(iphone_no_emd[0])\n",
    "    iphone_no_emd.pop(0)\n",
    "    print(len(iphone_no_emd))\n",
    "    contador7 += 1"
   ]
  },
  {
   "cell_type": "code",
   "execution_count": 101,
   "id": "b991814c",
   "metadata": {},
   "outputs": [
    {
     "name": "stdout",
     "output_type": "stream",
     "text": [
      "29\n",
      "28\n",
      "27\n",
      "26\n",
      "25\n",
      "24\n",
      "23\n",
      "22\n",
      "21\n",
      "20\n",
      "19\n",
      "18\n",
      "17\n",
      "16\n",
      "15\n"
     ]
    }
   ],
   "source": [
    "k4_iphone_no_emd = []\n",
    "contador8 = 0\n",
    "while(contador8<tam_iphone_no_emd):\n",
    "    k4_iphone_no_emd.append(iphone_no_emd[0])\n",
    "    iphone_no_emd.pop(0)\n",
    "    print(len(iphone_no_emd))\n",
    "    contador8 += 1"
   ]
  },
  {
   "cell_type": "code",
   "execution_count": 102,
   "id": "e5b73d16",
   "metadata": {},
   "outputs": [],
   "source": [
    "k5_iphone_no_emd = iphone_no_emd"
   ]
  },
  {
   "cell_type": "code",
   "execution_count": 107,
   "id": "bce5f17b",
   "metadata": {},
   "outputs": [
    {
     "name": "stdout",
     "output_type": "stream",
     "text": [
      "['489959EI_proc.jpg', '514506ED_proc.jpg', '516892EI_proc.jpg', '517191ED_proc.jpg', '517191EI_proc.jpg', '519801ED_proc.jpg', '519801EI_proc.jpg', '60716ED_proc.jpg', '60716EI_proc.jpg', '71924ED_proc.jpg', '71924EI_proc.jpg', '80336ED_proc.jpg', '80336EI_proc.jpg', '94401ED_proc.jpg', '94401EI_proc.jpg']\n"
     ]
    }
   ],
   "source": [
    "print(k5_iphone_no_emd)"
   ]
  },
  {
   "cell_type": "code",
   "execution_count": 108,
   "id": "a479c3cc",
   "metadata": {},
   "outputs": [
    {
     "name": "stdout",
     "output_type": "stream",
     "text": [
      "4\n"
     ]
    }
   ],
   "source": [
    "print(tam_oct_emd)"
   ]
  },
  {
   "cell_type": "code",
   "execution_count": 109,
   "id": "c8aba9fe",
   "metadata": {},
   "outputs": [],
   "source": [
    "k1_oct_emd = []\n",
    "contador9 = 0\n",
    "while(contador9<tam_oct_emd):\n",
    "    k1_oct_emd.append(oct_emd[0])\n",
    "    oct_emd.pop(0)\n",
    "    contador9 += 1"
   ]
  },
  {
   "cell_type": "code",
   "execution_count": 110,
   "id": "ee4c7358",
   "metadata": {},
   "outputs": [
    {
     "name": "stdout",
     "output_type": "stream",
     "text": [
      "['252193TD_proc.jpg', '252193TI_proc.jpg', '25683TD_proc.jpg', '25683TI_proc.jpg']\n"
     ]
    }
   ],
   "source": [
    "print(k1_oct_emd)"
   ]
  },
  {
   "cell_type": "code",
   "execution_count": 111,
   "id": "2effe620",
   "metadata": {},
   "outputs": [],
   "source": [
    "k2_oct_emd = []\n",
    "contador10 = 0\n",
    "while(contador10<tam_oct_emd):\n",
    "    k2_oct_emd.append(oct_emd[0])\n",
    "    oct_emd.pop(0)\n",
    "    contador10 += 1"
   ]
  },
  {
   "cell_type": "code",
   "execution_count": 112,
   "id": "1e14aad3",
   "metadata": {},
   "outputs": [
    {
     "name": "stdout",
     "output_type": "stream",
     "text": [
      "['289215TD_proc.jpg', '289215TI_proc.jpg', '323220TD_proc.jpg', '323220TI_proc.jpg']\n"
     ]
    }
   ],
   "source": [
    "print(k2_oct_emd)"
   ]
  },
  {
   "cell_type": "code",
   "execution_count": 113,
   "id": "4a065968",
   "metadata": {},
   "outputs": [],
   "source": [
    "k3_oct_emd = []\n",
    "contador11 = 0\n",
    "while(contador11<tam_oct_emd):\n",
    "    k3_oct_emd.append(oct_emd[0])\n",
    "    oct_emd.pop(0)\n",
    "    contador11 += 1"
   ]
  },
  {
   "cell_type": "code",
   "execution_count": 114,
   "id": "0533fb38",
   "metadata": {},
   "outputs": [
    {
     "name": "stdout",
     "output_type": "stream",
     "text": [
      "['334488TD_proc.jpg', '334488TI_proc.jpg', '434169TD_proc.jpg', '434169TI_proc.jpg']\n"
     ]
    }
   ],
   "source": [
    "print(k3_oct_emd)"
   ]
  },
  {
   "cell_type": "code",
   "execution_count": 115,
   "id": "e0a251d0",
   "metadata": {},
   "outputs": [],
   "source": [
    "k4_oct_emd = []\n",
    "contador12 = 0\n",
    "while(contador12<tam_oct_emd):\n",
    "    k4_oct_emd.append(oct_emd[0])\n",
    "    oct_emd.pop(0)\n",
    "    contador12 += 1"
   ]
  },
  {
   "cell_type": "code",
   "execution_count": 116,
   "id": "f26b18d3",
   "metadata": {},
   "outputs": [
    {
     "name": "stdout",
     "output_type": "stream",
     "text": [
      "['527767TD_proc.jpg', '527767TI_proc.jpg', '54116TD_proc.jpg', '54116TI_proc.jpg']\n"
     ]
    }
   ],
   "source": [
    "print(k4_oct_emd)"
   ]
  },
  {
   "cell_type": "code",
   "execution_count": 117,
   "id": "dd790398",
   "metadata": {},
   "outputs": [],
   "source": [
    "k5_oct_emd = oct_emd"
   ]
  },
  {
   "cell_type": "code",
   "execution_count": 118,
   "id": "f1b63d02",
   "metadata": {},
   "outputs": [
    {
     "name": "stdout",
     "output_type": "stream",
     "text": [
      "['62612TD_proc.jpg', '62612TI_proc.jpg']\n"
     ]
    }
   ],
   "source": [
    "print(k5_oct_emd)"
   ]
  },
  {
   "cell_type": "code",
   "execution_count": 120,
   "id": "1f2fd123",
   "metadata": {},
   "outputs": [],
   "source": [
    "k1_oct_no_emd = []\n",
    "contador13 = 0\n",
    "while(contador13<tam_oct_no_emd):\n",
    "    k1_oct_no_emd.append(oct_no_emd[0])\n",
    "    oct_no_emd.pop(0)\n",
    "    contador13 += 1"
   ]
  },
  {
   "cell_type": "code",
   "execution_count": 121,
   "id": "57be42cd",
   "metadata": {},
   "outputs": [
    {
     "name": "stdout",
     "output_type": "stream",
     "text": [
      "['118741TD_proc.jpg', '118741TI_proc.jpg', '120948TD_proc.jpg', '120948TI_proc.jpg', '126661TD_proc.jpg', '126661TI_proc.jpg', '141770TD_proc.jpg', '141770TI_proc.jpg', '158979TD_proc.jpg', '158979TI_proc.jpg', '170692TD_proc.jpg', '170692TI_proc.jpg', '175999TD_proc.jpg', '175999TI_proc.jpg', '198336TD_proc.jpg', '198336TI_proc.jpg', '205809TD_proc.jpg', '205809TI_proc.jpg', '207852TD_proc.jpg']\n"
     ]
    }
   ],
   "source": [
    "print(k1_oct_no_emd)"
   ]
  },
  {
   "cell_type": "code",
   "execution_count": 123,
   "id": "12dfa44b",
   "metadata": {},
   "outputs": [
    {
     "name": "stdout",
     "output_type": "stream",
     "text": [
      "95\n"
     ]
    }
   ],
   "source": [
    "print(num_oct_no_emd)"
   ]
  },
  {
   "cell_type": "code",
   "execution_count": 124,
   "id": "c378a3a3",
   "metadata": {},
   "outputs": [],
   "source": [
    "k2_oct_no_emd = []\n",
    "contador14 = 0\n",
    "while(contador14<tam_oct_no_emd):\n",
    "    k2_oct_no_emd.append(oct_no_emd[0])\n",
    "    oct_no_emd.pop(0)\n",
    "    contador14 += 1"
   ]
  },
  {
   "cell_type": "code",
   "execution_count": 125,
   "id": "191866e9",
   "metadata": {},
   "outputs": [],
   "source": [
    "k3_oct_no_emd = []\n",
    "contador15 = 0\n",
    "while(contador15<tam_oct_no_emd):\n",
    "    k3_oct_no_emd.append(oct_no_emd[0])\n",
    "    oct_no_emd.pop(0)\n",
    "    contador15 += 1"
   ]
  },
  {
   "cell_type": "code",
   "execution_count": 126,
   "id": "1488106b",
   "metadata": {},
   "outputs": [],
   "source": [
    "k4_oct_no_emd = []\n",
    "contador16 = 0\n",
    "while(contador16<tam_oct_no_emd):\n",
    "    k4_oct_no_emd.append(oct_no_emd[0])\n",
    "    oct_no_emd.pop(0)\n",
    "    contador16 += 1"
   ]
  },
  {
   "cell_type": "code",
   "execution_count": 127,
   "id": "931a7458",
   "metadata": {},
   "outputs": [],
   "source": [
    "k5_oct_no_emd = oct_no_emd"
   ]
  },
  {
   "cell_type": "code",
   "execution_count": 128,
   "id": "7c8df838",
   "metadata": {},
   "outputs": [
    {
     "name": "stdout",
     "output_type": "stream",
     "text": [
      "['489959TI_proc.jpg', '514506TD_proc.jpg', '514506TI_proc.jpg', '516892TD_proc.jpg', '516892TI_proc.jpg', '517191TD_proc.jpg', '517191TI_proc.jpg', '519801TD_proc.jpg', '519801TI_proc.jpg', '60716TD_proc.jpg', '60716TI_proc.jpg', '63027TD_proc.jpg', '63027TI_proc.jpg', '71924TD_proc.jpg', '71924TI_proc.jpg', '80336TD_proc.jpg', '80336TI_proc.jpg', '94401TD_proc.jpg', '94401TI_proc.jpg']\n",
      "19\n"
     ]
    }
   ],
   "source": [
    "print(k5_oct_no_emd)\n",
    "print(len(k5_oct_no_emd))"
   ]
  },
  {
   "cell_type": "code",
   "execution_count": 129,
   "id": "40aad7ad",
   "metadata": {},
   "outputs": [],
   "source": [
    "k1_samsung_emd = []\n",
    "contador17 = 0\n",
    "while(contador17<tam_samsung_emd):\n",
    "    k1_samsung_emd.append(samsung_emd[0])\n",
    "    samsung_emd.pop(0)\n",
    "    contador17 += 1"
   ]
  },
  {
   "cell_type": "code",
   "execution_count": 130,
   "id": "58545f04",
   "metadata": {
    "scrolled": true
   },
   "outputs": [
    {
     "name": "stdout",
     "output_type": "stream",
     "text": [
      "['141770GD_proc.jpg', '141770GI_proc.jpg', '170692GD_proc.jpg', '170692GI_proc.jpg', '205809GI_proc.jpg', '238098GD_proc.jpg', '238098GI_proc.jpg', '250413GD_proc.jpg']\n"
     ]
    }
   ],
   "source": [
    "print(k1_samsung_emd)"
   ]
  },
  {
   "cell_type": "code",
   "execution_count": 137,
   "id": "9fad532d",
   "metadata": {},
   "outputs": [
    {
     "name": "stdout",
     "output_type": "stream",
     "text": [
      "38\n"
     ]
    }
   ],
   "source": [
    "print(num_samsung_emd)"
   ]
  },
  {
   "cell_type": "code",
   "execution_count": 132,
   "id": "68ffd72d",
   "metadata": {},
   "outputs": [],
   "source": [
    "k2_samsung_emd = []\n",
    "contador18 = 0\n",
    "while(contador18<tam_samsung_emd):\n",
    "    k2_samsung_emd.append(samsung_emd[0])\n",
    "    samsung_emd.pop(0)\n",
    "    contador18 += 1"
   ]
  },
  {
   "cell_type": "code",
   "execution_count": 133,
   "id": "78378357",
   "metadata": {},
   "outputs": [],
   "source": [
    "k3_samsung_emd = []\n",
    "contador19 = 0\n",
    "while(contador19<tam_samsung_emd):\n",
    "    k3_samsung_emd.append(samsung_emd[0])\n",
    "    samsung_emd.pop(0)\n",
    "    contador19 += 1"
   ]
  },
  {
   "cell_type": "code",
   "execution_count": 134,
   "id": "0624cf46",
   "metadata": {},
   "outputs": [],
   "source": [
    "k4_samsung_emd = []\n",
    "contador20 = 0\n",
    "while(contador20<tam_samsung_emd):\n",
    "    k4_samsung_emd.append(samsung_emd[0])\n",
    "    samsung_emd.pop(0)\n",
    "    contador20 += 1"
   ]
  },
  {
   "cell_type": "code",
   "execution_count": 135,
   "id": "4917143b",
   "metadata": {},
   "outputs": [],
   "source": [
    "k5_samsung_emd = samsung_emd"
   ]
  },
  {
   "cell_type": "code",
   "execution_count": 136,
   "id": "8a8af376",
   "metadata": {},
   "outputs": [
    {
     "name": "stdout",
     "output_type": "stream",
     "text": [
      "['62612GD_proc.jpg', '62612GI_proc.jpg', '63027GD_proc.jpg', '63027GI_proc.jpg', '94401GD_proc.jpg', '94401GI_proc.jpg']\n"
     ]
    }
   ],
   "source": [
    "print(k5_samsung_emd)"
   ]
  },
  {
   "cell_type": "code",
   "execution_count": 138,
   "id": "18b61633",
   "metadata": {},
   "outputs": [],
   "source": [
    "k1_samsung_no_emd = []\n",
    "contador21 = 0\n",
    "while(contador21<tam_samsung_no_emd):\n",
    "    k1_samsung_no_emd.append(samsung_no_emd[0])\n",
    "    samsung_no_emd.pop(0)\n",
    "    contador21 += 1"
   ]
  },
  {
   "cell_type": "code",
   "execution_count": 139,
   "id": "c0987d71",
   "metadata": {},
   "outputs": [
    {
     "name": "stdout",
     "output_type": "stream",
     "text": [
      "['118741GI_proc.jpg', '120948GI_proc.jpg', '126661GD_proc.jpg', '126661GI_proc.jpg', '158979GD_proc.jpg', '158979GI_proc.jpg', '175999GD_proc.jpg', '175999GI_proc.jpg', '198336GD_proc.jpg', '198336GI_proc.jpg', '207852GD_proc.jpg']\n"
     ]
    }
   ],
   "source": [
    "print(k1_samsung_no_emd)"
   ]
  },
  {
   "cell_type": "code",
   "execution_count": 146,
   "id": "8f786e18",
   "metadata": {},
   "outputs": [
    {
     "name": "stdout",
     "output_type": "stream",
     "text": [
      "55\n"
     ]
    }
   ],
   "source": [
    "print(num_samsung_no_emd)"
   ]
  },
  {
   "cell_type": "code",
   "execution_count": 141,
   "id": "fd66d466",
   "metadata": {},
   "outputs": [],
   "source": [
    "k2_samsung_no_emd = []\n",
    "contador22 = 0\n",
    "while(contador22<tam_samsung_no_emd):\n",
    "    k2_samsung_no_emd.append(samsung_no_emd[0])\n",
    "    samsung_no_emd.pop(0)\n",
    "    contador22 += 1"
   ]
  },
  {
   "cell_type": "code",
   "execution_count": 142,
   "id": "19e1f85e",
   "metadata": {},
   "outputs": [],
   "source": [
    "k3_samsung_no_emd = []\n",
    "contador23 = 0\n",
    "while(contador23<tam_samsung_no_emd):\n",
    "    k3_samsung_no_emd.append(samsung_no_emd[0])\n",
    "    samsung_no_emd.pop(0)\n",
    "    contador23 += 1"
   ]
  },
  {
   "cell_type": "code",
   "execution_count": 143,
   "id": "497d4c81",
   "metadata": {},
   "outputs": [],
   "source": [
    "k4_samsung_no_emd = []\n",
    "contador24 = 0\n",
    "while(contador24<tam_samsung_no_emd):\n",
    "    k4_samsung_no_emd.append(samsung_no_emd[0])\n",
    "    samsung_no_emd.pop(0)\n",
    "    contador24 += 1"
   ]
  },
  {
   "cell_type": "code",
   "execution_count": 144,
   "id": "af72a858",
   "metadata": {},
   "outputs": [],
   "source": [
    "k5_samsung_no_emd = samsung_no_emd"
   ]
  },
  {
   "cell_type": "code",
   "execution_count": 145,
   "id": "cbcdb54a",
   "metadata": {},
   "outputs": [
    {
     "name": "stdout",
     "output_type": "stream",
     "text": [
      "['441914GI_proc.jpg', '44689GD_proc.jpg', '44689GI_proc.jpg', '489959GD_proc.jpg', '489959GI_proc.jpg', '514506GD_proc.jpg', '517191GD_proc.jpg', '519801GD_proc.jpg', '519801GI_proc.jpg', '60716GD_proc.jpg', '60716GI_proc.jpg']\n"
     ]
    }
   ],
   "source": [
    "print(k5_samsung_no_emd)"
   ]
  },
  {
   "cell_type": "code",
   "execution_count": 147,
   "id": "28fea2a4",
   "metadata": {},
   "outputs": [],
   "source": [
    "k1_messidor_emd = []\n",
    "contador25 = 0\n",
    "while(contador25<tam_messidor_emd):\n",
    "    k1_messidor_emd.append(messidor_emd[0])\n",
    "    messidor_emd.pop(0)\n",
    "    contador25 += 1"
   ]
  },
  {
   "cell_type": "code",
   "execution_count": 148,
   "id": "4ac339c3",
   "metadata": {},
   "outputs": [
    {
     "name": "stdout",
     "output_type": "stream",
     "text": [
      "['20051020_43808_0100_PP_proc.jpg', '20051020_44261_0100_PP_proc.jpg', '20051020_44284_0100_PP_proc.jpg', '20051020_44338_0100_PP_proc.jpg', '20051020_44400_0100_PP_proc.jpg', '20051020_44431_0100_PP_proc.jpg', '20051020_44692_0100_PP_proc.jpg', '20051020_44714_0100_PP_proc.jpg', '20051020_44762_0100_PP_proc.jpg', '20051020_44982_0100_PP_proc.jpg', '20051020_56791_0100_PP_proc.jpg', '20051020_57157_0100_PP_proc.jpg', '20051020_57967_0100_PP_proc.jpg', '20051020_58065_0100_PP_proc.jpg', '20051020_61757_0100_PP_proc.jpg', '20051020_61804_0100_PP_proc.jpg', '20051020_61907_0100_PP_proc.jpg', '20051020_62510_0100_PP_proc.jpg', '20051020_63269_0100_PP_proc.jpg', '20051020_64249_0100_PP_proc.jpg', '20051020_64388_0100_PP_proc.jpg', '20051020_64653_0100_PP_proc.jpg', '20051020_64703_0100_PP_proc.jpg', '20051020_64775_0100_PP_proc.jpg', '20051020_64836_0100_PP_proc.jpg', '20051021_36476_0100_PP_proc.jpg', '20051021_39482_0100_PP_proc.jpg', '20051021_39845_0100_PP_proc.jpg', '20051021_39914_0100_PP_proc.jpg', '20051021_40018_0100_PP_proc.jpg', '20051021_51418_0100_PP_proc.jpg', '20051021_51476_0100_PP_proc.jpg', '20051021_51936_0100_PP_proc.jpg', '20051021_51994_0100_PP_proc.jpg', '20051021_57798_0100_PP_proc.jpg', '20051021_57862_0100_PP_proc.jpg', '20051021_57975_0100_PP_proc.jpg', '20051021_58035_0100_PP_proc.jpg', '20051021_58316_0100_PP_proc.jpg', '20051021_58522_0100_PP_proc.jpg', '20051021_59589_0100_PP_proc.jpg', '20051109_57451_0400_PP_proc.jpg', '20051109_57843_0400_PP_proc.jpg', '20051109_59582_0400_PP_proc.jpg', '20051109_59751_0400_PP_proc.jpg', '20051109_59864_0400_PP_proc.jpg', '20051109_59969_0400_PP_proc.jpg', '20051109_60031_0400_PP_proc.jpg', '20051109_60136_0400_PP_proc.jpg', '20051110_33960_0400_PP_proc.jpg', '20051110_34013_0400_PP_proc.jpg', '20051110_34071_0400_PP_proc.jpg', '20051110_34493_0400_PP_proc.jpg', '20051110_35239_0400_PP_proc.jpg', '20051110_35279_0400_PP_proc.jpg', '20051110_35332_0400_PP_proc.jpg', '20051110_35926_0400_PP_proc.jpg', '20051110_37992_0400_PP_proc.jpg', '20051110_38111_0400_PP_proc.jpg', '20051110_38156_0400_PP_proc.jpg', '20051110_38194_0400_PP_proc.jpg', '20051110_38239_0400_PP_proc.jpg', '20051110_38280_0400_PP_proc.jpg', '20051110_38313_0400_PP_proc.jpg', '20051110_38352_0400_PP_proc.jpg', '20051110_38372_0400_PP_proc.jpg', '20051110_38411_0400_PP_proc.jpg', '20051110_38442_0400_PP_proc.jpg', '20051110_38472_0400_PP_proc.jpg', '20051110_38507_0400_PP_proc.jpg', '20051110_38644_0400_PP_proc.jpg', '20051110_38702_0400_PP_proc.jpg', '20051116_43388_0400_PP_proc.jpg', '20051116_43585_0400_PP_proc.jpg', '20051116_43679_0400_PP_proc.jpg', '20051116_43710_0400_PP_proc.jpg', '20051116_43721_0400_PP_proc.jpg', '20051116_43785_0400_PP_proc.jpg', '20051116_43801_0400_PP_proc.jpg', '20051117_37042_0400_PP_proc.jpg', '20051117_37051_0400_PP_proc.jpg', '20051117_37078_0400_PP_proc.jpg', '20051117_37100_0400_PP_proc.jpg', '20051117_37130_0400_PP_proc.jpg', '20051117_37155_0400_PP_proc.jpg', '20051117_37185_0400_PP_proc.jpg', '20051117_37213_0400_PP_proc.jpg', '20051117_37232_0400_PP_proc.jpg', '20051117_37321_0400_PP_proc.jpg', '20051130_53586_0400_PP_proc.jpg', '20051130_53623_0400_PP_proc.jpg', '20051130_53663_0400_PP_proc.jpg', '20051130_53991_0400_PP_proc.jpg', '20051130_54030_0400_PP_proc.jpg', '20051130_54077_0400_PP_proc.jpg', '20051130_54121_0400_PP_proc.jpg', '20051130_54257_0400_PP_proc.jpg', '20051130_54301_0400_PP_proc.jpg', '20051130_54323_0400_PP_proc.jpg', '20051130_54333_0400_PP_proc.jpg', '20051130_54364_0400_PP_proc.jpg', '20051130_54401_0400_PP_proc.jpg', '20051130_54476_0400_PP_proc.jpg', '20051130_54498_0400_PP_proc.jpg', '20051130_54595_0400_PP_proc.jpg', '20051130_54616_0400_PP_proc.jpg', '20051130_54802_0400_PP_proc.jpg', '20051130_54846_0400_PP_proc.jpg', '20051130_54943_0400_PP_proc.jpg']\n"
     ]
    }
   ],
   "source": [
    "print(k1_messidor_emd)"
   ]
  },
  {
   "cell_type": "code",
   "execution_count": 149,
   "id": "b9f13141",
   "metadata": {},
   "outputs": [
    {
     "name": "stdout",
     "output_type": "stream",
     "text": [
      "109\n"
     ]
    }
   ],
   "source": [
    "print(tam_messidor_emd)"
   ]
  },
  {
   "cell_type": "code",
   "execution_count": 150,
   "id": "d3a1b0f3",
   "metadata": {},
   "outputs": [
    {
     "name": "stdout",
     "output_type": "stream",
     "text": [
      "546\n"
     ]
    }
   ],
   "source": [
    "print(num_messidor_emd)"
   ]
  },
  {
   "cell_type": "code",
   "execution_count": 151,
   "id": "996c1830",
   "metadata": {},
   "outputs": [],
   "source": [
    "k2_messidor_emd = []\n",
    "contador26 = 0\n",
    "while(contador26<tam_messidor_emd):\n",
    "    k2_messidor_emd.append(messidor_emd[0])\n",
    "    messidor_emd.pop(0)\n",
    "    contador26 += 1"
   ]
  },
  {
   "cell_type": "code",
   "execution_count": 152,
   "id": "eb962d72",
   "metadata": {},
   "outputs": [],
   "source": [
    "k3_messidor_emd = []\n",
    "contador27 = 0\n",
    "while(contador27<tam_messidor_emd):\n",
    "    k3_messidor_emd.append(messidor_emd[0])\n",
    "    messidor_emd.pop(0)\n",
    "    contador27 += 1"
   ]
  },
  {
   "cell_type": "code",
   "execution_count": 153,
   "id": "4a943615",
   "metadata": {},
   "outputs": [],
   "source": [
    "k4_messidor_emd = []\n",
    "contador28 = 0\n",
    "while(contador28<tam_messidor_emd):\n",
    "    k4_messidor_emd.append(messidor_emd[0])\n",
    "    messidor_emd.pop(0)\n",
    "    contador28 += 1"
   ]
  },
  {
   "cell_type": "code",
   "execution_count": 154,
   "id": "2e457699",
   "metadata": {},
   "outputs": [],
   "source": [
    "k5_messidor_emd = messidor_emd"
   ]
  },
  {
   "cell_type": "code",
   "execution_count": 156,
   "id": "61876996",
   "metadata": {},
   "outputs": [
    {
     "name": "stdout",
     "output_type": "stream",
     "text": [
      "110\n"
     ]
    }
   ],
   "source": [
    "print(len(k5_messidor_emd))"
   ]
  },
  {
   "cell_type": "code",
   "execution_count": 157,
   "id": "f7adfd88",
   "metadata": {},
   "outputs": [],
   "source": [
    "k1_messidor_no_emd = []\n",
    "contador29 = 0\n",
    "while(contador29<tam_messidor_no_emd):\n",
    "    k1_messidor_no_emd.append(messidor_no_emd[0])\n",
    "    messidor_no_emd.pop(0)\n",
    "    contador29 += 1"
   ]
  },
  {
   "cell_type": "code",
   "execution_count": 158,
   "id": "bf5782ad",
   "metadata": {},
   "outputs": [],
   "source": [
    "k2_messidor_no_emd = []\n",
    "contador30 = 0\n",
    "while(contador30<tam_messidor_no_emd):\n",
    "    k2_messidor_no_emd.append(messidor_no_emd[0])\n",
    "    messidor_no_emd.pop(0)\n",
    "    contador30 += 1"
   ]
  },
  {
   "cell_type": "code",
   "execution_count": 159,
   "id": "c94309e7",
   "metadata": {},
   "outputs": [],
   "source": [
    "k3_messidor_no_emd = []\n",
    "contador31 = 0\n",
    "while(contador31<tam_messidor_no_emd):\n",
    "    k3_messidor_no_emd.append(messidor_no_emd[0])\n",
    "    messidor_no_emd.pop(0)\n",
    "    contador31 += 1"
   ]
  },
  {
   "cell_type": "code",
   "execution_count": 160,
   "id": "dcf581b4",
   "metadata": {},
   "outputs": [],
   "source": [
    "k4_messidor_no_emd = []\n",
    "contador32 = 0\n",
    "while(contador32<tam_messidor_no_emd):\n",
    "    k4_messidor_no_emd.append(messidor_no_emd[0])\n",
    "    messidor_no_emd.pop(0)\n",
    "    contador32 += 1"
   ]
  },
  {
   "cell_type": "code",
   "execution_count": 161,
   "id": "d1192aa3",
   "metadata": {},
   "outputs": [],
   "source": [
    "k5_messidor_no_emd = messidor_no_emd"
   ]
  },
  {
   "cell_type": "code",
   "execution_count": 163,
   "id": "38b5d0ad",
   "metadata": {},
   "outputs": [
    {
     "name": "stdout",
     "output_type": "stream",
     "text": [
      "130\n",
      "654\n",
      "131\n"
     ]
    }
   ],
   "source": [
    "print(len(k5_messidor_no_emd))\n",
    "print(num_messidor_no_emd)\n",
    "print(tam_messidor_no_emd)"
   ]
  },
  {
   "cell_type": "code",
   "execution_count": 165,
   "id": "3fe5f6cf",
   "metadata": {},
   "outputs": [],
   "source": [
    "for e in k1_iphone_emd:\n",
    "    shutil.copy('Datos preprocesados INP EMD/iPhone/EMD/'+e, 'Datos Cross Validation EMD/K1/iPhone/EMD/'+e)"
   ]
  },
  {
   "cell_type": "code",
   "execution_count": 166,
   "id": "55f7a234",
   "metadata": {},
   "outputs": [],
   "source": [
    "for e in k1_iphone_no_emd:\n",
    "    shutil.copy('Datos preprocesados INP EMD/iPhone/NO EMD/'+e, 'Datos Cross Validation EMD/K1/iPhone/NO EMD/'+e)"
   ]
  },
  {
   "cell_type": "code",
   "execution_count": 167,
   "id": "87780777",
   "metadata": {},
   "outputs": [],
   "source": [
    "for e in k1_oct_emd:\n",
    "    shutil.copy('Datos preprocesados INP EMD/OCT/EMD/'+e, 'Datos Cross Validation EMD/K1/OCT/EMD/'+e)"
   ]
  },
  {
   "cell_type": "code",
   "execution_count": 168,
   "id": "9be3fab5",
   "metadata": {},
   "outputs": [],
   "source": [
    "for e in k1_oct_no_emd:\n",
    "    shutil.copy('Datos preprocesados INP EMD/OCT/NO EMD/'+e, 'Datos Cross Validation EMD/K1/OCT/NO EMD/'+e)"
   ]
  },
  {
   "cell_type": "code",
   "execution_count": 169,
   "id": "77253f62",
   "metadata": {},
   "outputs": [],
   "source": [
    "for e in k1_samsung_emd:\n",
    "    shutil.copy('Datos preprocesados INP EMD/Samsung/EMD/'+e, 'Datos Cross Validation EMD/K1/Samsung/EMD/'+e)"
   ]
  },
  {
   "cell_type": "code",
   "execution_count": 170,
   "id": "45bd3747",
   "metadata": {},
   "outputs": [],
   "source": [
    "for e in k1_samsung_no_emd:\n",
    "    shutil.copy('Datos preprocesados INP EMD/Samsung/NO EMD/'+e, 'Datos Cross Validation EMD/K1/Samsung/NO EMD/'+e)"
   ]
  },
  {
   "cell_type": "code",
   "execution_count": 171,
   "id": "6f38af98",
   "metadata": {},
   "outputs": [],
   "source": [
    "for e in k1_messidor_emd:\n",
    "    shutil.copy('Datos preprocesados INP EMD/MESSIDOR/EMD/'+e, 'Datos Cross Validation EMD/K1/MESSIDOR/EMD/'+e)"
   ]
  },
  {
   "cell_type": "code",
   "execution_count": 172,
   "id": "e2356e4c",
   "metadata": {},
   "outputs": [],
   "source": [
    "for e in k1_messidor_no_emd:\n",
    "    shutil.copy('Datos preprocesados INP EMD/MESSIDOR/NO EMD/'+e, 'Datos Cross Validation EMD/K1/MESSIDOR/NO EMD/'+e)"
   ]
  },
  {
   "cell_type": "code",
   "execution_count": 173,
   "id": "6871681a",
   "metadata": {},
   "outputs": [],
   "source": [
    "for e in k2_iphone_emd:\n",
    "    shutil.copy('Datos preprocesados INP EMD/iPhone/EMD/'+e, 'Datos Cross Validation EMD/K2/iPhone/EMD/'+e)\n",
    "    \n",
    "for e in k2_iphone_no_emd:\n",
    "    shutil.copy('Datos preprocesados INP EMD/iPhone/NO EMD/'+e, 'Datos Cross Validation EMD/K2/iPhone/NO EMD/'+e)\n",
    "\n",
    "for e in k2_oct_emd:\n",
    "    shutil.copy('Datos preprocesados INP EMD/OCT/EMD/'+e, 'Datos Cross Validation EMD/K2/OCT/EMD/'+e)\n",
    "\n",
    "for e in k2_oct_no_emd:\n",
    "    shutil.copy('Datos preprocesados INP EMD/OCT/NO EMD/'+e, 'Datos Cross Validation EMD/K2/OCT/NO EMD/'+e)\n",
    "    \n",
    "for e in k2_samsung_emd:\n",
    "    shutil.copy('Datos preprocesados INP EMD/Samsung/EMD/'+e, 'Datos Cross Validation EMD/K2/Samsung/EMD/'+e)\n",
    "\n",
    "for e in k2_samsung_no_emd:\n",
    "    shutil.copy('Datos preprocesados INP EMD/Samsung/NO EMD/'+e, 'Datos Cross Validation EMD/K2/Samsung/NO EMD/'+e)\n",
    "\n",
    "for e in k2_messidor_emd:\n",
    "    shutil.copy('Datos preprocesados INP EMD/MESSIDOR/EMD/'+e, 'Datos Cross Validation EMD/K2/MESSIDOR/EMD/'+e)\n",
    "\n",
    "for e in k2_messidor_no_emd:\n",
    "    shutil.copy('Datos preprocesados INP EMD/MESSIDOR/NO EMD/'+e, 'Datos Cross Validation EMD/K2/MESSIDOR/NO EMD/'+e)"
   ]
  },
  {
   "cell_type": "code",
   "execution_count": 174,
   "id": "c23ddcc9",
   "metadata": {},
   "outputs": [],
   "source": [
    "for e in k3_iphone_emd:\n",
    "    shutil.copy('Datos preprocesados INP EMD/iPhone/EMD/'+e, 'Datos Cross Validation EMD/K3/iPhone/EMD/'+e)\n",
    "    \n",
    "for e in k3_iphone_no_emd:\n",
    "    shutil.copy('Datos preprocesados INP EMD/iPhone/NO EMD/'+e, 'Datos Cross Validation EMD/K3/iPhone/NO EMD/'+e)\n",
    "\n",
    "for e in k3_oct_emd:\n",
    "    shutil.copy('Datos preprocesados INP EMD/OCT/EMD/'+e, 'Datos Cross Validation EMD/K3/OCT/EMD/'+e)\n",
    "\n",
    "for e in k3_oct_no_emd:\n",
    "    shutil.copy('Datos preprocesados INP EMD/OCT/NO EMD/'+e, 'Datos Cross Validation EMD/K3/OCT/NO EMD/'+e)\n",
    "    \n",
    "for e in k3_samsung_emd:\n",
    "    shutil.copy('Datos preprocesados INP EMD/Samsung/EMD/'+e, 'Datos Cross Validation EMD/K3/Samsung/EMD/'+e)\n",
    "\n",
    "for e in k3_samsung_no_emd:\n",
    "    shutil.copy('Datos preprocesados INP EMD/Samsung/NO EMD/'+e, 'Datos Cross Validation EMD/K3/Samsung/NO EMD/'+e)\n",
    "\n",
    "for e in k3_messidor_emd:\n",
    "    shutil.copy('Datos preprocesados INP EMD/MESSIDOR/EMD/'+e, 'Datos Cross Validation EMD/K3/MESSIDOR/EMD/'+e)\n",
    "\n",
    "for e in k3_messidor_no_emd:\n",
    "    shutil.copy('Datos preprocesados INP EMD/MESSIDOR/NO EMD/'+e, 'Datos Cross Validation EMD/K3/MESSIDOR/NO EMD/'+e)"
   ]
  },
  {
   "cell_type": "code",
   "execution_count": 175,
   "id": "a7f0e29e",
   "metadata": {},
   "outputs": [],
   "source": [
    "for e in k4_iphone_emd:\n",
    "    shutil.copy('Datos preprocesados INP EMD/iPhone/EMD/'+e, 'Datos Cross Validation EMD/K4/iPhone/EMD/'+e)\n",
    "    \n",
    "for e in k4_iphone_no_emd:\n",
    "    shutil.copy('Datos preprocesados INP EMD/iPhone/NO EMD/'+e, 'Datos Cross Validation EMD/K4/iPhone/NO EMD/'+e)\n",
    "\n",
    "for e in k4_oct_emd:\n",
    "    shutil.copy('Datos preprocesados INP EMD/OCT/EMD/'+e, 'Datos Cross Validation EMD/K4/OCT/EMD/'+e)\n",
    "\n",
    "for e in k4_oct_no_emd:\n",
    "    shutil.copy('Datos preprocesados INP EMD/OCT/NO EMD/'+e, 'Datos Cross Validation EMD/K4/OCT/NO EMD/'+e)\n",
    "    \n",
    "for e in k4_samsung_emd:\n",
    "    shutil.copy('Datos preprocesados INP EMD/Samsung/EMD/'+e, 'Datos Cross Validation EMD/K4/Samsung/EMD/'+e)\n",
    "\n",
    "for e in k4_samsung_no_emd:\n",
    "    shutil.copy('Datos preprocesados INP EMD/Samsung/NO EMD/'+e, 'Datos Cross Validation EMD/K4/Samsung/NO EMD/'+e)\n",
    "\n",
    "for e in k4_messidor_emd:\n",
    "    shutil.copy('Datos preprocesados INP EMD/MESSIDOR/EMD/'+e, 'Datos Cross Validation EMD/K4/MESSIDOR/EMD/'+e)\n",
    "\n",
    "for e in k4_messidor_no_emd:\n",
    "    shutil.copy('Datos preprocesados INP EMD/MESSIDOR/NO EMD/'+e, 'Datos Cross Validation EMD/K4/MESSIDOR/NO EMD/'+e)"
   ]
  },
  {
   "cell_type": "code",
   "execution_count": 176,
   "id": "b6e6d34b",
   "metadata": {},
   "outputs": [],
   "source": [
    "for e in k5_iphone_emd:\n",
    "    shutil.copy('Datos preprocesados INP EMD/iPhone/EMD/'+e, 'Datos Cross Validation EMD/K5/iPhone/EMD/'+e)\n",
    "    \n",
    "for e in k5_iphone_no_emd:\n",
    "    shutil.copy('Datos preprocesados INP EMD/iPhone/NO EMD/'+e, 'Datos Cross Validation EMD/K5/iPhone/NO EMD/'+e)\n",
    "\n",
    "for e in k5_oct_emd:\n",
    "    shutil.copy('Datos preprocesados INP EMD/OCT/EMD/'+e, 'Datos Cross Validation EMD/K5/OCT/EMD/'+e)\n",
    "\n",
    "for e in k5_oct_no_emd:\n",
    "    shutil.copy('Datos preprocesados INP EMD/OCT/NO EMD/'+e, 'Datos Cross Validation EMD/K5/OCT/NO EMD/'+e)\n",
    "    \n",
    "for e in k5_samsung_emd:\n",
    "    shutil.copy('Datos preprocesados INP EMD/Samsung/EMD/'+e, 'Datos Cross Validation EMD/K5/Samsung/EMD/'+e)\n",
    "\n",
    "for e in k5_samsung_no_emd:\n",
    "    shutil.copy('Datos preprocesados INP EMD/Samsung/NO EMD/'+e, 'Datos Cross Validation EMD/K5/Samsung/NO EMD/'+e)\n",
    "\n",
    "for e in k5_messidor_emd:\n",
    "    shutil.copy('Datos preprocesados INP EMD/MESSIDOR/EMD/'+e, 'Datos Cross Validation EMD/K5/MESSIDOR/EMD/'+e)\n",
    "\n",
    "for e in k5_messidor_no_emd:\n",
    "    shutil.copy('Datos preprocesados INP EMD/MESSIDOR/NO EMD/'+e, 'Datos Cross Validation EMD/K5/MESSIDOR/NO EMD/'+e)"
   ]
  },
  {
   "cell_type": "code",
   "execution_count": null,
   "id": "851e3949",
   "metadata": {},
   "outputs": [],
   "source": []
  }
 ],
 "metadata": {
  "kernelspec": {
   "display_name": "Python 3 (ipykernel)",
   "language": "python",
   "name": "python3"
  },
  "language_info": {
   "codemirror_mode": {
    "name": "ipython",
    "version": 3
   },
   "file_extension": ".py",
   "mimetype": "text/x-python",
   "name": "python",
   "nbconvert_exporter": "python",
   "pygments_lexer": "ipython3",
   "version": "3.9.12"
  }
 },
 "nbformat": 4,
 "nbformat_minor": 5
}

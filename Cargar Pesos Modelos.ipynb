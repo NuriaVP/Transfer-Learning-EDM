{
 "cells": [
  {
   "cell_type": "code",
   "execution_count": 1,
   "id": "1c4d25a5",
   "metadata": {},
   "outputs": [],
   "source": [
    "import tensorflow as tf\n",
    "import sys\n",
    "from tensorflow import keras\n",
    "from tensorflow.keras import layers, models\n",
    "\n",
    "from tensorflow.keras.applications.vgg16 import VGG16\n",
    "from tensorflow.keras.applications.vgg16 import preprocess_input\n",
    "from tensorflow.keras.applications.vgg19 import VGG19\n",
    "from tensorflow.keras.applications import Xception\n",
    "from tensorflow.keras.applications import ResNet50V2\n",
    "from tensorflow.keras.applications import ResNet101\n",
    "from tensorflow.keras.applications import ResNet152\n",
    "from tensorflow.keras.applications import InceptionV3\n",
    "from tensorflow.keras.applications import InceptionResNetV2\n",
    "from tensorflow.keras.applications import MobileNet\n",
    "from tensorflow.keras.applications import DenseNet121\n",
    "from tensorflow.keras.applications import DenseNet201\n",
    "from tensorflow.keras.applications import EfficientNetB0"
   ]
  },
  {
   "cell_type": "code",
   "execution_count": 2,
   "id": "79c864a0",
   "metadata": {},
   "outputs": [],
   "source": [
    "modelos = ['VGG16',\n",
    "           'VGG19',\n",
    "           'Xception',\n",
    "           'ResNet50V2',\n",
    "           'ResNet101',\n",
    "           'ResNet152',\n",
    "           'InceptionV3',\n",
    "           'InceptionResNetV2',\n",
    "           'MobileNet',\n",
    "           'DenseNet121',\n",
    "           'DenseNet201',\n",
    "           'EfficientNetB0']"
   ]
  },
  {
   "cell_type": "code",
   "execution_count": 4,
   "id": "307acb1a",
   "metadata": {},
   "outputs": [
    {
     "name": "stdout",
     "output_type": "stream",
     "text": [
      "WARNING:tensorflow:`input_shape` is undefined or non-square, or `rows` is not in [128, 160, 192, 224]. Weights for input shape (224, 224) will be loaded as the default.\n"
     ]
    }
   ],
   "source": [
    "for i in modelos:\n",
    "    getattr(sys.modules[__name__],i)(weights=\"imagenet\", include_top=False).save_weights('Pesos/' + i + '.h5')"
   ]
  }
 ],
 "metadata": {
  "kernelspec": {
   "display_name": "Python 3 (ipykernel)",
   "language": "python",
   "name": "python3"
  },
  "language_info": {
   "codemirror_mode": {
    "name": "ipython",
    "version": 3
   },
   "file_extension": ".py",
   "mimetype": "text/x-python",
   "name": "python",
   "nbconvert_exporter": "python",
   "pygments_lexer": "ipython3",
   "version": "3.9.12"
  }
 },
 "nbformat": 4,
 "nbformat_minor": 5
}

{
 "cells": [
  {
   "cell_type": "code",
   "execution_count": 1,
   "id": "73897f90",
   "metadata": {},
   "outputs": [],
   "source": [
    "import os\n",
    "import cv2\n",
    "import PIL\n",
    "import os\n",
    "from PIL import Image\n",
    "import numpy as np"
   ]
  },
  {
   "cell_type": "markdown",
   "id": "913d80e2",
   "metadata": {},
   "source": [
    "**PREPROCESADO GAUSSIANO**"
   ]
  },
  {
   "cell_type": "code",
   "execution_count": 2,
   "id": "4cd451cf",
   "metadata": {},
   "outputs": [],
   "source": [
    "def crop_image_from_gray(img,tol=7):\n",
    "    if img.ndim ==2:\n",
    "        mask = img>tol\n",
    "        return img[np.ix_(mask.any(1),mask.any(0))]\n",
    "    elif img.ndim==3:\n",
    "        gray_img = cv2.cvtColor(img, cv2.COLOR_RGB2GRAY)\n",
    "        mask = gray_img>tol\n",
    "        \n",
    "        check_shape = img[:,:,0][np.ix_(mask.any(1),mask.any(0))].shape[0]\n",
    "        if (check_shape == 0):\n",
    "            return img\n",
    "        else:\n",
    "            img1=img[:,:,0][np.ix_(mask.any(1),mask.any(0))]\n",
    "            img2=img[:,:,1][np.ix_(mask.any(1),mask.any(0))]\n",
    "            img3=img[:,:,2][np.ix_(mask.any(1),mask.any(0))]\n",
    "            img = np.stack([img1,img2,img3],axis=-1)\n",
    "        return img"
   ]
  },
  {
   "cell_type": "code",
   "execution_count": 3,
   "id": "c9b29738",
   "metadata": {},
   "outputs": [],
   "source": [
    "def circle_crop(img, sigmaX):   \n",
    "    \"\"\"\n",
    "    Create circular crop around image centre    \n",
    "    \"\"\"    \n",
    "    img = crop_image_from_gray(img)    \n",
    "    img = cv2.cvtColor(img, cv2.COLOR_BGR2RGB)\n",
    "    \n",
    "    height, width, depth = img.shape    \n",
    "    \n",
    "    x = int(width/2)\n",
    "    y = int(height/2)\n",
    "    r = np.amin((x,y))\n",
    "    \n",
    "    circle_img = np.zeros((height, width), np.uint8)\n",
    "    cv2.circle(circle_img, (x,y), int(r), 1, thickness=-1)\n",
    "    img = cv2.bitwise_and(img, img, mask=circle_img)\n",
    "    img = crop_image_from_gray(img)\n",
    "    img=cv2.addWeighted(img,4, cv2.GaussianBlur( img , (0,0) , sigmaX) ,-4 ,128)\n",
    "    return img "
   ]
  },
  {
   "cell_type": "markdown",
   "id": "faaac437",
   "metadata": {},
   "source": [
    "**CONVERTIR TODAS LAS IMÁGENES EN FORMATO JPG**"
   ]
  },
  {
   "cell_type": "code",
   "execution_count": 11,
   "id": "d0eecf94",
   "metadata": {
    "scrolled": true
   },
   "outputs": [],
   "source": [
    "for e in os.listdir('Datos EMD/iPhone/EMD'):\n",
    "    im = Image.open('Datos EMD/iPhone/EMD/'+e)\n",
    "    rgb_im = im.convert('RGB')\n",
    "    rgb_im.save('Datos EMD/iPhone/EMD/'+e[0:-3]+'jpg', quality=95)\n",
    "    os.remove('Datos EMD/iPhone/EMD/'+e)"
   ]
  },
  {
   "cell_type": "code",
   "execution_count": 12,
   "id": "337e5844",
   "metadata": {},
   "outputs": [],
   "source": [
    "for e in os.listdir('Datos EMD/iPhone/NO EMD'):\n",
    "    im = Image.open('Datos EMD/iPhone/NO EMD/'+e)\n",
    "    rgb_im = im.convert('RGB')\n",
    "    rgb_im.save('Datos EMD/iPhone/NO EMD/'+e[0:-3]+'jpg', quality=95)\n",
    "    os.remove('Datos EMD/iPhone/NO EMD/'+e)"
   ]
  },
  {
   "cell_type": "code",
   "execution_count": 13,
   "id": "f0ca995e",
   "metadata": {},
   "outputs": [],
   "source": [
    "for e in os.listdir('Datos EMD/Samsung/EMD'):\n",
    "    im = Image.open('Datos EMD/Samsung/EMD/'+e)\n",
    "    rgb_im = im.convert('RGB')\n",
    "    rgb_im.save('Datos EMD/Samsung/EMD/'+e[0:-3]+'jpg', quality=95)\n",
    "    os.remove('Datos EMD/Samsung/EMD/'+e)"
   ]
  },
  {
   "cell_type": "code",
   "execution_count": 14,
   "id": "a35788ae",
   "metadata": {},
   "outputs": [],
   "source": [
    "for e in os.listdir('Datos EMD/Samsung/NO EMD'):\n",
    "    im = Image.open('Datos EMD/Samsung/NO EMD/'+e)\n",
    "    rgb_im = im.convert('RGB')\n",
    "    rgb_im.save('Datos EMD/Samsung/NO EMD/'+e[0:-3]+'jpg', quality=95)\n",
    "    os.remove('Datos EMD/Samsung/NO EMD/'+e)"
   ]
  },
  {
   "cell_type": "markdown",
   "id": "b69fe37e",
   "metadata": {},
   "source": [
    "**OBTENER CARPETA CON IMÁGENES PREPROCESADAS**"
   ]
  },
  {
   "cell_type": "code",
   "execution_count": 15,
   "id": "90bcd75f",
   "metadata": {},
   "outputs": [],
   "source": [
    "for e in os.listdir('Datos EMD/iPhone/EMD'):\n",
    "    img = cv2.imread('Datos EMD/iPhone/EMD/'+e)\n",
    "    img = cv2.cvtColor(img, cv2.COLOR_BGR2RGB)\n",
    "    img_t = circle_crop(img, 30)\n",
    "    image = Image.fromarray(img_t, 'RGB')\n",
    "    image.save('Datos preprocesados EMD/iPhone/EMD/'+e[0:-4]+'_proc.jpg')"
   ]
  },
  {
   "cell_type": "code",
   "execution_count": 16,
   "id": "5c11edf5",
   "metadata": {},
   "outputs": [],
   "source": [
    "for e in os.listdir('Datos EMD/iPhone/NO EMD'):\n",
    "    img = cv2.imread('Datos EMD/iPhone/NO EMD/'+e)\n",
    "    img = cv2.cvtColor(img, cv2.COLOR_BGR2RGB)\n",
    "    img_t = circle_crop(img, 30)\n",
    "    image = Image.fromarray(img_t, 'RGB')\n",
    "    image.save('Datos preprocesados EMD/iPhone/NO EMD/'+e[0:-4]+'_proc.jpg')"
   ]
  },
  {
   "cell_type": "code",
   "execution_count": 17,
   "id": "e6452ae2",
   "metadata": {},
   "outputs": [],
   "source": [
    "for e in os.listdir('Datos EMD/Samsung/EMD'):\n",
    "    img = cv2.imread('Datos EMD/Samsung/EMD/'+e)\n",
    "    img = cv2.cvtColor(img, cv2.COLOR_BGR2RGB)\n",
    "    img_t = circle_crop(img, 30)\n",
    "    image = Image.fromarray(img_t, 'RGB')\n",
    "    image.save('Datos preprocesados EMD/Samsung/EMD/'+e[0:-4]+'_proc.jpg')"
   ]
  },
  {
   "cell_type": "code",
   "execution_count": 18,
   "id": "6818a734",
   "metadata": {},
   "outputs": [],
   "source": [
    "for e in os.listdir('Datos EMD/Samsung/NO EMD'):\n",
    "    img = cv2.imread('Datos EMD/Samsung/NO EMD/'+e)\n",
    "    img = cv2.cvtColor(img, cv2.COLOR_BGR2RGB)\n",
    "    img_t = circle_crop(img, 30)\n",
    "    image = Image.fromarray(img_t, 'RGB')\n",
    "    image.save('Datos preprocesados EMD/Samsung/NO EMD/'+e[0:-4]+'_proc.jpg')"
   ]
  },
  {
   "cell_type": "code",
   "execution_count": 19,
   "id": "ae725eb2",
   "metadata": {},
   "outputs": [],
   "source": [
    "for e in os.listdir('Datos EMD/OCT/EMD'):\n",
    "    img = cv2.imread('Datos EMD/OCT/EMD/'+e)\n",
    "    img = cv2.cvtColor(img, cv2.COLOR_BGR2RGB)\n",
    "    img_t = circle_crop(img, 30)\n",
    "    image = Image.fromarray(img_t, 'RGB')\n",
    "    image.save('Datos preprocesados EMD/OCT/EMD/'+e[0:-4]+'_proc.jpg')"
   ]
  },
  {
   "cell_type": "code",
   "execution_count": 20,
   "id": "fe13d43b",
   "metadata": {},
   "outputs": [],
   "source": [
    "for e in os.listdir('Datos EMD/OCT/NO EMD'):\n",
    "    img = cv2.imread('Datos EMD/OCT/NO EMD/'+e)\n",
    "    img = cv2.cvtColor(img, cv2.COLOR_BGR2RGB)\n",
    "    img_t = circle_crop(img, 30)\n",
    "    image = Image.fromarray(img_t, 'RGB')\n",
    "    image.save('Datos preprocesados EMD/OCT/NO EMD/'+e[0:-4]+'_proc.jpg')"
   ]
  },
  {
   "cell_type": "markdown",
   "id": "af22c774",
   "metadata": {},
   "source": [
    "**PREPROCESAMIENTO NUEVAS IMÁGENES INP**"
   ]
  },
  {
   "cell_type": "code",
   "execution_count": 4,
   "id": "58f38576",
   "metadata": {},
   "outputs": [],
   "source": [
    "for e in os.listdir('Datos INP EMD/iPhone/EMD'):\n",
    "    img = cv2.imread('Datos INP EMD/iPhone/EMD/'+e)\n",
    "    img = cv2.cvtColor(img, cv2.COLOR_BGR2RGB)\n",
    "    img_t = circle_crop(img, 30)\n",
    "    image = Image.fromarray(img_t, 'RGB')\n",
    "    image.save('Datos preprocesados INP EMD/iPhone/EMD/'+e[0:-4]+'_proc.jpg')"
   ]
  },
  {
   "cell_type": "code",
   "execution_count": 5,
   "id": "0fe67b7c",
   "metadata": {},
   "outputs": [],
   "source": [
    "for e in os.listdir('Datos INP EMD/iPhone/NO EMD'):\n",
    "    img = cv2.imread('Datos INP EMD/iPhone/NO EMD/'+e)\n",
    "    img = cv2.cvtColor(img, cv2.COLOR_BGR2RGB)\n",
    "    img_t = circle_crop(img, 30)\n",
    "    image = Image.fromarray(img_t, 'RGB')\n",
    "    image.save('Datos preprocesados INP EMD/iPhone/NO EMD/'+e[0:-4]+'_proc.jpg')"
   ]
  },
  {
   "cell_type": "code",
   "execution_count": 6,
   "id": "53236be3",
   "metadata": {},
   "outputs": [],
   "source": [
    "for e in os.listdir('Datos INP EMD/Samsung/EMD'):\n",
    "    img = cv2.imread('Datos INP EMD/Samsung/EMD/'+e)\n",
    "    img = cv2.cvtColor(img, cv2.COLOR_BGR2RGB)\n",
    "    img_t = circle_crop(img, 30)\n",
    "    image = Image.fromarray(img_t, 'RGB')\n",
    "    image.save('Datos preprocesados INP EMD/Samsung/EMD/'+e[0:-4]+'_proc.jpg')"
   ]
  },
  {
   "cell_type": "code",
   "execution_count": 7,
   "id": "a5dd0dca",
   "metadata": {},
   "outputs": [],
   "source": [
    "for e in os.listdir('Datos INP EMD/Samsung/NO EMD'):\n",
    "    img = cv2.imread('Datos INP EMD/Samsung/NO EMD/'+e)\n",
    "    img = cv2.cvtColor(img, cv2.COLOR_BGR2RGB)\n",
    "    img_t = circle_crop(img, 30)\n",
    "    image = Image.fromarray(img_t, 'RGB')\n",
    "    image.save('Datos preprocesados INP EMD/Samsung/NO EMD/'+e[0:-4]+'_proc.jpg')"
   ]
  },
  {
   "cell_type": "code",
   "execution_count": 8,
   "id": "5e6ef2a4",
   "metadata": {},
   "outputs": [],
   "source": [
    "for e in os.listdir('Datos INP EMD/OCT/EMD'):\n",
    "    img = cv2.imread('Datos INP EMD/OCT/EMD/'+e)\n",
    "    img = cv2.cvtColor(img, cv2.COLOR_BGR2RGB)\n",
    "    img_t = circle_crop(img, 30)\n",
    "    image = Image.fromarray(img_t, 'RGB')\n",
    "    image.save('Datos preprocesados INP EMD/OCT/EMD/'+e[0:-4]+'_proc.jpg')"
   ]
  },
  {
   "cell_type": "code",
   "execution_count": 9,
   "id": "c5a2f5c5",
   "metadata": {},
   "outputs": [],
   "source": [
    "for e in os.listdir('Datos INP EMD/OCT/NO EMD'):\n",
    "    img = cv2.imread('Datos INP EMD/OCT/NO EMD/'+e)\n",
    "    img = cv2.cvtColor(img, cv2.COLOR_BGR2RGB)\n",
    "    img_t = circle_crop(img, 30)\n",
    "    image = Image.fromarray(img_t, 'RGB')\n",
    "    image.save('Datos preprocesados INP EMD/OCT/NO EMD/'+e[0:-4]+'_proc.jpg')"
   ]
  },
  {
   "cell_type": "markdown",
   "id": "d12ea19c",
   "metadata": {},
   "source": [
    "**PREPROCESAMIENTO IMÁGENES MESSIDOR**"
   ]
  },
  {
   "cell_type": "code",
   "execution_count": 4,
   "id": "65d42ce0",
   "metadata": {},
   "outputs": [],
   "source": [
    "for e in os.listdir('Datos INP EMD/MESSIDOR/EMD'):\n",
    "    im = Image.open('Datos INP EMD/MESSIDOR/EMD/'+e)\n",
    "    rgb_im = im.convert('RGB')\n",
    "    rgb_im.save('Datos INP EMD/MESSIDOR/EMD/'+e[0:-3]+'jpg', quality=95)\n",
    "    os.remove('Datos INP EMD/MESSIDOR/EMD/'+e)"
   ]
  },
  {
   "cell_type": "code",
   "execution_count": 5,
   "id": "b5ca28e4",
   "metadata": {},
   "outputs": [],
   "source": [
    "for e in os.listdir('Datos INP EMD/MESSIDOR/NO EMD'):\n",
    "    im = Image.open('Datos INP EMD/MESSIDOR/NO EMD/'+e)\n",
    "    rgb_im = im.convert('RGB')\n",
    "    rgb_im.save('Datos INP EMD/MESSIDOR/NO EMD/'+e[0:-3]+'jpg', quality=95)\n",
    "    os.remove('Datos INP EMD/MESSIDOR/NO EMD/'+e)"
   ]
  },
  {
   "cell_type": "code",
   "execution_count": 6,
   "id": "371e61a7",
   "metadata": {},
   "outputs": [],
   "source": [
    "for e in os.listdir('Datos INP EMD/MESSIDOR/EMD'):\n",
    "    img = cv2.imread('Datos INP EMD/MESSIDOR/EMD/'+e)\n",
    "    img = cv2.cvtColor(img, cv2.COLOR_BGR2RGB)\n",
    "    img_t = circle_crop(img, 30)\n",
    "    image = Image.fromarray(img_t, 'RGB')\n",
    "    image.save('Datos preprocesados INP EMD/MESSIDOR/EMD/'+e[0:-4]+'_proc.jpg')"
   ]
  },
  {
   "cell_type": "code",
   "execution_count": 7,
   "id": "3f9772f7",
   "metadata": {},
   "outputs": [],
   "source": [
    "for e in os.listdir('Datos INP EMD/MESSIDOR/NO EMD'):\n",
    "    img = cv2.imread('Datos INP EMD/MESSIDOR/NO EMD/'+e)\n",
    "    img = cv2.cvtColor(img, cv2.COLOR_BGR2RGB)\n",
    "    img_t = circle_crop(img, 30)\n",
    "    image = Image.fromarray(img_t, 'RGB')\n",
    "    image.save('Datos preprocesados INP EMD/MESSIDOR/NO EMD/'+e[0:-4]+'_proc.jpg')"
   ]
  }
 ],
 "metadata": {
  "kernelspec": {
   "display_name": "Python 3 (ipykernel)",
   "language": "python",
   "name": "python3"
  },
  "language_info": {
   "codemirror_mode": {
    "name": "ipython",
    "version": 3
   },
   "file_extension": ".py",
   "mimetype": "text/x-python",
   "name": "python",
   "nbconvert_exporter": "python",
   "pygments_lexer": "ipython3",
   "version": "3.9.12"
  }
 },
 "nbformat": 4,
 "nbformat_minor": 5
}

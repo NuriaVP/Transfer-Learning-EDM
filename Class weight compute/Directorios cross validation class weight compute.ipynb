{
 "cells": [
  {
   "cell_type": "code",
   "execution_count": 1,
   "id": "53421a63",
   "metadata": {},
   "outputs": [],
   "source": [
    "import os\n",
    "import shutil"
   ]
  },
  {
   "cell_type": "markdown",
   "id": "7481ed7e",
   "metadata": {},
   "source": [
    "**DATOS PROCESADOS**"
   ]
  },
  {
   "cell_type": "code",
   "execution_count": null,
   "id": "a9facfd2",
   "metadata": {},
   "outputs": [],
   "source": [
    "dir_iphone_emd = 'Datos preprocesados INP EMD/iPhone/EMD'\n",
    "dir_iphone_no_emd = 'Datos preprocesados INP EMD/iPhone/NO EMD'\n",
    "dir_oct_emd = 'Datos preprocesados INP EMD/OCT/EMD'\n",
    "dir_oct_no_emd = 'Datos preprocesados INP EMD/OCT/NO EMD'\n",
    "dir_samsung_emd = 'Datos preprocesados INP EMD/Samsung/EMD'\n",
    "dir_samsung_no_emd = 'Datos preprocesados INP EMD/Samsung/NO EMD'\n",
    "dir_messidor_emd = 'Datos preprocesados INP EMD/MESSIDOR/EMD'\n",
    "dir_messidor_no_emd = 'Datos preprocesados INP EMD/MESSIDOR/NO EMD'"
   ]
  },
  {
   "cell_type": "code",
   "execution_count": null,
   "id": "7bc3aa69",
   "metadata": {},
   "outputs": [],
   "source": [
    "iphone_emd = os.listdir(dir_iphone_emd)\n",
    "iphone_no_emd = os.listdir(dir_iphone_no_emd)\n",
    "oct_emd = os.listdir(dir_oct_emd)\n",
    "oct_no_emd = os.listdir(dir_oct_no_emd)\n",
    "samsung_emd = os.listdir(dir_samsung_emd)\n",
    "samsung_no_emd = os.listdir(dir_samsung_no_emd)\n",
    "messidor_emd = os.listdir(dir_messidor_emd)\n",
    "messidor_no_emd = os.listdir(dir_messidor_no_emd)"
   ]
  },
  {
   "cell_type": "code",
   "execution_count": null,
   "id": "31fea930",
   "metadata": {},
   "outputs": [],
   "source": [
    "print(iphone_emd)"
   ]
  },
  {
   "cell_type": "code",
   "execution_count": null,
   "id": "52e2d9dd",
   "metadata": {},
   "outputs": [],
   "source": [
    "num_iphone_emd = len(iphone_emd)\n",
    "num_iphone_no_emd = len(iphone_no_emd)\n",
    "num_oct_emd = len(oct_emd)\n",
    "num_oct_no_emd = len(oct_no_emd)\n",
    "num_samsung_emd = len(samsung_emd)\n",
    "num_samsung_no_emd = len(samsung_no_emd)\n",
    "num_messidor_emd = len(messidor_emd)\n",
    "num_messidor_no_emd = len(messidor_no_emd)"
   ]
  },
  {
   "cell_type": "code",
   "execution_count": null,
   "id": "f8958633",
   "metadata": {
    "scrolled": true
   },
   "outputs": [],
   "source": [
    "print(num_iphone_emd)"
   ]
  },
  {
   "cell_type": "code",
   "execution_count": null,
   "id": "97919397",
   "metadata": {},
   "outputs": [],
   "source": [
    "print(num_oct_emd)"
   ]
  },
  {
   "cell_type": "code",
   "execution_count": null,
   "id": "01916ecd",
   "metadata": {},
   "outputs": [],
   "source": [
    "tam_iphone_emd = round(len(iphone_emd)/5)\n",
    "tam_iphone_no_emd = round(len(iphone_no_emd)/5)\n",
    "tam_oct_emd = round(len(oct_emd)/5)\n",
    "tam_oct_no_emd = round(len(oct_no_emd)/5)\n",
    "tam_samsung_emd = round(len(samsung_emd)/5)\n",
    "tam_samsung_no_emd = round(len(samsung_no_emd)/5)\n",
    "tam_messidor_emd = round(len(messidor_emd)/5)\n",
    "tam_messidor_no_emd = round(len(messidor_no_emd)/5)"
   ]
  },
  {
   "cell_type": "code",
   "execution_count": null,
   "id": "3f25d1fb",
   "metadata": {},
   "outputs": [],
   "source": [
    "print(tam_iphone_emd)"
   ]
  },
  {
   "cell_type": "code",
   "execution_count": null,
   "id": "e0b78a61",
   "metadata": {},
   "outputs": [],
   "source": [
    "k1_iphone_emd = []\n",
    "contador1 = 0\n",
    "while(contador1<tam_iphone_emd):\n",
    "    k1_iphone_emd.append(iphone_emd[0])\n",
    "    iphone_emd.pop(0)\n",
    "    contador1 += 1"
   ]
  },
  {
   "cell_type": "code",
   "execution_count": null,
   "id": "2ddc975e",
   "metadata": {},
   "outputs": [],
   "source": [
    "print(k1_iphone_emd)\n",
    "print(contador1)\n",
    "print(iphone_emd)\n",
    "print(len(iphone_emd))"
   ]
  },
  {
   "cell_type": "code",
   "execution_count": null,
   "id": "0d3f83e5",
   "metadata": {},
   "outputs": [],
   "source": [
    "k2_iphone_emd = []\n",
    "contador2 = 0\n",
    "while(contador2<tam_iphone_emd):\n",
    "    k2_iphone_emd.append(iphone_emd[0])\n",
    "    iphone_emd.pop(0)\n",
    "    contador2 += 1"
   ]
  },
  {
   "cell_type": "code",
   "execution_count": null,
   "id": "04c1e4d9",
   "metadata": {},
   "outputs": [],
   "source": [
    "print(k2_iphone_emd)\n",
    "print(contador2)\n",
    "print(iphone_emd)\n",
    "print(len(iphone_emd))"
   ]
  },
  {
   "cell_type": "code",
   "execution_count": null,
   "id": "9de1ff1c",
   "metadata": {},
   "outputs": [],
   "source": [
    "k3_iphone_emd = []\n",
    "contador3 = 0\n",
    "while(contador3<tam_iphone_emd):\n",
    "    k3_iphone_emd.append(iphone_emd[0])\n",
    "    iphone_emd.pop(0)\n",
    "    print(len(iphone_emd))\n",
    "    contador3 += 1"
   ]
  },
  {
   "cell_type": "code",
   "execution_count": null,
   "id": "2b256f92",
   "metadata": {},
   "outputs": [],
   "source": [
    "print(k3_iphone_emd)\n",
    "print(contador3)\n",
    "print(iphone_emd)\n",
    "print(len(iphone_emd))"
   ]
  },
  {
   "cell_type": "code",
   "execution_count": null,
   "id": "9cc24fed",
   "metadata": {},
   "outputs": [],
   "source": [
    "k4_iphone_emd = []\n",
    "contador4 = 0\n",
    "while(contador4<tam_iphone_emd):\n",
    "    k4_iphone_emd.append(iphone_emd[0])\n",
    "    iphone_emd.pop(0)\n",
    "    print(len(iphone_emd))\n",
    "    contador4 += 1"
   ]
  },
  {
   "cell_type": "code",
   "execution_count": null,
   "id": "13c34d83",
   "metadata": {},
   "outputs": [],
   "source": [
    "k5_iphone_emd = iphone_emd"
   ]
  },
  {
   "cell_type": "code",
   "execution_count": null,
   "id": "c0a942b0",
   "metadata": {},
   "outputs": [],
   "source": [
    "print(k5_iphone_emd)"
   ]
  },
  {
   "cell_type": "code",
   "execution_count": null,
   "id": "7631d692",
   "metadata": {},
   "outputs": [],
   "source": [
    "print(tam_iphone_no_emd)"
   ]
  },
  {
   "cell_type": "code",
   "execution_count": null,
   "id": "f07858a8",
   "metadata": {},
   "outputs": [],
   "source": [
    "k1_iphone_no_emd = []\n",
    "contador5 = 0\n",
    "while(contador5<tam_iphone_no_emd):\n",
    "    k1_iphone_no_emd.append(iphone_no_emd[0])\n",
    "    iphone_no_emd.pop(0)\n",
    "    print(len(iphone_no_emd))\n",
    "    contador5 += 1"
   ]
  },
  {
   "cell_type": "code",
   "execution_count": null,
   "id": "07629d29",
   "metadata": {},
   "outputs": [],
   "source": [
    "k2_iphone_no_emd = []\n",
    "contador6 = 0\n",
    "while(contador6<tam_iphone_no_emd):\n",
    "    k2_iphone_no_emd.append(iphone_no_emd[0])\n",
    "    iphone_no_emd.pop(0)\n",
    "    print(len(iphone_no_emd))\n",
    "    contador6 += 1"
   ]
  },
  {
   "cell_type": "code",
   "execution_count": null,
   "id": "fa29dd85",
   "metadata": {},
   "outputs": [],
   "source": [
    "k3_iphone_no_emd = []\n",
    "contador7 = 0\n",
    "while(contador7<tam_iphone_no_emd):\n",
    "    k3_iphone_no_emd.append(iphone_no_emd[0])\n",
    "    iphone_no_emd.pop(0)\n",
    "    print(len(iphone_no_emd))\n",
    "    contador7 += 1"
   ]
  },
  {
   "cell_type": "code",
   "execution_count": null,
   "id": "b991814c",
   "metadata": {},
   "outputs": [],
   "source": [
    "k4_iphone_no_emd = []\n",
    "contador8 = 0\n",
    "while(contador8<tam_iphone_no_emd):\n",
    "    k4_iphone_no_emd.append(iphone_no_emd[0])\n",
    "    iphone_no_emd.pop(0)\n",
    "    print(len(iphone_no_emd))\n",
    "    contador8 += 1"
   ]
  },
  {
   "cell_type": "code",
   "execution_count": null,
   "id": "e5b73d16",
   "metadata": {},
   "outputs": [],
   "source": [
    "k5_iphone_no_emd = iphone_no_emd"
   ]
  },
  {
   "cell_type": "code",
   "execution_count": null,
   "id": "bce5f17b",
   "metadata": {},
   "outputs": [],
   "source": [
    "print(k5_iphone_no_emd)"
   ]
  },
  {
   "cell_type": "code",
   "execution_count": null,
   "id": "a479c3cc",
   "metadata": {},
   "outputs": [],
   "source": [
    "print(tam_oct_emd)"
   ]
  },
  {
   "cell_type": "code",
   "execution_count": null,
   "id": "c8aba9fe",
   "metadata": {},
   "outputs": [],
   "source": [
    "k1_oct_emd = []\n",
    "contador9 = 0\n",
    "while(contador9<tam_oct_emd):\n",
    "    k1_oct_emd.append(oct_emd[0])\n",
    "    oct_emd.pop(0)\n",
    "    contador9 += 1"
   ]
  },
  {
   "cell_type": "code",
   "execution_count": null,
   "id": "ee4c7358",
   "metadata": {},
   "outputs": [],
   "source": [
    "print(k1_oct_emd)"
   ]
  },
  {
   "cell_type": "code",
   "execution_count": null,
   "id": "2effe620",
   "metadata": {},
   "outputs": [],
   "source": [
    "k2_oct_emd = []\n",
    "contador10 = 0\n",
    "while(contador10<tam_oct_emd):\n",
    "    k2_oct_emd.append(oct_emd[0])\n",
    "    oct_emd.pop(0)\n",
    "    contador10 += 1"
   ]
  },
  {
   "cell_type": "code",
   "execution_count": null,
   "id": "1e14aad3",
   "metadata": {},
   "outputs": [],
   "source": [
    "print(k2_oct_emd)"
   ]
  },
  {
   "cell_type": "code",
   "execution_count": null,
   "id": "4a065968",
   "metadata": {},
   "outputs": [],
   "source": [
    "k3_oct_emd = []\n",
    "contador11 = 0\n",
    "while(contador11<tam_oct_emd):\n",
    "    k3_oct_emd.append(oct_emd[0])\n",
    "    oct_emd.pop(0)\n",
    "    contador11 += 1"
   ]
  },
  {
   "cell_type": "code",
   "execution_count": null,
   "id": "0533fb38",
   "metadata": {},
   "outputs": [],
   "source": [
    "print(k3_oct_emd)"
   ]
  },
  {
   "cell_type": "code",
   "execution_count": null,
   "id": "e0a251d0",
   "metadata": {},
   "outputs": [],
   "source": [
    "k4_oct_emd = []\n",
    "contador12 = 0\n",
    "while(contador12<tam_oct_emd):\n",
    "    k4_oct_emd.append(oct_emd[0])\n",
    "    oct_emd.pop(0)\n",
    "    contador12 += 1"
   ]
  },
  {
   "cell_type": "code",
   "execution_count": null,
   "id": "f26b18d3",
   "metadata": {},
   "outputs": [],
   "source": [
    "print(k4_oct_emd)"
   ]
  },
  {
   "cell_type": "code",
   "execution_count": null,
   "id": "dd790398",
   "metadata": {},
   "outputs": [],
   "source": [
    "k5_oct_emd = oct_emd"
   ]
  },
  {
   "cell_type": "code",
   "execution_count": null,
   "id": "f1b63d02",
   "metadata": {},
   "outputs": [],
   "source": [
    "print(k5_oct_emd)"
   ]
  },
  {
   "cell_type": "code",
   "execution_count": null,
   "id": "1f2fd123",
   "metadata": {},
   "outputs": [],
   "source": [
    "k1_oct_no_emd = []\n",
    "contador13 = 0\n",
    "while(contador13<tam_oct_no_emd):\n",
    "    k1_oct_no_emd.append(oct_no_emd[0])\n",
    "    oct_no_emd.pop(0)\n",
    "    contador13 += 1"
   ]
  },
  {
   "cell_type": "code",
   "execution_count": null,
   "id": "57be42cd",
   "metadata": {},
   "outputs": [],
   "source": [
    "print(k1_oct_no_emd)"
   ]
  },
  {
   "cell_type": "code",
   "execution_count": null,
   "id": "12dfa44b",
   "metadata": {},
   "outputs": [],
   "source": [
    "print(num_oct_no_emd)"
   ]
  },
  {
   "cell_type": "code",
   "execution_count": null,
   "id": "c378a3a3",
   "metadata": {},
   "outputs": [],
   "source": [
    "k2_oct_no_emd = []\n",
    "contador14 = 0\n",
    "while(contador14<tam_oct_no_emd):\n",
    "    k2_oct_no_emd.append(oct_no_emd[0])\n",
    "    oct_no_emd.pop(0)\n",
    "    contador14 += 1"
   ]
  },
  {
   "cell_type": "code",
   "execution_count": null,
   "id": "191866e9",
   "metadata": {},
   "outputs": [],
   "source": [
    "k3_oct_no_emd = []\n",
    "contador15 = 0\n",
    "while(contador15<tam_oct_no_emd):\n",
    "    k3_oct_no_emd.append(oct_no_emd[0])\n",
    "    oct_no_emd.pop(0)\n",
    "    contador15 += 1"
   ]
  },
  {
   "cell_type": "code",
   "execution_count": null,
   "id": "1488106b",
   "metadata": {},
   "outputs": [],
   "source": [
    "k4_oct_no_emd = []\n",
    "contador16 = 0\n",
    "while(contador16<tam_oct_no_emd):\n",
    "    k4_oct_no_emd.append(oct_no_emd[0])\n",
    "    oct_no_emd.pop(0)\n",
    "    contador16 += 1"
   ]
  },
  {
   "cell_type": "code",
   "execution_count": null,
   "id": "931a7458",
   "metadata": {},
   "outputs": [],
   "source": [
    "k5_oct_no_emd = oct_no_emd"
   ]
  },
  {
   "cell_type": "code",
   "execution_count": null,
   "id": "7c8df838",
   "metadata": {},
   "outputs": [],
   "source": [
    "print(k5_oct_no_emd)\n",
    "print(len(k5_oct_no_emd))"
   ]
  },
  {
   "cell_type": "code",
   "execution_count": null,
   "id": "40aad7ad",
   "metadata": {},
   "outputs": [],
   "source": [
    "k1_samsung_emd = []\n",
    "contador17 = 0\n",
    "while(contador17<tam_samsung_emd):\n",
    "    k1_samsung_emd.append(samsung_emd[0])\n",
    "    samsung_emd.pop(0)\n",
    "    contador17 += 1"
   ]
  },
  {
   "cell_type": "code",
   "execution_count": null,
   "id": "58545f04",
   "metadata": {
    "scrolled": true
   },
   "outputs": [],
   "source": [
    "print(k1_samsung_emd)"
   ]
  },
  {
   "cell_type": "code",
   "execution_count": null,
   "id": "9fad532d",
   "metadata": {},
   "outputs": [],
   "source": [
    "print(num_samsung_emd)"
   ]
  },
  {
   "cell_type": "code",
   "execution_count": null,
   "id": "68ffd72d",
   "metadata": {},
   "outputs": [],
   "source": [
    "k2_samsung_emd = []\n",
    "contador18 = 0\n",
    "while(contador18<tam_samsung_emd):\n",
    "    k2_samsung_emd.append(samsung_emd[0])\n",
    "    samsung_emd.pop(0)\n",
    "    contador18 += 1"
   ]
  },
  {
   "cell_type": "code",
   "execution_count": null,
   "id": "78378357",
   "metadata": {},
   "outputs": [],
   "source": [
    "k3_samsung_emd = []\n",
    "contador19 = 0\n",
    "while(contador19<tam_samsung_emd):\n",
    "    k3_samsung_emd.append(samsung_emd[0])\n",
    "    samsung_emd.pop(0)\n",
    "    contador19 += 1"
   ]
  },
  {
   "cell_type": "code",
   "execution_count": null,
   "id": "0624cf46",
   "metadata": {},
   "outputs": [],
   "source": [
    "k4_samsung_emd = []\n",
    "contador20 = 0\n",
    "while(contador20<tam_samsung_emd):\n",
    "    k4_samsung_emd.append(samsung_emd[0])\n",
    "    samsung_emd.pop(0)\n",
    "    contador20 += 1"
   ]
  },
  {
   "cell_type": "code",
   "execution_count": null,
   "id": "4917143b",
   "metadata": {},
   "outputs": [],
   "source": [
    "k5_samsung_emd = samsung_emd"
   ]
  },
  {
   "cell_type": "code",
   "execution_count": null,
   "id": "8a8af376",
   "metadata": {},
   "outputs": [],
   "source": [
    "print(k5_samsung_emd)"
   ]
  },
  {
   "cell_type": "code",
   "execution_count": null,
   "id": "18b61633",
   "metadata": {},
   "outputs": [],
   "source": [
    "k1_samsung_no_emd = []\n",
    "contador21 = 0\n",
    "while(contador21<tam_samsung_no_emd):\n",
    "    k1_samsung_no_emd.append(samsung_no_emd[0])\n",
    "    samsung_no_emd.pop(0)\n",
    "    contador21 += 1"
   ]
  },
  {
   "cell_type": "code",
   "execution_count": null,
   "id": "c0987d71",
   "metadata": {},
   "outputs": [],
   "source": [
    "print(k1_samsung_no_emd)"
   ]
  },
  {
   "cell_type": "code",
   "execution_count": null,
   "id": "8f786e18",
   "metadata": {},
   "outputs": [],
   "source": [
    "print(num_samsung_no_emd)"
   ]
  },
  {
   "cell_type": "code",
   "execution_count": null,
   "id": "fd66d466",
   "metadata": {},
   "outputs": [],
   "source": [
    "k2_samsung_no_emd = []\n",
    "contador22 = 0\n",
    "while(contador22<tam_samsung_no_emd):\n",
    "    k2_samsung_no_emd.append(samsung_no_emd[0])\n",
    "    samsung_no_emd.pop(0)\n",
    "    contador22 += 1"
   ]
  },
  {
   "cell_type": "code",
   "execution_count": null,
   "id": "19e1f85e",
   "metadata": {},
   "outputs": [],
   "source": [
    "k3_samsung_no_emd = []\n",
    "contador23 = 0\n",
    "while(contador23<tam_samsung_no_emd):\n",
    "    k3_samsung_no_emd.append(samsung_no_emd[0])\n",
    "    samsung_no_emd.pop(0)\n",
    "    contador23 += 1"
   ]
  },
  {
   "cell_type": "code",
   "execution_count": null,
   "id": "497d4c81",
   "metadata": {},
   "outputs": [],
   "source": [
    "k4_samsung_no_emd = []\n",
    "contador24 = 0\n",
    "while(contador24<tam_samsung_no_emd):\n",
    "    k4_samsung_no_emd.append(samsung_no_emd[0])\n",
    "    samsung_no_emd.pop(0)\n",
    "    contador24 += 1"
   ]
  },
  {
   "cell_type": "code",
   "execution_count": null,
   "id": "af72a858",
   "metadata": {},
   "outputs": [],
   "source": [
    "k5_samsung_no_emd = samsung_no_emd"
   ]
  },
  {
   "cell_type": "code",
   "execution_count": null,
   "id": "cbcdb54a",
   "metadata": {},
   "outputs": [],
   "source": [
    "print(k5_samsung_no_emd)"
   ]
  },
  {
   "cell_type": "code",
   "execution_count": null,
   "id": "28fea2a4",
   "metadata": {},
   "outputs": [],
   "source": [
    "k1_messidor_emd = []\n",
    "contador25 = 0\n",
    "while(contador25<tam_messidor_emd):\n",
    "    k1_messidor_emd.append(messidor_emd[0])\n",
    "    messidor_emd.pop(0)\n",
    "    contador25 += 1"
   ]
  },
  {
   "cell_type": "code",
   "execution_count": null,
   "id": "4ac339c3",
   "metadata": {},
   "outputs": [],
   "source": [
    "print(k1_messidor_emd)"
   ]
  },
  {
   "cell_type": "code",
   "execution_count": null,
   "id": "b9f13141",
   "metadata": {},
   "outputs": [],
   "source": [
    "print(tam_messidor_emd)"
   ]
  },
  {
   "cell_type": "code",
   "execution_count": null,
   "id": "d3a1b0f3",
   "metadata": {},
   "outputs": [],
   "source": [
    "print(num_messidor_emd)"
   ]
  },
  {
   "cell_type": "code",
   "execution_count": null,
   "id": "996c1830",
   "metadata": {},
   "outputs": [],
   "source": [
    "k2_messidor_emd = []\n",
    "contador26 = 0\n",
    "while(contador26<tam_messidor_emd):\n",
    "    k2_messidor_emd.append(messidor_emd[0])\n",
    "    messidor_emd.pop(0)\n",
    "    contador26 += 1"
   ]
  },
  {
   "cell_type": "code",
   "execution_count": null,
   "id": "eb962d72",
   "metadata": {},
   "outputs": [],
   "source": [
    "k3_messidor_emd = []\n",
    "contador27 = 0\n",
    "while(contador27<tam_messidor_emd):\n",
    "    k3_messidor_emd.append(messidor_emd[0])\n",
    "    messidor_emd.pop(0)\n",
    "    contador27 += 1"
   ]
  },
  {
   "cell_type": "code",
   "execution_count": null,
   "id": "4a943615",
   "metadata": {},
   "outputs": [],
   "source": [
    "k4_messidor_emd = []\n",
    "contador28 = 0\n",
    "while(contador28<tam_messidor_emd):\n",
    "    k4_messidor_emd.append(messidor_emd[0])\n",
    "    messidor_emd.pop(0)\n",
    "    contador28 += 1"
   ]
  },
  {
   "cell_type": "code",
   "execution_count": null,
   "id": "2e457699",
   "metadata": {},
   "outputs": [],
   "source": [
    "k5_messidor_emd = messidor_emd"
   ]
  },
  {
   "cell_type": "code",
   "execution_count": null,
   "id": "61876996",
   "metadata": {},
   "outputs": [],
   "source": [
    "print(len(k5_messidor_emd))"
   ]
  },
  {
   "cell_type": "code",
   "execution_count": null,
   "id": "f7adfd88",
   "metadata": {},
   "outputs": [],
   "source": [
    "k1_messidor_no_emd = []\n",
    "contador29 = 0\n",
    "while(contador29<tam_messidor_no_emd):\n",
    "    k1_messidor_no_emd.append(messidor_no_emd[0])\n",
    "    messidor_no_emd.pop(0)\n",
    "    contador29 += 1"
   ]
  },
  {
   "cell_type": "code",
   "execution_count": null,
   "id": "bf5782ad",
   "metadata": {},
   "outputs": [],
   "source": [
    "k2_messidor_no_emd = []\n",
    "contador30 = 0\n",
    "while(contador30<tam_messidor_no_emd):\n",
    "    k2_messidor_no_emd.append(messidor_no_emd[0])\n",
    "    messidor_no_emd.pop(0)\n",
    "    contador30 += 1"
   ]
  },
  {
   "cell_type": "code",
   "execution_count": null,
   "id": "c94309e7",
   "metadata": {},
   "outputs": [],
   "source": [
    "k3_messidor_no_emd = []\n",
    "contador31 = 0\n",
    "while(contador31<tam_messidor_no_emd):\n",
    "    k3_messidor_no_emd.append(messidor_no_emd[0])\n",
    "    messidor_no_emd.pop(0)\n",
    "    contador31 += 1"
   ]
  },
  {
   "cell_type": "code",
   "execution_count": null,
   "id": "dcf581b4",
   "metadata": {},
   "outputs": [],
   "source": [
    "k4_messidor_no_emd = []\n",
    "contador32 = 0\n",
    "while(contador32<tam_messidor_no_emd):\n",
    "    k4_messidor_no_emd.append(messidor_no_emd[0])\n",
    "    messidor_no_emd.pop(0)\n",
    "    contador32 += 1"
   ]
  },
  {
   "cell_type": "code",
   "execution_count": null,
   "id": "d1192aa3",
   "metadata": {},
   "outputs": [],
   "source": [
    "k5_messidor_no_emd = messidor_no_emd"
   ]
  },
  {
   "cell_type": "code",
   "execution_count": null,
   "id": "38b5d0ad",
   "metadata": {},
   "outputs": [],
   "source": [
    "print(len(k5_messidor_no_emd))\n",
    "print(num_messidor_no_emd)\n",
    "print(tam_messidor_no_emd)"
   ]
  },
  {
   "cell_type": "code",
   "execution_count": null,
   "id": "3fe5f6cf",
   "metadata": {},
   "outputs": [],
   "source": [
    "for e in k1_iphone_emd:\n",
    "    shutil.copy('Datos preprocesados INP EMD/iPhone/EMD/'+e, 'Datos Cross Validation EMD/K1/iPhone/EMD/'+e)"
   ]
  },
  {
   "cell_type": "code",
   "execution_count": null,
   "id": "55f7a234",
   "metadata": {},
   "outputs": [],
   "source": [
    "for e in k1_iphone_no_emd:\n",
    "    shutil.copy('Datos preprocesados INP EMD/iPhone/NO EMD/'+e, 'Datos Cross Validation EMD/K1/iPhone/NO EMD/'+e)"
   ]
  },
  {
   "cell_type": "code",
   "execution_count": null,
   "id": "87780777",
   "metadata": {},
   "outputs": [],
   "source": [
    "for e in k1_oct_emd:\n",
    "    shutil.copy('Datos preprocesados INP EMD/OCT/EMD/'+e, 'Datos Cross Validation EMD/K1/OCT/EMD/'+e)"
   ]
  },
  {
   "cell_type": "code",
   "execution_count": null,
   "id": "9be3fab5",
   "metadata": {},
   "outputs": [],
   "source": [
    "for e in k1_oct_no_emd:\n",
    "    shutil.copy('Datos preprocesados INP EMD/OCT/NO EMD/'+e, 'Datos Cross Validation EMD/K1/OCT/NO EMD/'+e)"
   ]
  },
  {
   "cell_type": "code",
   "execution_count": null,
   "id": "77253f62",
   "metadata": {},
   "outputs": [],
   "source": [
    "for e in k1_samsung_emd:\n",
    "    shutil.copy('Datos preprocesados INP EMD/Samsung/EMD/'+e, 'Datos Cross Validation EMD/K1/Samsung/EMD/'+e)"
   ]
  },
  {
   "cell_type": "code",
   "execution_count": null,
   "id": "45bd3747",
   "metadata": {},
   "outputs": [],
   "source": [
    "for e in k1_samsung_no_emd:\n",
    "    shutil.copy('Datos preprocesados INP EMD/Samsung/NO EMD/'+e, 'Datos Cross Validation EMD/K1/Samsung/NO EMD/'+e)"
   ]
  },
  {
   "cell_type": "code",
   "execution_count": null,
   "id": "6f38af98",
   "metadata": {},
   "outputs": [],
   "source": [
    "for e in k1_messidor_emd:\n",
    "    shutil.copy('Datos preprocesados INP EMD/MESSIDOR/EMD/'+e, 'Datos Cross Validation EMD/K1/MESSIDOR/EMD/'+e)"
   ]
  },
  {
   "cell_type": "code",
   "execution_count": null,
   "id": "e2356e4c",
   "metadata": {},
   "outputs": [],
   "source": [
    "for e in k1_messidor_no_emd:\n",
    "    shutil.copy('Datos preprocesados INP EMD/MESSIDOR/NO EMD/'+e, 'Datos Cross Validation EMD/K1/MESSIDOR/NO EMD/'+e)"
   ]
  },
  {
   "cell_type": "code",
   "execution_count": null,
   "id": "6871681a",
   "metadata": {},
   "outputs": [],
   "source": [
    "for e in k2_iphone_emd:\n",
    "    shutil.copy('Datos preprocesados INP EMD/iPhone/EMD/'+e, 'Datos Cross Validation EMD/K2/iPhone/EMD/'+e)\n",
    "    \n",
    "for e in k2_iphone_no_emd:\n",
    "    shutil.copy('Datos preprocesados INP EMD/iPhone/NO EMD/'+e, 'Datos Cross Validation EMD/K2/iPhone/NO EMD/'+e)\n",
    "\n",
    "for e in k2_oct_emd:\n",
    "    shutil.copy('Datos preprocesados INP EMD/OCT/EMD/'+e, 'Datos Cross Validation EMD/K2/OCT/EMD/'+e)\n",
    "\n",
    "for e in k2_oct_no_emd:\n",
    "    shutil.copy('Datos preprocesados INP EMD/OCT/NO EMD/'+e, 'Datos Cross Validation EMD/K2/OCT/NO EMD/'+e)\n",
    "    \n",
    "for e in k2_samsung_emd:\n",
    "    shutil.copy('Datos preprocesados INP EMD/Samsung/EMD/'+e, 'Datos Cross Validation EMD/K2/Samsung/EMD/'+e)\n",
    "\n",
    "for e in k2_samsung_no_emd:\n",
    "    shutil.copy('Datos preprocesados INP EMD/Samsung/NO EMD/'+e, 'Datos Cross Validation EMD/K2/Samsung/NO EMD/'+e)\n",
    "\n",
    "for e in k2_messidor_emd:\n",
    "    shutil.copy('Datos preprocesados INP EMD/MESSIDOR/EMD/'+e, 'Datos Cross Validation EMD/K2/MESSIDOR/EMD/'+e)\n",
    "\n",
    "for e in k2_messidor_no_emd:\n",
    "    shutil.copy('Datos preprocesados INP EMD/MESSIDOR/NO EMD/'+e, 'Datos Cross Validation EMD/K2/MESSIDOR/NO EMD/'+e)"
   ]
  },
  {
   "cell_type": "code",
   "execution_count": null,
   "id": "c23ddcc9",
   "metadata": {},
   "outputs": [],
   "source": [
    "for e in k3_iphone_emd:\n",
    "    shutil.copy('Datos preprocesados INP EMD/iPhone/EMD/'+e, 'Datos Cross Validation EMD/K3/iPhone/EMD/'+e)\n",
    "    \n",
    "for e in k3_iphone_no_emd:\n",
    "    shutil.copy('Datos preprocesados INP EMD/iPhone/NO EMD/'+e, 'Datos Cross Validation EMD/K3/iPhone/NO EMD/'+e)\n",
    "\n",
    "for e in k3_oct_emd:\n",
    "    shutil.copy('Datos preprocesados INP EMD/OCT/EMD/'+e, 'Datos Cross Validation EMD/K3/OCT/EMD/'+e)\n",
    "\n",
    "for e in k3_oct_no_emd:\n",
    "    shutil.copy('Datos preprocesados INP EMD/OCT/NO EMD/'+e, 'Datos Cross Validation EMD/K3/OCT/NO EMD/'+e)\n",
    "    \n",
    "for e in k3_samsung_emd:\n",
    "    shutil.copy('Datos preprocesados INP EMD/Samsung/EMD/'+e, 'Datos Cross Validation EMD/K3/Samsung/EMD/'+e)\n",
    "\n",
    "for e in k3_samsung_no_emd:\n",
    "    shutil.copy('Datos preprocesados INP EMD/Samsung/NO EMD/'+e, 'Datos Cross Validation EMD/K3/Samsung/NO EMD/'+e)\n",
    "\n",
    "for e in k3_messidor_emd:\n",
    "    shutil.copy('Datos preprocesados INP EMD/MESSIDOR/EMD/'+e, 'Datos Cross Validation EMD/K3/MESSIDOR/EMD/'+e)\n",
    "\n",
    "for e in k3_messidor_no_emd:\n",
    "    shutil.copy('Datos preprocesados INP EMD/MESSIDOR/NO EMD/'+e, 'Datos Cross Validation EMD/K3/MESSIDOR/NO EMD/'+e)"
   ]
  },
  {
   "cell_type": "code",
   "execution_count": null,
   "id": "a7f0e29e",
   "metadata": {},
   "outputs": [],
   "source": [
    "for e in k4_iphone_emd:\n",
    "    shutil.copy('Datos preprocesados INP EMD/iPhone/EMD/'+e, 'Datos Cross Validation EMD/K4/iPhone/EMD/'+e)\n",
    "    \n",
    "for e in k4_iphone_no_emd:\n",
    "    shutil.copy('Datos preprocesados INP EMD/iPhone/NO EMD/'+e, 'Datos Cross Validation EMD/K4/iPhone/NO EMD/'+e)\n",
    "\n",
    "for e in k4_oct_emd:\n",
    "    shutil.copy('Datos preprocesados INP EMD/OCT/EMD/'+e, 'Datos Cross Validation EMD/K4/OCT/EMD/'+e)\n",
    "\n",
    "for e in k4_oct_no_emd:\n",
    "    shutil.copy('Datos preprocesados INP EMD/OCT/NO EMD/'+e, 'Datos Cross Validation EMD/K4/OCT/NO EMD/'+e)\n",
    "    \n",
    "for e in k4_samsung_emd:\n",
    "    shutil.copy('Datos preprocesados INP EMD/Samsung/EMD/'+e, 'Datos Cross Validation EMD/K4/Samsung/EMD/'+e)\n",
    "\n",
    "for e in k4_samsung_no_emd:\n",
    "    shutil.copy('Datos preprocesados INP EMD/Samsung/NO EMD/'+e, 'Datos Cross Validation EMD/K4/Samsung/NO EMD/'+e)\n",
    "\n",
    "for e in k4_messidor_emd:\n",
    "    shutil.copy('Datos preprocesados INP EMD/MESSIDOR/EMD/'+e, 'Datos Cross Validation EMD/K4/MESSIDOR/EMD/'+e)\n",
    "\n",
    "for e in k4_messidor_no_emd:\n",
    "    shutil.copy('Datos preprocesados INP EMD/MESSIDOR/NO EMD/'+e, 'Datos Cross Validation EMD/K4/MESSIDOR/NO EMD/'+e)"
   ]
  },
  {
   "cell_type": "code",
   "execution_count": null,
   "id": "b6e6d34b",
   "metadata": {},
   "outputs": [],
   "source": [
    "for e in k5_iphone_emd:\n",
    "    shutil.copy('Datos preprocesados INP EMD/iPhone/EMD/'+e, 'Datos Cross Validation EMD/K5/iPhone/EMD/'+e)\n",
    "    \n",
    "for e in k5_iphone_no_emd:\n",
    "    shutil.copy('Datos preprocesados INP EMD/iPhone/NO EMD/'+e, 'Datos Cross Validation EMD/K5/iPhone/NO EMD/'+e)\n",
    "\n",
    "for e in k5_oct_emd:\n",
    "    shutil.copy('Datos preprocesados INP EMD/OCT/EMD/'+e, 'Datos Cross Validation EMD/K5/OCT/EMD/'+e)\n",
    "\n",
    "for e in k5_oct_no_emd:\n",
    "    shutil.copy('Datos preprocesados INP EMD/OCT/NO EMD/'+e, 'Datos Cross Validation EMD/K5/OCT/NO EMD/'+e)\n",
    "    \n",
    "for e in k5_samsung_emd:\n",
    "    shutil.copy('Datos preprocesados INP EMD/Samsung/EMD/'+e, 'Datos Cross Validation EMD/K5/Samsung/EMD/'+e)\n",
    "\n",
    "for e in k5_samsung_no_emd:\n",
    "    shutil.copy('Datos preprocesados INP EMD/Samsung/NO EMD/'+e, 'Datos Cross Validation EMD/K5/Samsung/NO EMD/'+e)\n",
    "\n",
    "for e in k5_messidor_emd:\n",
    "    shutil.copy('Datos preprocesados INP EMD/MESSIDOR/EMD/'+e, 'Datos Cross Validation EMD/K5/MESSIDOR/EMD/'+e)\n",
    "\n",
    "for e in k5_messidor_no_emd:\n",
    "    shutil.copy('Datos preprocesados INP EMD/MESSIDOR/NO EMD/'+e, 'Datos Cross Validation EMD/K5/MESSIDOR/NO EMD/'+e)"
   ]
  },
  {
   "cell_type": "markdown",
   "id": "6420ccd3",
   "metadata": {},
   "source": [
    "**DATOS NO PROCESADOS**"
   ]
  },
  {
   "cell_type": "code",
   "execution_count": 2,
   "id": "2a17ed01",
   "metadata": {},
   "outputs": [],
   "source": [
    "dir_iphone_emd = 'Datos INP EMD/iPhone/EMD'\n",
    "dir_iphone_no_emd = 'Datos INP EMD/iPhone/NO EMD'\n",
    "dir_oct_emd = 'Datos INP EMD/OCT/EMD'\n",
    "dir_oct_no_emd = 'Datos INP EMD/OCT/NO EMD'\n",
    "dir_samsung_emd = 'Datos INP EMD/Samsung/EMD'\n",
    "dir_samsung_no_emd = 'Datos INP EMD/Samsung/NO EMD'\n",
    "dir_messidor_emd = 'Datos INP EMD/MESSIDOR/EMD'\n",
    "dir_messidor_no_emd = 'Datos INP EMD/MESSIDOR/NO EMD'"
   ]
  },
  {
   "cell_type": "code",
   "execution_count": 3,
   "id": "f17a23df",
   "metadata": {},
   "outputs": [],
   "source": [
    "iphone_emd = os.listdir(dir_iphone_emd)\n",
    "iphone_no_emd = os.listdir(dir_iphone_no_emd)\n",
    "oct_emd = os.listdir(dir_oct_emd)\n",
    "oct_no_emd = os.listdir(dir_oct_no_emd)\n",
    "samsung_emd = os.listdir(dir_samsung_emd)\n",
    "samsung_no_emd = os.listdir(dir_samsung_no_emd)\n",
    "messidor_emd = os.listdir(dir_messidor_emd)\n",
    "messidor_no_emd = os.listdir(dir_messidor_no_emd)"
   ]
  },
  {
   "cell_type": "code",
   "execution_count": 4,
   "id": "8ad7a760",
   "metadata": {},
   "outputs": [],
   "source": [
    "num_iphone_emd = len(iphone_emd)\n",
    "num_iphone_no_emd = len(iphone_no_emd)\n",
    "num_oct_emd = len(oct_emd)\n",
    "num_oct_no_emd = len(oct_no_emd)\n",
    "num_samsung_emd = len(samsung_emd)\n",
    "num_samsung_no_emd = len(samsung_no_emd)\n",
    "num_messidor_emd = len(messidor_emd)\n",
    "num_messidor_no_emd = len(messidor_no_emd)"
   ]
  },
  {
   "cell_type": "code",
   "execution_count": 5,
   "id": "f191cc5b",
   "metadata": {},
   "outputs": [],
   "source": [
    "tam_iphone_emd = round(len(iphone_emd)/5)\n",
    "tam_iphone_no_emd = round(len(iphone_no_emd)/5)\n",
    "tam_oct_emd = round(len(oct_emd)/5)\n",
    "tam_oct_no_emd = round(len(oct_no_emd)/5)\n",
    "tam_samsung_emd = round(len(samsung_emd)/5)\n",
    "tam_samsung_no_emd = round(len(samsung_no_emd)/5)\n",
    "tam_messidor_emd = round(len(messidor_emd)/5)\n",
    "tam_messidor_no_emd = round(len(messidor_no_emd)/5)"
   ]
  },
  {
   "cell_type": "code",
   "execution_count": 6,
   "id": "49080759",
   "metadata": {},
   "outputs": [],
   "source": [
    "k1_iphone_emd = []\n",
    "contador1 = 0\n",
    "while(contador1<tam_iphone_emd):\n",
    "    k1_iphone_emd.append(iphone_emd[0])\n",
    "    iphone_emd.pop(0)\n",
    "    contador1 += 1"
   ]
  },
  {
   "cell_type": "code",
   "execution_count": 7,
   "id": "1fb41a9a",
   "metadata": {},
   "outputs": [],
   "source": [
    "k2_iphone_emd = []\n",
    "contador2 = 0\n",
    "while(contador2<tam_iphone_emd):\n",
    "    k2_iphone_emd.append(iphone_emd[0])\n",
    "    iphone_emd.pop(0)\n",
    "    contador2 += 1"
   ]
  },
  {
   "cell_type": "code",
   "execution_count": 8,
   "id": "2cff80c0",
   "metadata": {},
   "outputs": [
    {
     "name": "stdout",
     "output_type": "stream",
     "text": [
      "13\n",
      "12\n",
      "11\n",
      "10\n",
      "9\n"
     ]
    }
   ],
   "source": [
    "k3_iphone_emd = []\n",
    "contador3 = 0\n",
    "while(contador3<tam_iphone_emd):\n",
    "    k3_iphone_emd.append(iphone_emd[0])\n",
    "    iphone_emd.pop(0)\n",
    "    print(len(iphone_emd))\n",
    "    contador3 += 1"
   ]
  },
  {
   "cell_type": "code",
   "execution_count": 9,
   "id": "17d69e6d",
   "metadata": {},
   "outputs": [
    {
     "name": "stdout",
     "output_type": "stream",
     "text": [
      "8\n",
      "7\n",
      "6\n",
      "5\n",
      "4\n"
     ]
    }
   ],
   "source": [
    "k4_iphone_emd = []\n",
    "contador4 = 0\n",
    "while(contador4<tam_iphone_emd):\n",
    "    k4_iphone_emd.append(iphone_emd[0])\n",
    "    iphone_emd.pop(0)\n",
    "    print(len(iphone_emd))\n",
    "    contador4 += 1"
   ]
  },
  {
   "cell_type": "code",
   "execution_count": 10,
   "id": "c3b05547",
   "metadata": {},
   "outputs": [],
   "source": [
    "k5_iphone_emd = iphone_emd"
   ]
  },
  {
   "cell_type": "code",
   "execution_count": 11,
   "id": "84f3fa8f",
   "metadata": {},
   "outputs": [
    {
     "name": "stdout",
     "output_type": "stream",
     "text": [
      "74\n",
      "73\n",
      "72\n",
      "71\n",
      "70\n",
      "69\n",
      "68\n",
      "67\n",
      "66\n",
      "65\n",
      "64\n",
      "63\n",
      "62\n",
      "61\n",
      "60\n"
     ]
    }
   ],
   "source": [
    "k1_iphone_no_emd = []\n",
    "contador5 = 0\n",
    "while(contador5<tam_iphone_no_emd):\n",
    "    k1_iphone_no_emd.append(iphone_no_emd[0])\n",
    "    iphone_no_emd.pop(0)\n",
    "    print(len(iphone_no_emd))\n",
    "    contador5 += 1"
   ]
  },
  {
   "cell_type": "code",
   "execution_count": 12,
   "id": "67892786",
   "metadata": {},
   "outputs": [
    {
     "name": "stdout",
     "output_type": "stream",
     "text": [
      "59\n",
      "58\n",
      "57\n",
      "56\n",
      "55\n",
      "54\n",
      "53\n",
      "52\n",
      "51\n",
      "50\n",
      "49\n",
      "48\n",
      "47\n",
      "46\n",
      "45\n"
     ]
    }
   ],
   "source": [
    "k2_iphone_no_emd = []\n",
    "contador6 = 0\n",
    "while(contador6<tam_iphone_no_emd):\n",
    "    k2_iphone_no_emd.append(iphone_no_emd[0])\n",
    "    iphone_no_emd.pop(0)\n",
    "    print(len(iphone_no_emd))\n",
    "    contador6 += 1"
   ]
  },
  {
   "cell_type": "code",
   "execution_count": 13,
   "id": "4178401f",
   "metadata": {},
   "outputs": [
    {
     "name": "stdout",
     "output_type": "stream",
     "text": [
      "44\n",
      "43\n",
      "42\n",
      "41\n",
      "40\n",
      "39\n",
      "38\n",
      "37\n",
      "36\n",
      "35\n",
      "34\n",
      "33\n",
      "32\n",
      "31\n",
      "30\n"
     ]
    }
   ],
   "source": [
    "k3_iphone_no_emd = []\n",
    "contador7 = 0\n",
    "while(contador7<tam_iphone_no_emd):\n",
    "    k3_iphone_no_emd.append(iphone_no_emd[0])\n",
    "    iphone_no_emd.pop(0)\n",
    "    print(len(iphone_no_emd))\n",
    "    contador7 += 1"
   ]
  },
  {
   "cell_type": "code",
   "execution_count": 14,
   "id": "cdcf066d",
   "metadata": {},
   "outputs": [
    {
     "name": "stdout",
     "output_type": "stream",
     "text": [
      "29\n",
      "28\n",
      "27\n",
      "26\n",
      "25\n",
      "24\n",
      "23\n",
      "22\n",
      "21\n",
      "20\n",
      "19\n",
      "18\n",
      "17\n",
      "16\n",
      "15\n"
     ]
    }
   ],
   "source": [
    "k4_iphone_no_emd = []\n",
    "contador8 = 0\n",
    "while(contador8<tam_iphone_no_emd):\n",
    "    k4_iphone_no_emd.append(iphone_no_emd[0])\n",
    "    iphone_no_emd.pop(0)\n",
    "    print(len(iphone_no_emd))\n",
    "    contador8 += 1"
   ]
  },
  {
   "cell_type": "code",
   "execution_count": 15,
   "id": "f6089bb5",
   "metadata": {},
   "outputs": [],
   "source": [
    "k5_iphone_no_emd = iphone_no_emd"
   ]
  },
  {
   "cell_type": "code",
   "execution_count": 16,
   "id": "ca582472",
   "metadata": {},
   "outputs": [],
   "source": [
    "k1_oct_emd = []\n",
    "contador9 = 0\n",
    "while(contador9<tam_oct_emd):\n",
    "    k1_oct_emd.append(oct_emd[0])\n",
    "    oct_emd.pop(0)\n",
    "    contador9 += 1"
   ]
  },
  {
   "cell_type": "code",
   "execution_count": 17,
   "id": "15f2781f",
   "metadata": {},
   "outputs": [],
   "source": [
    "k2_oct_emd = []\n",
    "contador10 = 0\n",
    "while(contador10<tam_oct_emd):\n",
    "    k2_oct_emd.append(oct_emd[0])\n",
    "    oct_emd.pop(0)\n",
    "    contador10 += 1"
   ]
  },
  {
   "cell_type": "code",
   "execution_count": 18,
   "id": "4e40a715",
   "metadata": {},
   "outputs": [],
   "source": [
    "k3_oct_emd = []\n",
    "contador11 = 0\n",
    "while(contador11<tam_oct_emd):\n",
    "    k3_oct_emd.append(oct_emd[0])\n",
    "    oct_emd.pop(0)\n",
    "    contador11 += 1"
   ]
  },
  {
   "cell_type": "code",
   "execution_count": 19,
   "id": "cb7fceb2",
   "metadata": {},
   "outputs": [],
   "source": [
    "k4_oct_emd = []\n",
    "contador12 = 0\n",
    "while(contador12<tam_oct_emd):\n",
    "    k4_oct_emd.append(oct_emd[0])\n",
    "    oct_emd.pop(0)\n",
    "    contador12 += 1"
   ]
  },
  {
   "cell_type": "code",
   "execution_count": 20,
   "id": "9f14f5b6",
   "metadata": {},
   "outputs": [],
   "source": [
    "k5_oct_emd = oct_emd"
   ]
  },
  {
   "cell_type": "code",
   "execution_count": 21,
   "id": "0ad7c6e1",
   "metadata": {},
   "outputs": [],
   "source": [
    "k1_oct_no_emd = []\n",
    "contador13 = 0\n",
    "while(contador13<tam_oct_no_emd):\n",
    "    k1_oct_no_emd.append(oct_no_emd[0])\n",
    "    oct_no_emd.pop(0)\n",
    "    contador13 += 1"
   ]
  },
  {
   "cell_type": "code",
   "execution_count": 22,
   "id": "ad54d155",
   "metadata": {},
   "outputs": [],
   "source": [
    "k2_oct_no_emd = []\n",
    "contador14 = 0\n",
    "while(contador14<tam_oct_no_emd):\n",
    "    k2_oct_no_emd.append(oct_no_emd[0])\n",
    "    oct_no_emd.pop(0)\n",
    "    contador14 += 1"
   ]
  },
  {
   "cell_type": "code",
   "execution_count": 23,
   "id": "419aa291",
   "metadata": {},
   "outputs": [],
   "source": [
    "k3_oct_no_emd = []\n",
    "contador15 = 0\n",
    "while(contador15<tam_oct_no_emd):\n",
    "    k3_oct_no_emd.append(oct_no_emd[0])\n",
    "    oct_no_emd.pop(0)\n",
    "    contador15 += 1"
   ]
  },
  {
   "cell_type": "code",
   "execution_count": 24,
   "id": "e29b410e",
   "metadata": {},
   "outputs": [],
   "source": [
    "k4_oct_no_emd = []\n",
    "contador16 = 0\n",
    "while(contador16<tam_oct_no_emd):\n",
    "    k4_oct_no_emd.append(oct_no_emd[0])\n",
    "    oct_no_emd.pop(0)\n",
    "    contador16 += 1"
   ]
  },
  {
   "cell_type": "code",
   "execution_count": 25,
   "id": "b9604e65",
   "metadata": {},
   "outputs": [],
   "source": [
    "k5_oct_no_emd = oct_no_emd"
   ]
  },
  {
   "cell_type": "code",
   "execution_count": 26,
   "id": "3191e7c3",
   "metadata": {},
   "outputs": [],
   "source": [
    "k1_samsung_emd = []\n",
    "contador17 = 0\n",
    "while(contador17<tam_samsung_emd):\n",
    "    k1_samsung_emd.append(samsung_emd[0])\n",
    "    samsung_emd.pop(0)\n",
    "    contador17 += 1"
   ]
  },
  {
   "cell_type": "code",
   "execution_count": 27,
   "id": "c70ddb3a",
   "metadata": {},
   "outputs": [],
   "source": [
    "k2_samsung_emd = []\n",
    "contador18 = 0\n",
    "while(contador18<tam_samsung_emd):\n",
    "    k2_samsung_emd.append(samsung_emd[0])\n",
    "    samsung_emd.pop(0)\n",
    "    contador18 += 1"
   ]
  },
  {
   "cell_type": "code",
   "execution_count": 28,
   "id": "e4d81538",
   "metadata": {},
   "outputs": [],
   "source": [
    "k3_samsung_emd = []\n",
    "contador19 = 0\n",
    "while(contador19<tam_samsung_emd):\n",
    "    k3_samsung_emd.append(samsung_emd[0])\n",
    "    samsung_emd.pop(0)\n",
    "    contador19 += 1"
   ]
  },
  {
   "cell_type": "code",
   "execution_count": 29,
   "id": "4a5447b0",
   "metadata": {},
   "outputs": [],
   "source": [
    "k4_samsung_emd = []\n",
    "contador20 = 0\n",
    "while(contador20<tam_samsung_emd):\n",
    "    k4_samsung_emd.append(samsung_emd[0])\n",
    "    samsung_emd.pop(0)\n",
    "    contador20 += 1"
   ]
  },
  {
   "cell_type": "code",
   "execution_count": 30,
   "id": "45aa66c5",
   "metadata": {},
   "outputs": [],
   "source": [
    "k5_samsung_emd = samsung_emd"
   ]
  },
  {
   "cell_type": "code",
   "execution_count": 31,
   "id": "d90b412d",
   "metadata": {},
   "outputs": [],
   "source": [
    "k1_samsung_no_emd = []\n",
    "contador21 = 0\n",
    "while(contador21<tam_samsung_no_emd):\n",
    "    k1_samsung_no_emd.append(samsung_no_emd[0])\n",
    "    samsung_no_emd.pop(0)\n",
    "    contador21 += 1"
   ]
  },
  {
   "cell_type": "code",
   "execution_count": 32,
   "id": "3505a84c",
   "metadata": {},
   "outputs": [],
   "source": [
    "k2_samsung_no_emd = []\n",
    "contador22 = 0\n",
    "while(contador22<tam_samsung_no_emd):\n",
    "    k2_samsung_no_emd.append(samsung_no_emd[0])\n",
    "    samsung_no_emd.pop(0)\n",
    "    contador22 += 1"
   ]
  },
  {
   "cell_type": "code",
   "execution_count": 33,
   "id": "9797b24b",
   "metadata": {},
   "outputs": [],
   "source": [
    "k3_samsung_no_emd = []\n",
    "contador23 = 0\n",
    "while(contador23<tam_samsung_no_emd):\n",
    "    k3_samsung_no_emd.append(samsung_no_emd[0])\n",
    "    samsung_no_emd.pop(0)\n",
    "    contador23 += 1"
   ]
  },
  {
   "cell_type": "code",
   "execution_count": 34,
   "id": "9bdb1dca",
   "metadata": {},
   "outputs": [],
   "source": [
    "k4_samsung_no_emd = []\n",
    "contador24 = 0\n",
    "while(contador24<tam_samsung_no_emd):\n",
    "    k4_samsung_no_emd.append(samsung_no_emd[0])\n",
    "    samsung_no_emd.pop(0)\n",
    "    contador24 += 1"
   ]
  },
  {
   "cell_type": "code",
   "execution_count": 35,
   "id": "f601f76b",
   "metadata": {},
   "outputs": [],
   "source": [
    "k5_samsung_no_emd = samsung_no_emd"
   ]
  },
  {
   "cell_type": "code",
   "execution_count": 36,
   "id": "2151c0d9",
   "metadata": {},
   "outputs": [],
   "source": [
    "k1_messidor_emd = []\n",
    "contador25 = 0\n",
    "while(contador25<tam_messidor_emd):\n",
    "    k1_messidor_emd.append(messidor_emd[0])\n",
    "    messidor_emd.pop(0)\n",
    "    contador25 += 1"
   ]
  },
  {
   "cell_type": "code",
   "execution_count": 37,
   "id": "6465257b",
   "metadata": {},
   "outputs": [],
   "source": [
    "k2_messidor_emd = []\n",
    "contador26 = 0\n",
    "while(contador26<tam_messidor_emd):\n",
    "    k2_messidor_emd.append(messidor_emd[0])\n",
    "    messidor_emd.pop(0)\n",
    "    contador26 += 1"
   ]
  },
  {
   "cell_type": "code",
   "execution_count": 38,
   "id": "c0c53423",
   "metadata": {},
   "outputs": [],
   "source": [
    "k3_messidor_emd = []\n",
    "contador27 = 0\n",
    "while(contador27<tam_messidor_emd):\n",
    "    k3_messidor_emd.append(messidor_emd[0])\n",
    "    messidor_emd.pop(0)\n",
    "    contador27 += 1"
   ]
  },
  {
   "cell_type": "code",
   "execution_count": 39,
   "id": "fa72f695",
   "metadata": {},
   "outputs": [],
   "source": [
    "k4_messidor_emd = []\n",
    "contador28 = 0\n",
    "while(contador28<tam_messidor_emd):\n",
    "    k4_messidor_emd.append(messidor_emd[0])\n",
    "    messidor_emd.pop(0)\n",
    "    contador28 += 1"
   ]
  },
  {
   "cell_type": "code",
   "execution_count": 40,
   "id": "87d7c453",
   "metadata": {},
   "outputs": [],
   "source": [
    "k5_messidor_emd = messidor_emd"
   ]
  },
  {
   "cell_type": "code",
   "execution_count": 41,
   "id": "83f99e7f",
   "metadata": {},
   "outputs": [],
   "source": [
    "k1_messidor_no_emd = []\n",
    "contador29 = 0\n",
    "while(contador29<tam_messidor_no_emd):\n",
    "    k1_messidor_no_emd.append(messidor_no_emd[0])\n",
    "    messidor_no_emd.pop(0)\n",
    "    contador29 += 1"
   ]
  },
  {
   "cell_type": "code",
   "execution_count": 42,
   "id": "ff20ad13",
   "metadata": {},
   "outputs": [],
   "source": [
    "k2_messidor_no_emd = []\n",
    "contador30 = 0\n",
    "while(contador30<tam_messidor_no_emd):\n",
    "    k2_messidor_no_emd.append(messidor_no_emd[0])\n",
    "    messidor_no_emd.pop(0)\n",
    "    contador30 += 1"
   ]
  },
  {
   "cell_type": "code",
   "execution_count": 43,
   "id": "a683ad7f",
   "metadata": {},
   "outputs": [],
   "source": [
    "k3_messidor_no_emd = []\n",
    "contador31 = 0\n",
    "while(contador31<tam_messidor_no_emd):\n",
    "    k3_messidor_no_emd.append(messidor_no_emd[0])\n",
    "    messidor_no_emd.pop(0)\n",
    "    contador31 += 1"
   ]
  },
  {
   "cell_type": "code",
   "execution_count": 44,
   "id": "7da6c983",
   "metadata": {},
   "outputs": [],
   "source": [
    "k4_messidor_no_emd = []\n",
    "contador32 = 0\n",
    "while(contador32<tam_messidor_no_emd):\n",
    "    k4_messidor_no_emd.append(messidor_no_emd[0])\n",
    "    messidor_no_emd.pop(0)\n",
    "    contador32 += 1"
   ]
  },
  {
   "cell_type": "code",
   "execution_count": 45,
   "id": "ac50eed9",
   "metadata": {},
   "outputs": [],
   "source": [
    "k5_messidor_no_emd = messidor_no_emd"
   ]
  },
  {
   "cell_type": "code",
   "execution_count": 48,
   "id": "42935e16",
   "metadata": {},
   "outputs": [],
   "source": [
    "for e in k1_iphone_emd:\n",
    "    shutil.copy('Datos INP EMD/iPhone/EMD/'+e, 'Datos no proc Cross Validation EMD/K1/iPhone/EMD/'+e)"
   ]
  },
  {
   "cell_type": "code",
   "execution_count": 49,
   "id": "9f1780be",
   "metadata": {},
   "outputs": [],
   "source": [
    "for e in k1_iphone_no_emd:\n",
    "    shutil.copy('Datos INP EMD/iPhone/NO EMD/'+e, 'Datos no proc Cross Validation EMD/K1/iPhone/NO EMD/'+e)"
   ]
  },
  {
   "cell_type": "code",
   "execution_count": 50,
   "id": "7b7aa5da",
   "metadata": {},
   "outputs": [],
   "source": [
    "for e in k1_oct_emd:\n",
    "    shutil.copy('Datos INP EMD/OCT/EMD/'+e, 'Datos no proc Cross Validation EMD/K1/OCT/EMD/'+e)"
   ]
  },
  {
   "cell_type": "code",
   "execution_count": 51,
   "id": "52c9b12e",
   "metadata": {},
   "outputs": [],
   "source": [
    "for e in k1_oct_no_emd:\n",
    "    shutil.copy('Datos INP EMD/OCT/NO EMD/'+e, 'Datos no proc Cross Validation EMD/K1/OCT/NO EMD/'+e)"
   ]
  },
  {
   "cell_type": "code",
   "execution_count": 52,
   "id": "e245e80e",
   "metadata": {},
   "outputs": [],
   "source": [
    "for e in k1_samsung_emd:\n",
    "    shutil.copy('Datos INP EMD/Samsung/EMD/'+e, 'Datos no proc Cross Validation EMD/K1/Samsung/EMD/'+e)"
   ]
  },
  {
   "cell_type": "code",
   "execution_count": 53,
   "id": "1f8a4b56",
   "metadata": {},
   "outputs": [],
   "source": [
    "for e in k1_samsung_no_emd:\n",
    "    shutil.copy('Datos INP EMD/Samsung/NO EMD/'+e, 'Datos no proc Cross Validation EMD/K1/Samsung/NO EMD/'+e)"
   ]
  },
  {
   "cell_type": "code",
   "execution_count": 54,
   "id": "fb7ff06f",
   "metadata": {},
   "outputs": [],
   "source": [
    "for e in k1_messidor_emd:\n",
    "    shutil.copy('Datos INP EMD/MESSIDOR/EMD/'+e, 'Datos no proc Cross Validation EMD/K1/MESSIDOR/EMD/'+e)"
   ]
  },
  {
   "cell_type": "code",
   "execution_count": 55,
   "id": "ae8944ed",
   "metadata": {},
   "outputs": [],
   "source": [
    "for e in k1_messidor_no_emd:\n",
    "    shutil.copy('Datos INP EMD/MESSIDOR/NO EMD/'+e, 'Datos no proc Cross Validation EMD/K1/MESSIDOR/NO EMD/'+e)"
   ]
  },
  {
   "cell_type": "code",
   "execution_count": 56,
   "id": "68d243ee",
   "metadata": {},
   "outputs": [],
   "source": [
    "for e in k2_iphone_emd:\n",
    "    shutil.copy('Datos INP EMD/iPhone/EMD/'+e, 'Datos no proc Cross Validation EMD/K2/iPhone/EMD/'+e)\n",
    "    \n",
    "for e in k2_iphone_no_emd:\n",
    "    shutil.copy('Datos INP EMD/iPhone/NO EMD/'+e, 'Datos no proc Cross Validation EMD/K2/iPhone/NO EMD/'+e)\n",
    "\n",
    "for e in k2_oct_emd:\n",
    "    shutil.copy('Datos INP EMD/OCT/EMD/'+e, 'Datos no proc Cross Validation EMD/K2/OCT/EMD/'+e)\n",
    "\n",
    "for e in k2_oct_no_emd:\n",
    "    shutil.copy('Datos INP EMD/OCT/NO EMD/'+e, 'Datos no proc Cross Validation EMD/K2/OCT/NO EMD/'+e)\n",
    "    \n",
    "for e in k2_samsung_emd:\n",
    "    shutil.copy('Datos INP EMD/Samsung/EMD/'+e, 'Datos no proc Cross Validation EMD/K2/Samsung/EMD/'+e)\n",
    "\n",
    "for e in k2_samsung_no_emd:\n",
    "    shutil.copy('Datos INP EMD/Samsung/NO EMD/'+e, 'Datos no proc Cross Validation EMD/K2/Samsung/NO EMD/'+e)\n",
    "\n",
    "for e in k2_messidor_emd:\n",
    "    shutil.copy('Datos INP EMD/MESSIDOR/EMD/'+e, 'Datos no proc Cross Validation EMD/K2/MESSIDOR/EMD/'+e)\n",
    "\n",
    "for e in k2_messidor_no_emd:\n",
    "    shutil.copy('Datos INP EMD/MESSIDOR/NO EMD/'+e, 'Datos no proc Cross Validation EMD/K2/MESSIDOR/NO EMD/'+e)"
   ]
  },
  {
   "cell_type": "code",
   "execution_count": 57,
   "id": "a85f5a74",
   "metadata": {},
   "outputs": [],
   "source": [
    "for e in k3_iphone_emd:\n",
    "    shutil.copy('Datos INP EMD/iPhone/EMD/'+e, 'Datos no proc Cross Validation EMD/K3/iPhone/EMD/'+e)\n",
    "    \n",
    "for e in k3_iphone_no_emd:\n",
    "    shutil.copy('Datos INP EMD/iPhone/NO EMD/'+e, 'Datos no proc Cross Validation EMD/K3/iPhone/NO EMD/'+e)\n",
    "\n",
    "for e in k3_oct_emd:\n",
    "    shutil.copy('Datos INP EMD/OCT/EMD/'+e, 'Datos no proc Cross Validation EMD/K3/OCT/EMD/'+e)\n",
    "\n",
    "for e in k3_oct_no_emd:\n",
    "    shutil.copy('Datos INP EMD/OCT/NO EMD/'+e, 'Datos no proc Cross Validation EMD/K3/OCT/NO EMD/'+e)\n",
    "    \n",
    "for e in k3_samsung_emd:\n",
    "    shutil.copy('Datos INP EMD/Samsung/EMD/'+e, 'Datos no proc Cross Validation EMD/K3/Samsung/EMD/'+e)\n",
    "\n",
    "for e in k3_samsung_no_emd:\n",
    "    shutil.copy('Datos INP EMD/Samsung/NO EMD/'+e, 'Datos no proc Cross Validation EMD/K3/Samsung/NO EMD/'+e)\n",
    "\n",
    "for e in k3_messidor_emd:\n",
    "    shutil.copy('Datos INP EMD/MESSIDOR/EMD/'+e, 'Datos no proc Cross Validation EMD/K3/MESSIDOR/EMD/'+e)\n",
    "\n",
    "for e in k3_messidor_no_emd:\n",
    "    shutil.copy('Datos INP EMD/MESSIDOR/NO EMD/'+e, 'Datos no proc Cross Validation EMD/K3/MESSIDOR/NO EMD/'+e)"
   ]
  },
  {
   "cell_type": "code",
   "execution_count": null,
   "id": "cfd474a3",
   "metadata": {},
   "outputs": [],
   "source": [
    "for e in k4_iphone_emd:\n",
    "    shutil.copy('Datos INP EMD/iPhone/EMD/'+e, 'Datos no proc Cross Validation EMD/K4/iPhone/EMD/'+e)\n",
    "    \n",
    "for e in k4_iphone_no_emd:\n",
    "    shutil.copy('Datos INP EMD/iPhone/NO EMD/'+e, 'Datos no proc Cross Validation EMD/K4/iPhone/NO EMD/'+e)\n",
    "\n",
    "for e in k4_oct_emd:\n",
    "    shutil.copy('Datos INP EMD/OCT/EMD/'+e, 'Datos no proc Cross Validation EMD/K4/OCT/EMD/'+e)\n",
    "\n",
    "for e in k4_oct_no_emd:\n",
    "    shutil.copy('Datos INP EMD/OCT/NO EMD/'+e, 'Datos Cross Validation EMD/K4/OCT/NO EMD/'+e)\n",
    "    \n",
    "for e in k4_samsung_emd:\n",
    "    shutil.copy('Datos INP EMD/Samsung/EMD/'+e, 'Datos Cross Validation EMD/K4/Samsung/EMD/'+e)\n",
    "\n",
    "for e in k4_samsung_no_emd:\n",
    "    shutil.copy('Datos INP EMD/Samsung/NO EMD/'+e, 'Datos Cross Validation EMD/K4/Samsung/NO EMD/'+e)\n",
    "\n",
    "for e in k4_messidor_emd:\n",
    "    shutil.copy('Datos INP EMD/MESSIDOR/EMD/'+e, 'Datos Cross Validation EMD/K4/MESSIDOR/EMD/'+e)\n",
    "\n",
    "for e in k4_messidor_no_emd:\n",
    "    shutil.copy('Datos INP EMD/MESSIDOR/NO EMD/'+e, 'Datos Cross Validation EMD/K4/MESSIDOR/NO EMD/'+e)"
   ]
  },
  {
   "cell_type": "code",
   "execution_count": null,
   "id": "270a8cb6",
   "metadata": {},
   "outputs": [],
   "source": [
    "for e in k5_iphone_emd:\n",
    "    shutil.copy('Datos preprocesados INP EMD/iPhone/EMD/'+e, 'Datos Cross Validation EMD/K5/iPhone/EMD/'+e)\n",
    "    \n",
    "for e in k5_iphone_no_emd:\n",
    "    shutil.copy('Datos preprocesados INP EMD/iPhone/NO EMD/'+e, 'Datos Cross Validation EMD/K5/iPhone/NO EMD/'+e)\n",
    "\n",
    "for e in k5_oct_emd:\n",
    "    shutil.copy('Datos preprocesados INP EMD/OCT/EMD/'+e, 'Datos Cross Validation EMD/K5/OCT/EMD/'+e)\n",
    "\n",
    "for e in k5_oct_no_emd:\n",
    "    shutil.copy('Datos preprocesados INP EMD/OCT/NO EMD/'+e, 'Datos Cross Validation EMD/K5/OCT/NO EMD/'+e)\n",
    "    \n",
    "for e in k5_samsung_emd:\n",
    "    shutil.copy('Datos preprocesados INP EMD/Samsung/EMD/'+e, 'Datos Cross Validation EMD/K5/Samsung/EMD/'+e)\n",
    "\n",
    "for e in k5_samsung_no_emd:\n",
    "    shutil.copy('Datos preprocesados INP EMD/Samsung/NO EMD/'+e, 'Datos Cross Validation EMD/K5/Samsung/NO EMD/'+e)\n",
    "\n",
    "for e in k5_messidor_emd:\n",
    "    shutil.copy('Datos preprocesados INP EMD/MESSIDOR/EMD/'+e, 'Datos Cross Validation EMD/K5/MESSIDOR/EMD/'+e)\n",
    "\n",
    "for e in k5_messidor_no_emd:\n",
    "    shutil.copy('Datos preprocesados INP EMD/MESSIDOR/NO EMD/'+e, 'Datos Cross Validation EMD/K5/MESSIDOR/NO EMD/'+e)"
   ]
  }
 ],
 "metadata": {
  "kernelspec": {
   "display_name": "Python 3 (ipykernel)",
   "language": "python",
   "name": "python3"
  },
  "language_info": {
   "codemirror_mode": {
    "name": "ipython",
    "version": 3
   },
   "file_extension": ".py",
   "mimetype": "text/x-python",
   "name": "python",
   "nbconvert_exporter": "python",
   "pygments_lexer": "ipython3",
   "version": "3.9.12"
  }
 },
 "nbformat": 4,
 "nbformat_minor": 5
}

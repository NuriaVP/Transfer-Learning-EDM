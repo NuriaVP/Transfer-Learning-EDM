{
 "cells": [
  {
   "cell_type": "code",
   "execution_count": 70,
   "id": "0213e93a",
   "metadata": {},
   "outputs": [],
   "source": [
    "import os\n",
    "import shutil"
   ]
  },
  {
   "cell_type": "markdown",
   "id": "d281232d",
   "metadata": {},
   "source": [
    "**Directorios Holdout Data Augmentation / No MESSIDOR / No preprocesamiento**"
   ]
  },
  {
   "cell_type": "code",
   "execution_count": 71,
   "id": "aee14399",
   "metadata": {},
   "outputs": [],
   "source": [
    "dir_iphone_emd = 'Datos base EMD/iPhone/EMD'\n",
    "dir_iphone_no_emd = 'Datos base EMD/iPhone/NO EMD'\n",
    "dir_oct_emd = 'Datos base EMD/OCT/EMD'\n",
    "dir_oct_no_emd = 'Datos base EMD/OCT/NO EMD'\n",
    "dir_samsung_emd = 'Datos base EMD/Samsung/EMD'\n",
    "dir_samsung_no_emd = 'Datos base EMD/Samsung/NO EMD'"
   ]
  },
  {
   "cell_type": "code",
   "execution_count": 72,
   "id": "94f5a290",
   "metadata": {},
   "outputs": [],
   "source": [
    "iphone_emd=os.listdir(dir_iphone_emd)\n",
    "iphone_no_emd=os.listdir(dir_iphone_no_emd)\n",
    "oct_emd=os.listdir(dir_oct_emd)\n",
    "oct_no_emd=os.listdir(dir_oct_no_emd)\n",
    "samsung_emd=os.listdir(dir_samsung_emd)\n",
    "samsung_no_emd=os.listdir(dir_samsung_no_emd)"
   ]
  },
  {
   "cell_type": "code",
   "execution_count": 73,
   "id": "b4389aa6",
   "metadata": {},
   "outputs": [],
   "source": [
    "len_iphone_emd=len(iphone_emd)\n",
    "len_iphone_no_emd=len(iphone_no_emd)\n",
    "len_oct_emd=len(oct_emd)\n",
    "len_oct_no_emd=len(oct_no_emd)\n",
    "len_samsung_emd=len(samsung_emd)\n",
    "len_samsung_no_emd=len(samsung_no_emd)"
   ]
  },
  {
   "cell_type": "markdown",
   "id": "f73d88c9",
   "metadata": {},
   "source": [
    "**iPhone**"
   ]
  },
  {
   "cell_type": "code",
   "execution_count": 74,
   "id": "6f6fcb0c",
   "metadata": {},
   "outputs": [],
   "source": [
    "num_train_iphone_emd=int(len_iphone_emd*3/5)\n",
    "num_val_iphone_emd=int(len_iphone_emd/5)"
   ]
  },
  {
   "cell_type": "code",
   "execution_count": 75,
   "id": "2e4c853e",
   "metadata": {},
   "outputs": [],
   "source": [
    "train_iphone_emd=iphone_emd[:num_train_iphone_emd]\n",
    "val_iphone_emd=iphone_emd[num_train_iphone_emd:num_train_iphone_emd+num_val_iphone_emd]\n",
    "test_iphone_emd=iphone_emd[num_train_iphone_emd+num_val_iphone_emd:]"
   ]
  },
  {
   "cell_type": "code",
   "execution_count": 76,
   "id": "57eccae8",
   "metadata": {},
   "outputs": [],
   "source": [
    "num_train_iphone_no_emd=int(len_iphone_no_emd*3/5)\n",
    "num_val_iphone_no_emd=int(len_iphone_no_emd/5)"
   ]
  },
  {
   "cell_type": "code",
   "execution_count": 77,
   "id": "6d825b1f",
   "metadata": {},
   "outputs": [],
   "source": [
    "train_iphone_no_emd=iphone_no_emd[:num_train_iphone_no_emd]\n",
    "val_iphone_no_emd=iphone_no_emd[num_train_iphone_no_emd:num_train_iphone_no_emd+num_val_iphone_no_emd]\n",
    "test_iphone_no_emd=iphone_no_emd[num_train_iphone_no_emd+num_val_iphone_no_emd:]"
   ]
  },
  {
   "cell_type": "markdown",
   "id": "339e687d",
   "metadata": {},
   "source": [
    "**OCT**"
   ]
  },
  {
   "cell_type": "code",
   "execution_count": 78,
   "id": "5e83330e",
   "metadata": {},
   "outputs": [],
   "source": [
    "num_train_oct_emd=int(len_oct_emd*3/5)\n",
    "num_val_oct_emd=int(len_oct_emd/5)"
   ]
  },
  {
   "cell_type": "code",
   "execution_count": 79,
   "id": "3b5030ce",
   "metadata": {},
   "outputs": [],
   "source": [
    "train_oct_emd=oct_emd[:num_train_oct_emd]\n",
    "val_oct_emd=oct_emd[num_train_oct_emd:num_train_oct_emd+num_val_oct_emd]\n",
    "test_oct_emd=oct_emd[num_train_oct_emd+num_val_oct_emd:]"
   ]
  },
  {
   "cell_type": "code",
   "execution_count": 80,
   "id": "b9fc5c09",
   "metadata": {},
   "outputs": [],
   "source": [
    "num_train_oct_no_emd=int(len_oct_no_emd*3/5)\n",
    "num_val_oct_no_emd=int(len_oct_no_emd/5)"
   ]
  },
  {
   "cell_type": "code",
   "execution_count": 81,
   "id": "b87b23ae",
   "metadata": {},
   "outputs": [],
   "source": [
    "train_oct_no_emd=oct_no_emd[:num_train_oct_no_emd]\n",
    "val_oct_no_emd=oct_no_emd[num_train_oct_no_emd:num_train_oct_no_emd+num_val_oct_no_emd]\n",
    "test_oct_no_emd=oct_no_emd[num_train_oct_no_emd+num_val_oct_no_emd:]"
   ]
  },
  {
   "cell_type": "markdown",
   "id": "7891c57d",
   "metadata": {},
   "source": [
    "**Samsung**"
   ]
  },
  {
   "cell_type": "code",
   "execution_count": 82,
   "id": "74b028a5",
   "metadata": {},
   "outputs": [],
   "source": [
    "num_train_samsung_emd=int(len_samsung_emd*3/5)\n",
    "num_val_samsung_emd=int(len_samsung_emd/5)"
   ]
  },
  {
   "cell_type": "code",
   "execution_count": 83,
   "id": "52616fda",
   "metadata": {},
   "outputs": [],
   "source": [
    "train_samsung_emd=samsung_emd[:num_train_samsung_emd]\n",
    "val_samsung_emd=samsung_emd[num_train_samsung_emd:num_train_samsung_emd+num_val_samsung_emd]\n",
    "test_samsung_emd=samsung_emd[num_train_samsung_emd+num_val_samsung_emd:]"
   ]
  },
  {
   "cell_type": "code",
   "execution_count": 84,
   "id": "7bf96430",
   "metadata": {},
   "outputs": [],
   "source": [
    "num_train_samsung_no_emd=int(len_samsung_no_emd*3/5)\n",
    "num_val_samsung_no_emd=int(len_samsung_no_emd/5)"
   ]
  },
  {
   "cell_type": "code",
   "execution_count": 85,
   "id": "c1184934",
   "metadata": {},
   "outputs": [],
   "source": [
    "train_samsung_no_emd=samsung_no_emd[:num_train_samsung_no_emd]\n",
    "val_samsung_no_emd=samsung_no_emd[num_train_samsung_no_emd:num_train_samsung_no_emd+num_val_samsung_no_emd]\n",
    "test_samsung_no_emd=samsung_no_emd[num_train_samsung_no_emd+num_val_samsung_no_emd:]"
   ]
  },
  {
   "cell_type": "markdown",
   "id": "717333d1",
   "metadata": {},
   "source": [
    "**Nuevos directorios**"
   ]
  },
  {
   "cell_type": "code",
   "execution_count": 86,
   "id": "4df13c3a",
   "metadata": {},
   "outputs": [],
   "source": [
    "for e in train_iphone_emd:\n",
    "    shutil.copy('Datos base EMD/iPhone/EMD/'+e, 'Datos holdout base EMD/train/iPhone/EMD/'+e)\n",
    "for e in val_iphone_emd:\n",
    "    shutil.copy('Datos base EMD/iPhone/EMD/'+e, 'Datos holdout base EMD/val/iPhone/EMD/'+e)\n",
    "for e in test_iphone_emd:\n",
    "    shutil.copy('Datos base EMD/iPhone/EMD/'+e, 'Datos holdout base EMD/test/iPhone/EMD/'+e)\n",
    "for e in train_iphone_no_emd:\n",
    "    shutil.copy('Datos base EMD/iPhone/NO EMD/'+e, 'Datos holdout base EMD/train/iPhone/NO EMD/'+e)\n",
    "for e in val_iphone_no_emd:\n",
    "    shutil.copy('Datos base EMD/iPhone/NO EMD/'+e, 'Datos holdout base EMD/val/iPhone/NO EMD/'+e)\n",
    "for e in test_iphone_no_emd:\n",
    "    shutil.copy('Datos base EMD/iPhone/NO EMD/'+e, 'Datos holdout base EMD/test/iPhone/NO EMD/'+e)"
   ]
  },
  {
   "cell_type": "code",
   "execution_count": 87,
   "id": "33854c03",
   "metadata": {},
   "outputs": [],
   "source": [
    "for e in train_oct_emd:\n",
    "    shutil.copy('Datos base EMD/OCT/EMD/'+e, 'Datos holdout base EMD/train/OCT/EMD/'+e)\n",
    "for e in val_oct_emd:\n",
    "    shutil.copy('Datos base EMD/OCT/EMD/'+e, 'Datos holdout base EMD/val/OCT/EMD/'+e)\n",
    "for e in test_oct_emd:\n",
    "    shutil.copy('Datos base EMD/OCT/EMD/'+e, 'Datos holdout base EMD/test/OCT/EMD/'+e)\n",
    "for e in train_oct_no_emd:\n",
    "    shutil.copy('Datos base EMD/OCT/NO EMD/'+e, 'Datos holdout base EMD/train/OCT/NO EMD/'+e)\n",
    "for e in val_oct_no_emd:\n",
    "    shutil.copy('Datos base EMD/OCT/NO EMD/'+e, 'Datos holdout base EMD/val/OCT/NO EMD/'+e)\n",
    "for e in test_oct_no_emd:\n",
    "    shutil.copy('Datos base EMD/OCT/NO EMD/'+e, 'Datos holdout base EMD/test/OCT/NO EMD/'+e)"
   ]
  },
  {
   "cell_type": "code",
   "execution_count": 88,
   "id": "7330f99f",
   "metadata": {},
   "outputs": [],
   "source": [
    "for e in train_samsung_emd:\n",
    "    shutil.copy('Datos base EMD/Samsung/EMD/'+e, 'Datos holdout base EMD/train/Samsung/EMD/'+e)\n",
    "for e in val_samsung_emd:\n",
    "    shutil.copy('Datos base EMD/Samsung/EMD/'+e, 'Datos holdout base EMD/val/Samsung/EMD/'+e)\n",
    "for e in test_samsung_emd:\n",
    "    shutil.copy('Datos base EMD/Samsung/EMD/'+e, 'Datos holdout base EMD/test/Samsung/EMD/'+e)\n",
    "for e in train_samsung_no_emd:\n",
    "    shutil.copy('Datos base EMD/Samsung/NO EMD/'+e, 'Datos holdout base EMD/train/Samsung/NO EMD/'+e)\n",
    "for e in val_samsung_no_emd:\n",
    "    shutil.copy('Datos base EMD/Samsung/NO EMD/'+e, 'Datos holdout base EMD/val/Samsung/NO EMD/'+e)\n",
    "for e in test_samsung_no_emd:\n",
    "    shutil.copy('Datos base EMD/Samsung/NO EMD/'+e, 'Datos holdout base EMD/test/Samsung/NO EMD/'+e)"
   ]
  },
  {
   "cell_type": "markdown",
   "id": "a5708972",
   "metadata": {},
   "source": [
    "**Directorios Holdout Data Augmentation / No MESSIDOR / Preprocesamiento**"
   ]
  },
  {
   "cell_type": "code",
   "execution_count": 109,
   "id": "94c07a07",
   "metadata": {},
   "outputs": [],
   "source": [
    "dir_iphone_emd = 'Datos base preprocesados EMD/iPhone/EMD'\n",
    "dir_iphone_no_emd = 'Datos base preprocesados EMD/iPhone/NO EMD'\n",
    "dir_oct_emd = 'Datos base preprocesados EMD/OCT/EMD'\n",
    "dir_oct_no_emd = 'Datos base preprocesados EMD/OCT/NO EMD'\n",
    "dir_samsung_emd = 'Datos base preprocesados EMD/Samsung/EMD'\n",
    "dir_samsung_no_emd = 'Datos base preprocesados EMD/Samsung/NO EMD'"
   ]
  },
  {
   "cell_type": "code",
   "execution_count": 110,
   "id": "600b28e0",
   "metadata": {},
   "outputs": [],
   "source": [
    "iphone_emd=os.listdir(dir_iphone_emd)\n",
    "iphone_no_emd=os.listdir(dir_iphone_no_emd)\n",
    "oct_emd=os.listdir(dir_oct_emd)\n",
    "oct_no_emd=os.listdir(dir_oct_no_emd)\n",
    "samsung_emd=os.listdir(dir_samsung_emd)\n",
    "samsung_no_emd=os.listdir(dir_samsung_no_emd)"
   ]
  },
  {
   "cell_type": "code",
   "execution_count": 111,
   "id": "bde2bc04",
   "metadata": {},
   "outputs": [],
   "source": [
    "len_iphone_emd=len(iphone_emd)\n",
    "len_iphone_no_emd=len(iphone_no_emd)\n",
    "len_oct_emd=len(oct_emd)\n",
    "len_oct_no_emd=len(oct_no_emd)\n",
    "len_samsung_emd=len(samsung_emd)\n",
    "len_samsung_no_emd=len(samsung_no_emd)"
   ]
  },
  {
   "cell_type": "markdown",
   "id": "d21d5b7c",
   "metadata": {},
   "source": [
    "**iPhone**"
   ]
  },
  {
   "cell_type": "code",
   "execution_count": 112,
   "id": "b8accfe3",
   "metadata": {},
   "outputs": [],
   "source": [
    "num_train_iphone_emd=int(len_iphone_emd*3/5)\n",
    "num_val_iphone_emd=int(len_iphone_emd/5)"
   ]
  },
  {
   "cell_type": "code",
   "execution_count": 113,
   "id": "2ab78a6d",
   "metadata": {},
   "outputs": [],
   "source": [
    "train_iphone_emd=iphone_emd[:num_train_iphone_emd]\n",
    "val_iphone_emd=iphone_emd[num_train_iphone_emd:num_train_iphone_emd+num_val_iphone_emd]\n",
    "test_iphone_emd=iphone_emd[num_train_iphone_emd+num_val_iphone_emd:]"
   ]
  },
  {
   "cell_type": "code",
   "execution_count": 114,
   "id": "36d80a83",
   "metadata": {},
   "outputs": [],
   "source": [
    "num_train_iphone_no_emd=int(len_iphone_no_emd*3/5)\n",
    "num_val_iphone_no_emd=int(len_iphone_no_emd/5)"
   ]
  },
  {
   "cell_type": "code",
   "execution_count": 115,
   "id": "9e95720a",
   "metadata": {},
   "outputs": [],
   "source": [
    "train_iphone_no_emd=iphone_no_emd[:num_train_iphone_no_emd]\n",
    "val_iphone_no_emd=iphone_no_emd[num_train_iphone_no_emd:num_train_iphone_no_emd+num_val_iphone_no_emd]\n",
    "test_iphone_no_emd=iphone_no_emd[num_train_iphone_no_emd+num_val_iphone_no_emd:]"
   ]
  },
  {
   "cell_type": "markdown",
   "id": "98ba929c",
   "metadata": {},
   "source": [
    "**OCT**"
   ]
  },
  {
   "cell_type": "code",
   "execution_count": 116,
   "id": "39fd87b1",
   "metadata": {},
   "outputs": [],
   "source": [
    "num_train_oct_emd=int(len_oct_emd*3/5)\n",
    "num_val_oct_emd=int(len_oct_emd/5)"
   ]
  },
  {
   "cell_type": "code",
   "execution_count": 117,
   "id": "6da6e5c6",
   "metadata": {},
   "outputs": [],
   "source": [
    "train_oct_emd=oct_emd[:num_train_oct_emd]\n",
    "val_oct_emd=oct_emd[num_train_oct_emd:num_train_oct_emd+num_val_oct_emd]\n",
    "test_oct_emd=oct_emd[num_train_oct_emd+num_val_oct_emd:]"
   ]
  },
  {
   "cell_type": "code",
   "execution_count": 118,
   "id": "ced56b32",
   "metadata": {},
   "outputs": [],
   "source": [
    "num_train_oct_no_emd=int(len_oct_no_emd*3/5)\n",
    "num_val_oct_no_emd=int(len_oct_no_emd/5)"
   ]
  },
  {
   "cell_type": "code",
   "execution_count": 119,
   "id": "f7fdc32a",
   "metadata": {},
   "outputs": [],
   "source": [
    "train_oct_no_emd=oct_no_emd[:num_train_oct_no_emd]\n",
    "val_oct_no_emd=oct_no_emd[num_train_oct_no_emd:num_train_oct_no_emd+num_val_oct_no_emd]\n",
    "test_oct_no_emd=oct_no_emd[num_train_oct_no_emd+num_val_oct_no_emd:]"
   ]
  },
  {
   "cell_type": "markdown",
   "id": "8f986e63",
   "metadata": {},
   "source": [
    "**Samsung**"
   ]
  },
  {
   "cell_type": "code",
   "execution_count": 120,
   "id": "1a731f06",
   "metadata": {},
   "outputs": [],
   "source": [
    "num_train_samsung_emd=int(len_samsung_emd*3/5)\n",
    "num_val_samsung_emd=int(len_samsung_emd/5)"
   ]
  },
  {
   "cell_type": "code",
   "execution_count": 121,
   "id": "ee96af8a",
   "metadata": {},
   "outputs": [],
   "source": [
    "train_samsung_emd=samsung_emd[:num_train_samsung_emd]\n",
    "val_samsung_emd=samsung_emd[num_train_samsung_emd:num_train_samsung_emd+num_val_samsung_emd]\n",
    "test_samsung_emd=samsung_emd[num_train_samsung_emd+num_val_samsung_emd:]"
   ]
  },
  {
   "cell_type": "code",
   "execution_count": 122,
   "id": "56231f9e",
   "metadata": {},
   "outputs": [],
   "source": [
    "num_train_samsung_no_emd=int(len_samsung_no_emd*3/5)\n",
    "num_val_samsung_no_emd=int(len_samsung_no_emd/5)"
   ]
  },
  {
   "cell_type": "code",
   "execution_count": 123,
   "id": "e5213048",
   "metadata": {},
   "outputs": [],
   "source": [
    "train_samsung_no_emd=samsung_no_emd[:num_train_samsung_no_emd]\n",
    "val_samsung_no_emd=samsung_no_emd[num_train_samsung_no_emd:num_train_samsung_no_emd+num_val_samsung_no_emd]\n",
    "test_samsung_no_emd=samsung_no_emd[num_train_samsung_no_emd+num_val_samsung_no_emd:]"
   ]
  },
  {
   "cell_type": "markdown",
   "id": "e96300df",
   "metadata": {},
   "source": [
    "**Nuevos directorios**"
   ]
  },
  {
   "cell_type": "code",
   "execution_count": 125,
   "id": "98eb8c50",
   "metadata": {},
   "outputs": [],
   "source": [
    "for e in train_iphone_emd:\n",
    "    shutil.copy('Datos base preprocesados EMD/iPhone/EMD/'+e, 'Datos holdout base preprocesados EMD/train/iPhone/EMD/'+e)\n",
    "for e in val_iphone_emd:\n",
    "    shutil.copy('Datos base preprocesados EMD/iPhone/EMD/'+e, 'Datos holdout base preprocesados EMD/val/iPhone/EMD/'+e)\n",
    "for e in test_iphone_emd:\n",
    "    shutil.copy('Datos base preprocesados EMD/iPhone/EMD/'+e, 'Datos holdout base preprocesados EMD/test/iPhone/EMD/'+e)\n",
    "for e in train_iphone_no_emd:\n",
    "    shutil.copy('Datos base preprocesados EMD/iPhone/NO EMD/'+e, 'Datos holdout base preprocesados EMD/train/iPhone/NO EMD/'+e)\n",
    "for e in val_iphone_no_emd:\n",
    "    shutil.copy('Datos base preprocesados EMD/iPhone/NO EMD/'+e, 'Datos holdout base preprocesados EMD/val/iPhone/NO EMD/'+e)\n",
    "for e in test_iphone_no_emd:\n",
    "    shutil.copy('Datos base preprocesados EMD/iPhone/NO EMD/'+e, 'Datos holdout base preprocesados EMD/test/iPhone/NO EMD/'+e)"
   ]
  },
  {
   "cell_type": "code",
   "execution_count": 126,
   "id": "cb7f7814",
   "metadata": {},
   "outputs": [],
   "source": [
    "for e in train_oct_emd:\n",
    "    shutil.copy('Datos base preprocesados EMD/OCT/EMD/'+e, 'Datos holdout base preprocesados EMD/train/OCT/EMD/'+e)\n",
    "for e in val_oct_emd:\n",
    "    shutil.copy('Datos base preprocesados EMD/OCT/EMD/'+e, 'Datos holdout base preprocesados EMD/val/OCT/EMD/'+e)\n",
    "for e in test_oct_emd:\n",
    "    shutil.copy('Datos base preprocesados EMD/OCT/EMD/'+e, 'Datos holdout base preprocesados EMD/test/OCT/EMD/'+e)\n",
    "for e in train_oct_no_emd:\n",
    "    shutil.copy('Datos base preprocesados EMD/OCT/NO EMD/'+e, 'Datos holdout base preprocesados EMD/train/OCT/NO EMD/'+e)\n",
    "for e in val_oct_no_emd:\n",
    "    shutil.copy('Datos base preprocesados EMD/OCT/NO EMD/'+e, 'Datos holdout base preprocesados EMD/val/OCT/NO EMD/'+e)\n",
    "for e in test_oct_no_emd:\n",
    "    shutil.copy('Datos base preprocesados EMD/OCT/NO EMD/'+e, 'Datos holdout base preprocesados EMD/test/OCT/NO EMD/'+e)"
   ]
  },
  {
   "cell_type": "code",
   "execution_count": 127,
   "id": "51d06d59",
   "metadata": {},
   "outputs": [],
   "source": [
    "for e in train_samsung_emd:\n",
    "    shutil.copy('Datos base preprocesados EMD/Samsung/EMD/'+e, 'Datos holdout base preprocesados EMD/train/Samsung/EMD/'+e)\n",
    "for e in val_samsung_emd:\n",
    "    shutil.copy('Datos base preprocesados EMD/Samsung/EMD/'+e, 'Datos holdout base preprocesados EMD/val/Samsung/EMD/'+e)\n",
    "for e in test_samsung_emd:\n",
    "    shutil.copy('Datos base preprocesados EMD/Samsung/EMD/'+e, 'Datos holdout base preprocesados EMD/test/Samsung/EMD/'+e)\n",
    "for e in train_samsung_no_emd:\n",
    "    shutil.copy('Datos base preprocesados EMD/Samsung/NO EMD/'+e, 'Datos holdout base preprocesados EMD/train/Samsung/NO EMD/'+e)\n",
    "for e in val_samsung_no_emd:\n",
    "    shutil.copy('Datos base preprocesados EMD/Samsung/NO EMD/'+e, 'Datos holdout base preprocesados EMD/val/Samsung/NO EMD/'+e)\n",
    "for e in test_samsung_no_emd:\n",
    "    shutil.copy('Datos base preprocesados EMD/Samsung/NO EMD/'+e, 'Datos holdout base preprocesados EMD/test/Samsung/NO EMD/'+e)"
   ]
  },
  {
   "cell_type": "markdown",
   "id": "a155e709",
   "metadata": {},
   "source": [
    "**Directorios Holdout Data Augmentation / MESSIDOR / No preprocesamiento**"
   ]
  },
  {
   "cell_type": "code",
   "execution_count": 128,
   "id": "9724804e",
   "metadata": {},
   "outputs": [],
   "source": [
    "dir_iphone_emd = 'Datos EMD/iPhone/EMD'\n",
    "dir_iphone_no_emd = 'Datos EMD/iPhone/NO EMD'\n",
    "dir_oct_emd = 'Datos EMD/OCT/EMD'\n",
    "dir_oct_no_emd = 'Datos EMD/OCT/NO EMD'\n",
    "dir_samsung_emd = 'Datos EMD/Samsung/EMD'\n",
    "dir_samsung_no_emd = 'Datos EMD/Samsung/NO EMD'\n",
    "dir_messidor_emd = 'Datos EMD/MESSIDOR/EMD'\n",
    "dir_messidor_no_emd = 'Datos EMD/MESSIDOR/NO EMD'"
   ]
  },
  {
   "cell_type": "code",
   "execution_count": 129,
   "id": "cd938906",
   "metadata": {},
   "outputs": [],
   "source": [
    "iphone_emd=os.listdir(dir_iphone_emd)\n",
    "iphone_no_emd=os.listdir(dir_iphone_no_emd)\n",
    "oct_emd=os.listdir(dir_oct_emd)\n",
    "oct_no_emd=os.listdir(dir_oct_no_emd)\n",
    "samsung_emd=os.listdir(dir_samsung_emd)\n",
    "samsung_no_emd=os.listdir(dir_samsung_no_emd)\n",
    "messidor_emd=os.listdir(dir_messidor_emd)\n",
    "messidor_no_emd=os.listdir(dir_messidor_no_emd)"
   ]
  },
  {
   "cell_type": "code",
   "execution_count": 130,
   "id": "6340a63b",
   "metadata": {},
   "outputs": [],
   "source": [
    "len_iphone_emd=len(iphone_emd)\n",
    "len_iphone_no_emd=len(iphone_no_emd)\n",
    "len_oct_emd=len(oct_emd)\n",
    "len_oct_no_emd=len(oct_no_emd)\n",
    "len_samsung_emd=len(samsung_emd)\n",
    "len_samsung_no_emd=len(samsung_no_emd)\n",
    "len_messidor_emd=len(messidor_emd)\n",
    "len_messidor_no_emd=len(messidor_no_emd)"
   ]
  },
  {
   "cell_type": "markdown",
   "id": "fbb030ce",
   "metadata": {},
   "source": [
    "**iPhone**"
   ]
  },
  {
   "cell_type": "code",
   "execution_count": 131,
   "id": "9c6708e8",
   "metadata": {},
   "outputs": [],
   "source": [
    "num_train_iphone_emd=int(len_iphone_emd*3/5)\n",
    "num_val_iphone_emd=int(len_iphone_emd/5)"
   ]
  },
  {
   "cell_type": "code",
   "execution_count": 132,
   "id": "e6dd212f",
   "metadata": {},
   "outputs": [],
   "source": [
    "train_iphone_emd=iphone_emd[:num_train_iphone_emd]\n",
    "val_iphone_emd=iphone_emd[num_train_iphone_emd:num_train_iphone_emd+num_val_iphone_emd]\n",
    "test_iphone_emd=iphone_emd[num_train_iphone_emd+num_val_iphone_emd:]"
   ]
  },
  {
   "cell_type": "code",
   "execution_count": 133,
   "id": "504ee5c8",
   "metadata": {},
   "outputs": [],
   "source": [
    "num_train_iphone_no_emd=int(len_iphone_no_emd*3/5)\n",
    "num_val_iphone_no_emd=int(len_iphone_no_emd/5)"
   ]
  },
  {
   "cell_type": "code",
   "execution_count": 134,
   "id": "d9cc14c6",
   "metadata": {},
   "outputs": [],
   "source": [
    "train_iphone_no_emd=iphone_no_emd[:num_train_iphone_no_emd]\n",
    "val_iphone_no_emd=iphone_no_emd[num_train_iphone_no_emd:num_train_iphone_no_emd+num_val_iphone_no_emd]\n",
    "test_iphone_no_emd=iphone_no_emd[num_train_iphone_no_emd+num_val_iphone_no_emd:]"
   ]
  },
  {
   "cell_type": "markdown",
   "id": "2e1d7e69",
   "metadata": {},
   "source": [
    "**OCT**"
   ]
  },
  {
   "cell_type": "code",
   "execution_count": 136,
   "id": "222427a2",
   "metadata": {},
   "outputs": [],
   "source": [
    "num_train_oct_emd=int(len_oct_emd*3/5)\n",
    "num_val_oct_emd=int(len_oct_emd/5)"
   ]
  },
  {
   "cell_type": "code",
   "execution_count": 137,
   "id": "218eafe6",
   "metadata": {},
   "outputs": [],
   "source": [
    "train_oct_emd=oct_emd[:num_train_oct_emd]\n",
    "val_oct_emd=oct_emd[num_train_oct_emd:num_train_oct_emd+num_val_oct_emd]\n",
    "test_oct_emd=oct_emd[num_train_oct_emd+num_val_oct_emd:]"
   ]
  },
  {
   "cell_type": "code",
   "execution_count": 138,
   "id": "f87fbd58",
   "metadata": {},
   "outputs": [],
   "source": [
    "num_train_oct_no_emd=int(len_oct_no_emd*3/5)\n",
    "num_val_oct_no_emd=int(len_oct_no_emd/5)"
   ]
  },
  {
   "cell_type": "code",
   "execution_count": 139,
   "id": "9a352bb9",
   "metadata": {},
   "outputs": [],
   "source": [
    "train_oct_no_emd=oct_no_emd[:num_train_oct_no_emd]\n",
    "val_oct_no_emd=oct_no_emd[num_train_oct_no_emd:num_train_oct_no_emd+num_val_oct_no_emd]\n",
    "test_oct_no_emd=oct_no_emd[num_train_oct_no_emd+num_val_oct_no_emd:]"
   ]
  },
  {
   "cell_type": "markdown",
   "id": "e363bd02",
   "metadata": {},
   "source": [
    "**Samsung**"
   ]
  },
  {
   "cell_type": "code",
   "execution_count": 140,
   "id": "c7a28703",
   "metadata": {},
   "outputs": [],
   "source": [
    "num_train_samsung_emd=int(len_samsung_emd*3/5)\n",
    "num_val_samsung_emd=int(len_samsung_emd/5)"
   ]
  },
  {
   "cell_type": "code",
   "execution_count": 141,
   "id": "14a9b13c",
   "metadata": {},
   "outputs": [],
   "source": [
    "train_samsung_emd=samsung_emd[:num_train_samsung_emd]\n",
    "val_samsung_emd=samsung_emd[num_train_samsung_emd:num_train_samsung_emd+num_val_samsung_emd]\n",
    "test_samsung_emd=samsung_emd[num_train_samsung_emd+num_val_samsung_emd:]"
   ]
  },
  {
   "cell_type": "code",
   "execution_count": 142,
   "id": "c6663a44",
   "metadata": {},
   "outputs": [],
   "source": [
    "num_train_samsung_no_emd=int(len_samsung_no_emd*3/5)\n",
    "num_val_samsung_no_emd=int(len_samsung_no_emd/5)"
   ]
  },
  {
   "cell_type": "code",
   "execution_count": 143,
   "id": "7156ddd3",
   "metadata": {},
   "outputs": [],
   "source": [
    "train_samsung_no_emd=samsung_no_emd[:num_train_samsung_no_emd]\n",
    "val_samsung_no_emd=samsung_no_emd[num_train_samsung_no_emd:num_train_samsung_no_emd+num_val_samsung_no_emd]\n",
    "test_samsung_no_emd=samsung_no_emd[num_train_samsung_no_emd+num_val_samsung_no_emd:]"
   ]
  },
  {
   "cell_type": "markdown",
   "id": "4ce85692",
   "metadata": {},
   "source": [
    "**MESSIDOR**"
   ]
  },
  {
   "cell_type": "code",
   "execution_count": 144,
   "id": "657a48c4",
   "metadata": {},
   "outputs": [],
   "source": [
    "num_train_messidor_emd=int(len_messidor_emd*3/5)\n",
    "num_val_messidor_emd=int(len_messidor_emd/5)"
   ]
  },
  {
   "cell_type": "code",
   "execution_count": 145,
   "id": "61e7ccc6",
   "metadata": {},
   "outputs": [],
   "source": [
    "train_messidor_emd=messidor_emd[:num_train_messidor_emd]\n",
    "val_messidor_emd=messidor_emd[num_train_messidor_emd:num_train_messidor_emd+num_val_messidor_emd]\n",
    "test_messidor_emd=messidor_emd[num_train_messidor_emd+num_val_messidor_emd:]"
   ]
  },
  {
   "cell_type": "code",
   "execution_count": 146,
   "id": "09f6f120",
   "metadata": {},
   "outputs": [],
   "source": [
    "num_train_messidor_no_emd=int(len_messidor_no_emd*3/5)\n",
    "num_val_messidor_no_emd=int(len_messidor_no_emd/5)"
   ]
  },
  {
   "cell_type": "code",
   "execution_count": 147,
   "id": "c5ae18de",
   "metadata": {},
   "outputs": [],
   "source": [
    "train_messidor_no_emd=messidor_no_emd[:num_train_messidor_no_emd]\n",
    "val_messidor_no_emd=messidor_no_emd[num_train_messidor_no_emd:num_train_messidor_no_emd+num_val_messidor_no_emd]\n",
    "test_messidor_no_emd=messidor_no_emd[num_train_messidor_no_emd+num_val_messidor_no_emd:]"
   ]
  },
  {
   "cell_type": "markdown",
   "id": "9cfc0195",
   "metadata": {},
   "source": [
    "**Nuevos directorios**"
   ]
  },
  {
   "cell_type": "code",
   "execution_count": 148,
   "id": "82c51bc3",
   "metadata": {},
   "outputs": [],
   "source": [
    "for e in train_iphone_emd:\n",
    "    shutil.copy('Datos EMD/iPhone/EMD/'+e, 'Datos holdout EMD/train/iPhone/EMD/'+e)\n",
    "for e in val_iphone_emd:\n",
    "    shutil.copy('Datos EMD/iPhone/EMD/'+e, 'Datos holdout EMD/val/iPhone/EMD/'+e)\n",
    "for e in test_iphone_emd:\n",
    "    shutil.copy('Datos EMD/iPhone/EMD/'+e, 'Datos holdout EMD/test/iPhone/EMD/'+e)\n",
    "for e in train_iphone_no_emd:\n",
    "    shutil.copy('Datos EMD/iPhone/NO EMD/'+e, 'Datos holdout EMD/train/iPhone/NO EMD/'+e)\n",
    "for e in val_iphone_no_emd:\n",
    "    shutil.copy('Datos EMD/iPhone/NO EMD/'+e, 'Datos holdout EMD/val/iPhone/NO EMD/'+e)\n",
    "for e in test_iphone_no_emd:\n",
    "    shutil.copy('Datos EMD/iPhone/NO EMD/'+e, 'Datos holdout EMD/test/iPhone/NO EMD/'+e)"
   ]
  },
  {
   "cell_type": "code",
   "execution_count": 149,
   "id": "3ef9525e",
   "metadata": {},
   "outputs": [],
   "source": [
    "for e in train_oct_emd:\n",
    "    shutil.copy('Datos EMD/OCT/EMD/'+e, 'Datos holdout EMD/train/OCT/EMD/'+e)\n",
    "for e in val_oct_emd:\n",
    "    shutil.copy('Datos EMD/OCT/EMD/'+e, 'Datos holdout EMD/val/OCT/EMD/'+e)\n",
    "for e in test_oct_emd:\n",
    "    shutil.copy('Datos EMD/OCT/EMD/'+e, 'Datos holdout EMD/test/OCT/EMD/'+e)\n",
    "for e in train_oct_no_emd:\n",
    "    shutil.copy('Datos EMD/OCT/NO EMD/'+e, 'Datos holdout EMD/train/OCT/NO EMD/'+e)\n",
    "for e in val_oct_no_emd:\n",
    "    shutil.copy('Datos EMD/OCT/NO EMD/'+e, 'Datos holdout EMD/val/OCT/NO EMD/'+e)\n",
    "for e in test_oct_no_emd:\n",
    "    shutil.copy('Datos EMD/OCT/NO EMD/'+e, 'Datos holdout EMD/test/OCT/NO EMD/'+e)"
   ]
  },
  {
   "cell_type": "code",
   "execution_count": 150,
   "id": "237476ef",
   "metadata": {},
   "outputs": [],
   "source": [
    "for e in train_samsung_emd:\n",
    "    shutil.copy('Datos EMD/Samsung/EMD/'+e, 'Datos holdout EMD/train/Samsung/EMD/'+e)\n",
    "for e in val_samsung_emd:\n",
    "    shutil.copy('Datos EMD/Samsung/EMD/'+e, 'Datos holdout EMD/val/Samsung/EMD/'+e)\n",
    "for e in test_samsung_emd:\n",
    "    shutil.copy('Datos EMD/Samsung/EMD/'+e, 'Datos holdout EMD/test/Samsung/EMD/'+e)\n",
    "for e in train_samsung_no_emd:\n",
    "    shutil.copy('Datos EMD/Samsung/NO EMD/'+e, 'Datos holdout EMD/train/Samsung/NO EMD/'+e)\n",
    "for e in val_samsung_no_emd:\n",
    "    shutil.copy('Datos EMD/Samsung/NO EMD/'+e, 'Datos holdout EMD/val/Samsung/NO EMD/'+e)\n",
    "for e in test_samsung_no_emd:\n",
    "    shutil.copy('Datos EMD/Samsung/NO EMD/'+e, 'Datos holdout EMD/test/Samsung/NO EMD/'+e)"
   ]
  },
  {
   "cell_type": "code",
   "execution_count": 152,
   "id": "7c232063",
   "metadata": {},
   "outputs": [],
   "source": [
    "for e in train_messidor_emd:\n",
    "    shutil.copy('Datos EMD/MESSIDOR/EMD/'+e, 'Datos holdout EMD/train/MESSIDOR/EMD/'+e)\n",
    "for e in val_messidor_emd:\n",
    "    shutil.copy('Datos EMD/MESSIDOR/EMD/'+e, 'Datos holdout EMD/val/MESSIDOR/EMD/'+e)\n",
    "for e in test_messidor_emd:\n",
    "    shutil.copy('Datos EMD/MESSIDOR/EMD/'+e, 'Datos holdout EMD/test/MESSIDOR/EMD/'+e)\n",
    "for e in train_messidor_no_emd:\n",
    "    shutil.copy('Datos EMD/MESSIDOR/NO EMD/'+e, 'Datos holdout EMD/train/MESSIDOR/NO EMD/'+e)\n",
    "for e in val_messidor_no_emd:\n",
    "    shutil.copy('Datos EMD/MESSIDOR/NO EMD/'+e, 'Datos holdout EMD/val/MESSIDOR/NO EMD/'+e)\n",
    "for e in test_messidor_no_emd:\n",
    "    shutil.copy('Datos EMD/MESSIDOR/NO EMD/'+e, 'Datos holdout EMD/test/MESSIDOR/NO EMD/'+e)"
   ]
  },
  {
   "cell_type": "markdown",
   "id": "f697c5a1",
   "metadata": {},
   "source": [
    "**Directorios Holdout Data Augmentation / MESSIDOR / Preprocesamiento**"
   ]
  },
  {
   "cell_type": "code",
   "execution_count": 153,
   "id": "8d808951",
   "metadata": {},
   "outputs": [],
   "source": [
    "dir_iphone_emd = 'Datos preprocesados EMD/iPhone/EMD'\n",
    "dir_iphone_no_emd = 'Datos preprocesados EMD/iPhone/NO EMD'\n",
    "dir_oct_emd = 'Datos preprocesados EMD/OCT/EMD'\n",
    "dir_oct_no_emd = 'Datos preprocesados EMD/OCT/NO EMD'\n",
    "dir_samsung_emd = 'Datos preprocesados EMD/Samsung/EMD'\n",
    "dir_samsung_no_emd = 'Datos preprocesados EMD/Samsung/NO EMD'\n",
    "dir_messidor_emd = 'Datos preprocesados EMD/MESSIDOR/EMD'\n",
    "dir_messidor_no_emd = 'Datos preprocesados EMD/MESSIDOR/NO EMD'"
   ]
  },
  {
   "cell_type": "code",
   "execution_count": 154,
   "id": "5e8b1c7a",
   "metadata": {},
   "outputs": [],
   "source": [
    "iphone_emd=os.listdir(dir_iphone_emd)\n",
    "iphone_no_emd=os.listdir(dir_iphone_no_emd)\n",
    "oct_emd=os.listdir(dir_oct_emd)\n",
    "oct_no_emd=os.listdir(dir_oct_no_emd)\n",
    "samsung_emd=os.listdir(dir_samsung_emd)\n",
    "samsung_no_emd=os.listdir(dir_samsung_no_emd)\n",
    "messidor_emd=os.listdir(dir_messidor_emd)\n",
    "messidor_no_emd=os.listdir(dir_messidor_no_emd)"
   ]
  },
  {
   "cell_type": "code",
   "execution_count": 155,
   "id": "1c750a5c",
   "metadata": {},
   "outputs": [],
   "source": [
    "len_iphone_emd=len(iphone_emd)\n",
    "len_iphone_no_emd=len(iphone_no_emd)\n",
    "len_oct_emd=len(oct_emd)\n",
    "len_oct_no_emd=len(oct_no_emd)\n",
    "len_samsung_emd=len(samsung_emd)\n",
    "len_samsung_no_emd=len(samsung_no_emd)\n",
    "len_messidor_emd=len(messidor_emd)\n",
    "len_messidor_no_emd=len(messidor_no_emd)"
   ]
  },
  {
   "cell_type": "markdown",
   "id": "8d8450c1",
   "metadata": {},
   "source": [
    "**iPhone**"
   ]
  },
  {
   "cell_type": "code",
   "execution_count": 156,
   "id": "bc663ed5",
   "metadata": {},
   "outputs": [],
   "source": [
    "num_train_iphone_emd=int(len_iphone_emd*3/5)\n",
    "num_val_iphone_emd=int(len_iphone_emd/5)"
   ]
  },
  {
   "cell_type": "code",
   "execution_count": 157,
   "id": "ecd00f75",
   "metadata": {},
   "outputs": [],
   "source": [
    "train_iphone_emd=iphone_emd[:num_train_iphone_emd]\n",
    "val_iphone_emd=iphone_emd[num_train_iphone_emd:num_train_iphone_emd+num_val_iphone_emd]\n",
    "test_iphone_emd=iphone_emd[num_train_iphone_emd+num_val_iphone_emd:]"
   ]
  },
  {
   "cell_type": "code",
   "execution_count": 158,
   "id": "4c62b430",
   "metadata": {},
   "outputs": [],
   "source": [
    "num_train_iphone_no_emd=int(len_iphone_no_emd*3/5)\n",
    "num_val_iphone_no_emd=int(len_iphone_no_emd/5)"
   ]
  },
  {
   "cell_type": "code",
   "execution_count": 159,
   "id": "deca36ea",
   "metadata": {},
   "outputs": [],
   "source": [
    "train_iphone_no_emd=iphone_no_emd[:num_train_iphone_no_emd]\n",
    "val_iphone_no_emd=iphone_no_emd[num_train_iphone_no_emd:num_train_iphone_no_emd+num_val_iphone_no_emd]\n",
    "test_iphone_no_emd=iphone_no_emd[num_train_iphone_no_emd+num_val_iphone_no_emd:]"
   ]
  },
  {
   "cell_type": "markdown",
   "id": "b933e909",
   "metadata": {},
   "source": [
    "**OCT**"
   ]
  },
  {
   "cell_type": "code",
   "execution_count": 161,
   "id": "ab662dea",
   "metadata": {},
   "outputs": [],
   "source": [
    "num_train_oct_emd=int(len_oct_emd*3/5)\n",
    "num_val_oct_emd=int(len_oct_emd/5)"
   ]
  },
  {
   "cell_type": "code",
   "execution_count": 162,
   "id": "984d1dc9",
   "metadata": {},
   "outputs": [],
   "source": [
    "train_oct_emd=oct_emd[:num_train_oct_emd]\n",
    "val_oct_emd=oct_emd[num_train_oct_emd:num_train_oct_emd+num_val_oct_emd]\n",
    "test_oct_emd=oct_emd[num_train_oct_emd+num_val_oct_emd:]"
   ]
  },
  {
   "cell_type": "code",
   "execution_count": 163,
   "id": "a2611b23",
   "metadata": {},
   "outputs": [],
   "source": [
    "num_train_oct_no_emd=int(len_oct_no_emd*3/5)\n",
    "num_val_oct_no_emd=int(len_oct_no_emd/5)"
   ]
  },
  {
   "cell_type": "code",
   "execution_count": 164,
   "id": "70a0cb0e",
   "metadata": {},
   "outputs": [],
   "source": [
    "train_oct_no_emd=oct_no_emd[:num_train_oct_no_emd]\n",
    "val_oct_no_emd=oct_no_emd[num_train_oct_no_emd:num_train_oct_no_emd+num_val_oct_no_emd]\n",
    "test_oct_no_emd=oct_no_emd[num_train_oct_no_emd+num_val_oct_no_emd:]"
   ]
  },
  {
   "cell_type": "markdown",
   "id": "a6585f09",
   "metadata": {},
   "source": [
    "**Samsung**"
   ]
  },
  {
   "cell_type": "code",
   "execution_count": 165,
   "id": "0961f6ee",
   "metadata": {},
   "outputs": [],
   "source": [
    "num_train_samsung_emd=int(len_samsung_emd*3/5)\n",
    "num_val_samsung_emd=int(len_samsung_emd/5)"
   ]
  },
  {
   "cell_type": "code",
   "execution_count": 166,
   "id": "d34516eb",
   "metadata": {},
   "outputs": [],
   "source": [
    "train_samsung_emd=samsung_emd[:num_train_samsung_emd]\n",
    "val_samsung_emd=samsung_emd[num_train_samsung_emd:num_train_samsung_emd+num_val_samsung_emd]\n",
    "test_samsung_emd=samsung_emd[num_train_samsung_emd+num_val_samsung_emd:]"
   ]
  },
  {
   "cell_type": "code",
   "execution_count": 167,
   "id": "5f671ee9",
   "metadata": {},
   "outputs": [],
   "source": [
    "num_train_samsung_no_emd=int(len_samsung_no_emd*3/5)\n",
    "num_val_samsung_no_emd=int(len_samsung_no_emd/5)"
   ]
  },
  {
   "cell_type": "code",
   "execution_count": 168,
   "id": "12a5c415",
   "metadata": {},
   "outputs": [],
   "source": [
    "train_samsung_no_emd=samsung_no_emd[:num_train_samsung_no_emd]\n",
    "val_samsung_no_emd=samsung_no_emd[num_train_samsung_no_emd:num_train_samsung_no_emd+num_val_samsung_no_emd]\n",
    "test_samsung_no_emd=samsung_no_emd[num_train_samsung_no_emd+num_val_samsung_no_emd:]"
   ]
  },
  {
   "cell_type": "markdown",
   "id": "5c6b0487",
   "metadata": {},
   "source": [
    "**MESSIDOR**"
   ]
  },
  {
   "cell_type": "code",
   "execution_count": 169,
   "id": "90548390",
   "metadata": {},
   "outputs": [],
   "source": [
    "num_train_messidor_emd=int(len_messidor_emd*3/5)\n",
    "num_val_messidor_emd=int(len_messidor_emd/5)"
   ]
  },
  {
   "cell_type": "code",
   "execution_count": 170,
   "id": "b75a5923",
   "metadata": {},
   "outputs": [],
   "source": [
    "train_messidor_emd=messidor_emd[:num_train_messidor_emd]\n",
    "val_messidor_emd=messidor_emd[num_train_messidor_emd:num_train_messidor_emd+num_val_messidor_emd]\n",
    "test_messidor_emd=messidor_emd[num_train_messidor_emd+num_val_messidor_emd:]"
   ]
  },
  {
   "cell_type": "code",
   "execution_count": 171,
   "id": "b1a2562e",
   "metadata": {},
   "outputs": [],
   "source": [
    "num_train_messidor_no_emd=int(len_messidor_no_emd*3/5)\n",
    "num_val_messidor_no_emd=int(len_messidor_no_emd/5)"
   ]
  },
  {
   "cell_type": "code",
   "execution_count": 172,
   "id": "91b8ef89",
   "metadata": {},
   "outputs": [],
   "source": [
    "train_messidor_no_emd=messidor_no_emd[:num_train_messidor_no_emd]\n",
    "val_messidor_no_emd=messidor_no_emd[num_train_messidor_no_emd:num_train_messidor_no_emd+num_val_messidor_no_emd]\n",
    "test_messidor_no_emd=messidor_no_emd[num_train_messidor_no_emd+num_val_messidor_no_emd:]"
   ]
  },
  {
   "cell_type": "markdown",
   "id": "818be3af",
   "metadata": {},
   "source": [
    "**Nuevos directorios**"
   ]
  },
  {
   "cell_type": "code",
   "execution_count": 173,
   "id": "312c1694",
   "metadata": {},
   "outputs": [],
   "source": [
    "for e in train_iphone_emd:\n",
    "    shutil.copy('Datos preprocesados EMD/iPhone/EMD/'+e, 'Datos holdout preprocesados EMD/train/iPhone/EMD/'+e)\n",
    "for e in val_iphone_emd:\n",
    "    shutil.copy('Datos preprocesados EMD/iPhone/EMD/'+e, 'Datos holdout preprocesados EMD/val/iPhone/EMD/'+e)\n",
    "for e in test_iphone_emd:\n",
    "    shutil.copy('Datos preprocesados EMD/iPhone/EMD/'+e, 'Datos holdout preprocesados EMD/test/iPhone/EMD/'+e)\n",
    "for e in train_iphone_no_emd:\n",
    "    shutil.copy('Datos preprocesados EMD/iPhone/NO EMD/'+e, 'Datos holdout preprocesados EMD/train/iPhone/NO EMD/'+e)\n",
    "for e in val_iphone_no_emd:\n",
    "    shutil.copy('Datos preprocesados EMD/iPhone/NO EMD/'+e, 'Datos holdout preprocesados EMD/val/iPhone/NO EMD/'+e)\n",
    "for e in test_iphone_no_emd:\n",
    "    shutil.copy('Datos preprocesados EMD/iPhone/NO EMD/'+e, 'Datos holdout preprocesados EMD/test/iPhone/NO EMD/'+e)"
   ]
  },
  {
   "cell_type": "code",
   "execution_count": 174,
   "id": "df39d260",
   "metadata": {},
   "outputs": [],
   "source": [
    "for e in train_oct_emd:\n",
    "    shutil.copy('Datos preprocesados EMD/OCT/EMD/'+e, 'Datos holdout preprocesados EMD/train/OCT/EMD/'+e)\n",
    "for e in val_oct_emd:\n",
    "    shutil.copy('Datos preprocesados EMD/OCT/EMD/'+e, 'Datos holdout preprocesados EMD/val/OCT/EMD/'+e)\n",
    "for e in test_oct_emd:\n",
    "    shutil.copy('Datos preprocesados EMD/OCT/EMD/'+e, 'Datos holdout preprocesados EMD/test/OCT/EMD/'+e)\n",
    "for e in train_oct_no_emd:\n",
    "    shutil.copy('Datos preprocesados EMD/OCT/NO EMD/'+e, 'Datos holdout preprocesados EMD/train/OCT/NO EMD/'+e)\n",
    "for e in val_oct_no_emd:\n",
    "    shutil.copy('Datos preprocesados EMD/OCT/NO EMD/'+e, 'Datos holdout preprocesados EMD/val/OCT/NO EMD/'+e)\n",
    "for e in test_oct_no_emd:\n",
    "    shutil.copy('Datos preprocesados EMD/OCT/NO EMD/'+e, 'Datos holdout preprocesados EMD/test/OCT/NO EMD/'+e)"
   ]
  },
  {
   "cell_type": "code",
   "execution_count": 175,
   "id": "72e4d3f3",
   "metadata": {},
   "outputs": [],
   "source": [
    "for e in train_samsung_emd:\n",
    "    shutil.copy('Datos preprocesados EMD/Samsung/EMD/'+e, 'Datos holdout preprocesados EMD/train/Samsung/EMD/'+e)\n",
    "for e in val_samsung_emd:\n",
    "    shutil.copy('Datos preprocesados EMD/Samsung/EMD/'+e, 'Datos holdout preprocesados EMD/val/Samsung/EMD/'+e)\n",
    "for e in test_samsung_emd:\n",
    "    shutil.copy('Datos preprocesados EMD/Samsung/EMD/'+e, 'Datos holdout preprocesados EMD/test/Samsung/EMD/'+e)\n",
    "for e in train_samsung_no_emd:\n",
    "    shutil.copy('Datos preprocesados EMD/Samsung/NO EMD/'+e, 'Datos holdout preprocesados EMD/train/Samsung/NO EMD/'+e)\n",
    "for e in val_samsung_no_emd:\n",
    "    shutil.copy('Datos preprocesados EMD/Samsung/NO EMD/'+e, 'Datos holdout preprocesados EMD/val/Samsung/NO EMD/'+e)\n",
    "for e in test_samsung_no_emd:\n",
    "    shutil.copy('Datos preprocesados EMD/Samsung/NO EMD/'+e, 'Datos holdout preprocesados EMD/test/Samsung/NO EMD/'+e)"
   ]
  },
  {
   "cell_type": "code",
   "execution_count": 176,
   "id": "11383847",
   "metadata": {},
   "outputs": [],
   "source": [
    "for e in train_messidor_emd:\n",
    "    shutil.copy('Datos preprocesados EMD/MESSIDOR/EMD/'+e, 'Datos holdout preprocesados EMD/train/MESSIDOR/EMD/'+e)\n",
    "for e in val_messidor_emd:\n",
    "    shutil.copy('Datos preprocesados EMD/MESSIDOR/EMD/'+e, 'Datos holdout preprocesados EMD/val/MESSIDOR/EMD/'+e)\n",
    "for e in test_messidor_emd:\n",
    "    shutil.copy('Datos preprocesados EMD/MESSIDOR/EMD/'+e, 'Datos holdout preprocesados EMD/test/MESSIDOR/EMD/'+e)\n",
    "for e in train_messidor_no_emd:\n",
    "    shutil.copy('Datos preprocesados EMD/MESSIDOR/NO EMD/'+e, 'Datos holdout preprocesados EMD/train/MESSIDOR/NO EMD/'+e)\n",
    "for e in val_messidor_no_emd:\n",
    "    shutil.copy('Datos preprocesados EMD/MESSIDOR/NO EMD/'+e, 'Datos holdout preprocesados EMD/val/MESSIDOR/NO EMD/'+e)\n",
    "for e in test_messidor_no_emd:\n",
    "    shutil.copy('Datos preprocesados EMD/MESSIDOR/NO EMD/'+e, 'Datos holdout preprocesados EMD/test/MESSIDOR/NO EMD/'+e)"
   ]
  },
  {
   "cell_type": "code",
   "execution_count": null,
   "id": "6becfd33",
   "metadata": {},
   "outputs": [],
   "source": []
  }
 ],
 "metadata": {
  "kernelspec": {
   "display_name": "Python 3 (ipykernel)",
   "language": "python",
   "name": "python3"
  },
  "language_info": {
   "codemirror_mode": {
    "name": "ipython",
    "version": 3
   },
   "file_extension": ".py",
   "mimetype": "text/x-python",
   "name": "python",
   "nbconvert_exporter": "python",
   "pygments_lexer": "ipython3",
   "version": "3.9.12"
  }
 },
 "nbformat": 4,
 "nbformat_minor": 5
}
